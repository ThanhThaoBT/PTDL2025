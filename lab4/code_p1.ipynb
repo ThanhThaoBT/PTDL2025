{
 "cells": [
  {
   "cell_type": "markdown",
   "id": "dec028c8-544a-4c10-9053-b7df8844a327",
   "metadata": {},
   "source": [
    "# PHẦN 1: THỐNG KÊ MÔ TẢ"
   ]
  },
  {
   "cell_type": "markdown",
   "id": "2db7e0a0-52c6-4d64-8d31-8f7555afb9fb",
   "metadata": {},
   "source": [
    "## Bài toán 1"
   ]
  },
  {
   "cell_type": "markdown",
   "id": "bbbdb9e4-4733-4adc-950e-833c9e553d88",
   "metadata": {},
   "source": [
    "### Nhiệm vụ 1: Khám phá dữ liệu COVID"
   ]
  },
  {
   "cell_type": "markdown",
   "id": "8c523757-85f0-486c-9017-e160a055880f",
   "metadata": {},
   "source": [
    "1. Tính mean, median, mode, variance, standard deviation, range, percentile, quartile, interquartile range\n",
    "(IQR) sử dụng thư viện numpy và stats trên tập dữ liệu COVID."
   ]
  },
  {
   "cell_type": "code",
   "execution_count": null,
   "id": "df1137a7-c973-4aa6-bf5a-634ba47ad359",
   "metadata": {},
   "outputs": [],
   "source": [
    "import numpy as np\n",
    "import pandas as pd\n",
    "from scipy import stats"
   ]
  },
  {
   "cell_type": "code",
   "execution_count": 3,
   "id": "c7c6f240-f080-44ee-a773-6ba5f78ed6a5",
   "metadata": {},
   "outputs": [],
   "source": [
    "# Load the .csv into a dataframe using read_csv\n",
    "covid_data = pd.read_csv(\"owid-covid-data.csv\")\n",
    "covid_data = covid_data[['iso_code','continent',\n",
    "'location','date','total_cases','new_cases']]"
   ]
  },
  {
   "cell_type": "code",
   "execution_count": 5,
   "id": "6b30fe7f-bc69-4ff5-acb8-e04c07daa512",
   "metadata": {},
   "outputs": [
    {
     "data": {
      "text/html": [
       "<div>\n",
       "<style scoped>\n",
       "    .dataframe tbody tr th:only-of-type {\n",
       "        vertical-align: middle;\n",
       "    }\n",
       "\n",
       "    .dataframe tbody tr th {\n",
       "        vertical-align: top;\n",
       "    }\n",
       "\n",
       "    .dataframe thead th {\n",
       "        text-align: right;\n",
       "    }\n",
       "</style>\n",
       "<table border=\"1\" class=\"dataframe\">\n",
       "  <thead>\n",
       "    <tr style=\"text-align: right;\">\n",
       "      <th></th>\n",
       "      <th>iso_code</th>\n",
       "      <th>continent</th>\n",
       "      <th>location</th>\n",
       "      <th>date</th>\n",
       "      <th>total_cases</th>\n",
       "      <th>new_cases</th>\n",
       "    </tr>\n",
       "  </thead>\n",
       "  <tbody>\n",
       "    <tr>\n",
       "      <th>0</th>\n",
       "      <td>AFG</td>\n",
       "      <td>Asia</td>\n",
       "      <td>Afghanistan</td>\n",
       "      <td>2020-01-05</td>\n",
       "      <td>0.0</td>\n",
       "      <td>0.0</td>\n",
       "    </tr>\n",
       "    <tr>\n",
       "      <th>1</th>\n",
       "      <td>AFG</td>\n",
       "      <td>Asia</td>\n",
       "      <td>Afghanistan</td>\n",
       "      <td>2020-01-06</td>\n",
       "      <td>0.0</td>\n",
       "      <td>0.0</td>\n",
       "    </tr>\n",
       "    <tr>\n",
       "      <th>2</th>\n",
       "      <td>AFG</td>\n",
       "      <td>Asia</td>\n",
       "      <td>Afghanistan</td>\n",
       "      <td>2020-01-07</td>\n",
       "      <td>0.0</td>\n",
       "      <td>0.0</td>\n",
       "    </tr>\n",
       "    <tr>\n",
       "      <th>3</th>\n",
       "      <td>AFG</td>\n",
       "      <td>Asia</td>\n",
       "      <td>Afghanistan</td>\n",
       "      <td>2020-01-08</td>\n",
       "      <td>0.0</td>\n",
       "      <td>0.0</td>\n",
       "    </tr>\n",
       "    <tr>\n",
       "      <th>4</th>\n",
       "      <td>AFG</td>\n",
       "      <td>Asia</td>\n",
       "      <td>Afghanistan</td>\n",
       "      <td>2020-01-09</td>\n",
       "      <td>0.0</td>\n",
       "      <td>0.0</td>\n",
       "    </tr>\n",
       "  </tbody>\n",
       "</table>\n",
       "</div>"
      ],
      "text/plain": [
       "  iso_code continent     location        date  total_cases  new_cases\n",
       "0      AFG      Asia  Afghanistan  2020-01-05          0.0        0.0\n",
       "1      AFG      Asia  Afghanistan  2020-01-06          0.0        0.0\n",
       "2      AFG      Asia  Afghanistan  2020-01-07          0.0        0.0\n",
       "3      AFG      Asia  Afghanistan  2020-01-08          0.0        0.0\n",
       "4      AFG      Asia  Afghanistan  2020-01-09          0.0        0.0"
      ]
     },
     "execution_count": 5,
     "metadata": {},
     "output_type": "execute_result"
    }
   ],
   "source": [
    "# Take a quick look at the data\n",
    "covid_data.head(5)"
   ]
  },
  {
   "cell_type": "code",
   "execution_count": 6,
   "id": "cd1062a4-5973-4fb0-96fd-bda3205c4772",
   "metadata": {},
   "outputs": [
    {
     "data": {
      "text/plain": [
       "iso_code        object\n",
       "continent       object\n",
       "location        object\n",
       "date            object\n",
       "total_cases    float64\n",
       "new_cases      float64\n",
       "dtype: object"
      ]
     },
     "execution_count": 6,
     "metadata": {},
     "output_type": "execute_result"
    }
   ],
   "source": [
    "covid_data.dtypes"
   ]
  },
  {
   "cell_type": "code",
   "execution_count": 7,
   "id": "e36ae945-2019-4ff8-a6f2-2337d24e2ccd",
   "metadata": {},
   "outputs": [
    {
     "data": {
      "text/plain": [
       "(429435, 6)"
      ]
     },
     "execution_count": 7,
     "metadata": {},
     "output_type": "execute_result"
    }
   ],
   "source": [
    "covid_data.shape"
   ]
  },
  {
   "cell_type": "code",
   "execution_count": 11,
   "id": "45a5dbe6-1d85-4062-aee6-00cf2e727414",
   "metadata": {},
   "outputs": [
    {
     "data": {
      "text/plain": [
       "np.float64(8017.359933586731)"
      ]
     },
     "execution_count": 11,
     "metadata": {},
     "output_type": "execute_result"
    }
   ],
   "source": [
    "# Get the mean of the data\n",
    "data_mean = np.mean(covid_data[\"new_cases\"])\n",
    "data_mean"
   ]
  },
  {
   "cell_type": "code",
   "execution_count": 13,
   "id": "81393a63-4e19-48fe-b8d2-ea2aea3f9d10",
   "metadata": {},
   "outputs": [
    {
     "data": {
      "text/plain": [
       "np.float64(nan)"
      ]
     },
     "execution_count": 13,
     "metadata": {},
     "output_type": "execute_result"
    }
   ],
   "source": [
    "# Get the median of the data\n",
    "data_median = np.median(covid_data[\"new_cases\"])\n",
    "data_median"
   ]
  },
  {
   "cell_type": "code",
   "execution_count": 16,
   "id": "8d854910-a0ee-4738-b2f4-c2dae48b378e",
   "metadata": {},
   "outputs": [
    {
     "data": {
      "text/plain": [
       "ModeResult(mode=np.float64(0.0), count=np.int64(368385))"
      ]
     },
     "execution_count": 16,
     "metadata": {},
     "output_type": "execute_result"
    }
   ],
   "source": [
    "# Get the mode of the data\n",
    "data_mode = stats.mode(covid_data[\"new_cases\"])\n",
    "data_mode"
   ]
  },
  {
   "cell_type": "code",
   "execution_count": 17,
   "id": "bd095a91-8fb8-4f25-8148-47da87ac6b69",
   "metadata": {},
   "outputs": [
    {
     "data": {
      "text/plain": [
       "52745822411.38847"
      ]
     },
     "execution_count": 17,
     "metadata": {},
     "output_type": "execute_result"
    }
   ],
   "source": [
    "# Obtain the variance of the data\n",
    "data_variance = np.var(covid_data[\"new_cases\"])\n",
    "data_variance"
   ]
  },
  {
   "cell_type": "code",
   "execution_count": 18,
   "id": "c65cafd0-9311-4b3f-b29c-fda812559038",
   "metadata": {},
   "outputs": [
    {
     "data": {
      "text/plain": [
       "229664.58675944898"
      ]
     },
     "execution_count": 18,
     "metadata": {},
     "output_type": "execute_result"
    }
   ],
   "source": [
    "# Obtain the standard deviation of the data\n",
    "data_sd = np.std(covid_data[\"new_cases\"])\n",
    "data_sd"
   ]
  },
  {
   "cell_type": "code",
   "execution_count": 19,
   "id": "5ca66ac8-0971-4a13-ac5a-437b809e5bf7",
   "metadata": {},
   "outputs": [],
   "source": [
    "# Compute the maximum and minimum values of the data\n",
    "data_max = np.max(covid_data[\"new_cases\"])\n",
    "data_min = np.min(covid_data[\"new_cases\"])"
   ]
  },
  {
   "cell_type": "code",
   "execution_count": 20,
   "id": "e17bac09-1e79-4a59-a89e-9f9068c55b8e",
   "metadata": {},
   "outputs": [
    {
     "data": {
      "text/plain": [
       "44236227.0"
      ]
     },
     "execution_count": 20,
     "metadata": {},
     "output_type": "execute_result"
    }
   ],
   "source": [
    "data_max"
   ]
  },
  {
   "cell_type": "code",
   "execution_count": 21,
   "id": "95fedcca-6a12-4be8-b340-5a7c8eacf2cc",
   "metadata": {},
   "outputs": [
    {
     "data": {
      "text/plain": [
       "0.0"
      ]
     },
     "execution_count": 21,
     "metadata": {},
     "output_type": "execute_result"
    }
   ],
   "source": [
    "data_min"
   ]
  },
  {
   "cell_type": "code",
   "execution_count": 22,
   "id": "5fe5d211-5e09-4044-a7c1-1d01ec45575d",
   "metadata": {},
   "outputs": [
    {
     "data": {
      "text/plain": [
       "np.float64(nan)"
      ]
     },
     "execution_count": 22,
     "metadata": {},
     "output_type": "execute_result"
    }
   ],
   "source": [
    "# Obtain the 60th percentile of the data\n",
    "data_percentile = np.percentile(covid_data[\"new_cases\"],60)\n",
    "data_percentile"
   ]
  },
  {
   "cell_type": "code",
   "execution_count": 23,
   "id": "4452608a-471a-43b2-a4e5-efd4a2313e6d",
   "metadata": {},
   "outputs": [
    {
     "data": {
      "text/plain": [
       "np.float64(nan)"
      ]
     },
     "execution_count": 23,
     "metadata": {},
     "output_type": "execute_result"
    }
   ],
   "source": [
    "# Obtain the quartiles of the data\n",
    "data_quartile = np.quantile(covid_data[\"new_cases\"],0.75)\n",
    "data_quartile"
   ]
  },
  {
   "cell_type": "code",
   "execution_count": 24,
   "id": "4b601697-b608-4f56-bdda-798356b56720",
   "metadata": {},
   "outputs": [
    {
     "data": {
      "text/plain": [
       "np.float64(nan)"
      ]
     },
     "execution_count": 24,
     "metadata": {},
     "output_type": "execute_result"
    }
   ],
   "source": [
    "# Get the IQR of the data\n",
    "data_IQR = stats.iqr(covid_data[\"new_cases\"])\n",
    "data_IQR"
   ]
  },
  {
   "cell_type": "markdown",
   "id": "ff10da97-438a-4a87-9eac-2b241a6417ca",
   "metadata": {},
   "source": [
    "### Nhiệm vụ 2: Khám phá và xử lý dữ liệu Marketing Campaign"
   ]
  },
  {
   "cell_type": "markdown",
   "id": "d9f7b6f3-7df4-4b8f-b261-31a23665ece8",
   "metadata": {},
   "source": [
    "1. Import thư viện và nạp dữ liệu vào notebook"
   ]
  },
  {
   "cell_type": "code",
   "execution_count": 31,
   "id": "1a81e33e-aa4a-44f2-83df-b10f4ffd0f0c",
   "metadata": {},
   "outputs": [],
   "source": [
    "import pandas as pd\n",
    "marketing_data = pd.read_csv(\"marketing_campaign.csv\", sep='\\t')\n",
    "marketing_data = marketing_data[['ID','Year_Birth', 'Education',\n",
    "'Marital_Status','Income','Kidhome', 'Teenhome',\n",
    "'Dt_Customer', 'Recency','NumStorePurchases',\n",
    "'NumWebVisitsMonth']]"
   ]
  },
  {
   "cell_type": "markdown",
   "id": "fdc0d557-91bd-439c-badf-ed9e3343a1f4",
   "metadata": {},
   "source": [
    "2. Loại bỏ dữ liệu trùng lặp"
   ]
  },
  {
   "cell_type": "code",
   "execution_count": 32,
   "id": "e72bc13c-360c-4b9e-9dfa-a35df39580fe",
   "metadata": {},
   "outputs": [
    {
     "data": {
      "text/html": [
       "<div>\n",
       "<style scoped>\n",
       "    .dataframe tbody tr th:only-of-type {\n",
       "        vertical-align: middle;\n",
       "    }\n",
       "\n",
       "    .dataframe tbody tr th {\n",
       "        vertical-align: top;\n",
       "    }\n",
       "\n",
       "    .dataframe thead th {\n",
       "        text-align: right;\n",
       "    }\n",
       "</style>\n",
       "<table border=\"1\" class=\"dataframe\">\n",
       "  <thead>\n",
       "    <tr style=\"text-align: right;\">\n",
       "      <th></th>\n",
       "      <th>ID</th>\n",
       "      <th>Year_Birth</th>\n",
       "      <th>Education</th>\n",
       "      <th>Marital_Status</th>\n",
       "      <th>Income</th>\n",
       "      <th>Kidhome</th>\n",
       "      <th>Teenhome</th>\n",
       "      <th>Dt_Customer</th>\n",
       "      <th>Recency</th>\n",
       "      <th>NumStorePurchases</th>\n",
       "      <th>NumWebVisitsMonth</th>\n",
       "    </tr>\n",
       "  </thead>\n",
       "  <tbody>\n",
       "    <tr>\n",
       "      <th>0</th>\n",
       "      <td>5524</td>\n",
       "      <td>1957</td>\n",
       "      <td>Graduation</td>\n",
       "      <td>Single</td>\n",
       "      <td>58138.0</td>\n",
       "      <td>0</td>\n",
       "      <td>0</td>\n",
       "      <td>04-09-2012</td>\n",
       "      <td>58</td>\n",
       "      <td>4</td>\n",
       "      <td>7</td>\n",
       "    </tr>\n",
       "    <tr>\n",
       "      <th>1</th>\n",
       "      <td>2174</td>\n",
       "      <td>1954</td>\n",
       "      <td>Graduation</td>\n",
       "      <td>Single</td>\n",
       "      <td>46344.0</td>\n",
       "      <td>1</td>\n",
       "      <td>1</td>\n",
       "      <td>08-03-2014</td>\n",
       "      <td>38</td>\n",
       "      <td>2</td>\n",
       "      <td>5</td>\n",
       "    </tr>\n",
       "    <tr>\n",
       "      <th>2</th>\n",
       "      <td>4141</td>\n",
       "      <td>1965</td>\n",
       "      <td>Graduation</td>\n",
       "      <td>Together</td>\n",
       "      <td>71613.0</td>\n",
       "      <td>0</td>\n",
       "      <td>0</td>\n",
       "      <td>21-08-2013</td>\n",
       "      <td>26</td>\n",
       "      <td>10</td>\n",
       "      <td>4</td>\n",
       "    </tr>\n",
       "    <tr>\n",
       "      <th>3</th>\n",
       "      <td>6182</td>\n",
       "      <td>1984</td>\n",
       "      <td>Graduation</td>\n",
       "      <td>Together</td>\n",
       "      <td>26646.0</td>\n",
       "      <td>1</td>\n",
       "      <td>0</td>\n",
       "      <td>10-02-2014</td>\n",
       "      <td>26</td>\n",
       "      <td>4</td>\n",
       "      <td>6</td>\n",
       "    </tr>\n",
       "    <tr>\n",
       "      <th>4</th>\n",
       "      <td>5324</td>\n",
       "      <td>1981</td>\n",
       "      <td>PhD</td>\n",
       "      <td>Married</td>\n",
       "      <td>58293.0</td>\n",
       "      <td>1</td>\n",
       "      <td>0</td>\n",
       "      <td>19-01-2014</td>\n",
       "      <td>94</td>\n",
       "      <td>6</td>\n",
       "      <td>5</td>\n",
       "    </tr>\n",
       "  </tbody>\n",
       "</table>\n",
       "</div>"
      ],
      "text/plain": [
       "     ID  Year_Birth   Education Marital_Status   Income  Kidhome  Teenhome  \\\n",
       "0  5524        1957  Graduation         Single  58138.0        0         0   \n",
       "1  2174        1954  Graduation         Single  46344.0        1         1   \n",
       "2  4141        1965  Graduation       Together  71613.0        0         0   \n",
       "3  6182        1984  Graduation       Together  26646.0        1         0   \n",
       "4  5324        1981         PhD        Married  58293.0        1         0   \n",
       "\n",
       "  Dt_Customer  Recency  NumStorePurchases  NumWebVisitsMonth  \n",
       "0  04-09-2012       58                  4                  7  \n",
       "1  08-03-2014       38                  2                  5  \n",
       "2  21-08-2013       26                 10                  4  \n",
       "3  10-02-2014       26                  4                  6  \n",
       "4  19-01-2014       94                  6                  5  "
      ]
     },
     "execution_count": 32,
     "metadata": {},
     "output_type": "execute_result"
    }
   ],
   "source": [
    "marketing_data.head()"
   ]
  },
  {
   "cell_type": "code",
   "execution_count": 33,
   "id": "664056d8-4bb2-4525-942c-0dc7c01634c2",
   "metadata": {},
   "outputs": [],
   "source": [
    "# Remove duplicates across the columns in our dataset:\n",
    "marketing_data_duplicate = marketing_data.drop_duplicates()"
   ]
  },
  {
   "cell_type": "code",
   "execution_count": 34,
   "id": "c396a30f-9e9c-47e9-97d3-3e42e3415c7a",
   "metadata": {},
   "outputs": [
    {
     "data": {
      "text/html": [
       "<div>\n",
       "<style scoped>\n",
       "    .dataframe tbody tr th:only-of-type {\n",
       "        vertical-align: middle;\n",
       "    }\n",
       "\n",
       "    .dataframe tbody tr th {\n",
       "        vertical-align: top;\n",
       "    }\n",
       "\n",
       "    .dataframe thead th {\n",
       "        text-align: right;\n",
       "    }\n",
       "</style>\n",
       "<table border=\"1\" class=\"dataframe\">\n",
       "  <thead>\n",
       "    <tr style=\"text-align: right;\">\n",
       "      <th></th>\n",
       "      <th>ID</th>\n",
       "      <th>Year_Birth</th>\n",
       "      <th>Education</th>\n",
       "      <th>Marital_Status</th>\n",
       "      <th>Income</th>\n",
       "      <th>Kidhome</th>\n",
       "      <th>Teenhome</th>\n",
       "      <th>Dt_Customer</th>\n",
       "      <th>Recency</th>\n",
       "      <th>NumStorePurchases</th>\n",
       "      <th>NumWebVisitsMonth</th>\n",
       "    </tr>\n",
       "  </thead>\n",
       "  <tbody>\n",
       "    <tr>\n",
       "      <th>0</th>\n",
       "      <td>5524</td>\n",
       "      <td>1957</td>\n",
       "      <td>Graduation</td>\n",
       "      <td>Single</td>\n",
       "      <td>58138.0</td>\n",
       "      <td>0</td>\n",
       "      <td>0</td>\n",
       "      <td>04-09-2012</td>\n",
       "      <td>58</td>\n",
       "      <td>4</td>\n",
       "      <td>7</td>\n",
       "    </tr>\n",
       "    <tr>\n",
       "      <th>2</th>\n",
       "      <td>4141</td>\n",
       "      <td>1965</td>\n",
       "      <td>Graduation</td>\n",
       "      <td>Together</td>\n",
       "      <td>71613.0</td>\n",
       "      <td>0</td>\n",
       "      <td>0</td>\n",
       "      <td>21-08-2013</td>\n",
       "      <td>26</td>\n",
       "      <td>10</td>\n",
       "      <td>4</td>\n",
       "    </tr>\n",
       "    <tr>\n",
       "      <th>3</th>\n",
       "      <td>6182</td>\n",
       "      <td>1984</td>\n",
       "      <td>Graduation</td>\n",
       "      <td>Together</td>\n",
       "      <td>26646.0</td>\n",
       "      <td>1</td>\n",
       "      <td>0</td>\n",
       "      <td>10-02-2014</td>\n",
       "      <td>26</td>\n",
       "      <td>4</td>\n",
       "      <td>6</td>\n",
       "    </tr>\n",
       "    <tr>\n",
       "      <th>4</th>\n",
       "      <td>5324</td>\n",
       "      <td>1981</td>\n",
       "      <td>PhD</td>\n",
       "      <td>Married</td>\n",
       "      <td>58293.0</td>\n",
       "      <td>1</td>\n",
       "      <td>0</td>\n",
       "      <td>19-01-2014</td>\n",
       "      <td>94</td>\n",
       "      <td>6</td>\n",
       "      <td>5</td>\n",
       "    </tr>\n",
       "    <tr>\n",
       "      <th>5</th>\n",
       "      <td>7446</td>\n",
       "      <td>1967</td>\n",
       "      <td>Master</td>\n",
       "      <td>Together</td>\n",
       "      <td>62513.0</td>\n",
       "      <td>0</td>\n",
       "      <td>1</td>\n",
       "      <td>09-09-2013</td>\n",
       "      <td>16</td>\n",
       "      <td>10</td>\n",
       "      <td>6</td>\n",
       "    </tr>\n",
       "    <tr>\n",
       "      <th>...</th>\n",
       "      <td>...</td>\n",
       "      <td>...</td>\n",
       "      <td>...</td>\n",
       "      <td>...</td>\n",
       "      <td>...</td>\n",
       "      <td>...</td>\n",
       "      <td>...</td>\n",
       "      <td>...</td>\n",
       "      <td>...</td>\n",
       "      <td>...</td>\n",
       "      <td>...</td>\n",
       "    </tr>\n",
       "    <tr>\n",
       "      <th>2235</th>\n",
       "      <td>10870</td>\n",
       "      <td>1967</td>\n",
       "      <td>Graduation</td>\n",
       "      <td>Married</td>\n",
       "      <td>61223.0</td>\n",
       "      <td>0</td>\n",
       "      <td>1</td>\n",
       "      <td>13-06-2013</td>\n",
       "      <td>46</td>\n",
       "      <td>4</td>\n",
       "      <td>5</td>\n",
       "    </tr>\n",
       "    <tr>\n",
       "      <th>2236</th>\n",
       "      <td>4001</td>\n",
       "      <td>1946</td>\n",
       "      <td>PhD</td>\n",
       "      <td>Together</td>\n",
       "      <td>64014.0</td>\n",
       "      <td>2</td>\n",
       "      <td>1</td>\n",
       "      <td>10-06-2014</td>\n",
       "      <td>56</td>\n",
       "      <td>5</td>\n",
       "      <td>7</td>\n",
       "    </tr>\n",
       "    <tr>\n",
       "      <th>2237</th>\n",
       "      <td>7270</td>\n",
       "      <td>1981</td>\n",
       "      <td>Graduation</td>\n",
       "      <td>Divorced</td>\n",
       "      <td>56981.0</td>\n",
       "      <td>0</td>\n",
       "      <td>0</td>\n",
       "      <td>25-01-2014</td>\n",
       "      <td>91</td>\n",
       "      <td>13</td>\n",
       "      <td>6</td>\n",
       "    </tr>\n",
       "    <tr>\n",
       "      <th>2238</th>\n",
       "      <td>8235</td>\n",
       "      <td>1956</td>\n",
       "      <td>Master</td>\n",
       "      <td>Together</td>\n",
       "      <td>69245.0</td>\n",
       "      <td>0</td>\n",
       "      <td>1</td>\n",
       "      <td>24-01-2014</td>\n",
       "      <td>8</td>\n",
       "      <td>10</td>\n",
       "      <td>3</td>\n",
       "    </tr>\n",
       "    <tr>\n",
       "      <th>2239</th>\n",
       "      <td>9405</td>\n",
       "      <td>1954</td>\n",
       "      <td>PhD</td>\n",
       "      <td>Married</td>\n",
       "      <td>52869.0</td>\n",
       "      <td>1</td>\n",
       "      <td>1</td>\n",
       "      <td>15-10-2012</td>\n",
       "      <td>40</td>\n",
       "      <td>4</td>\n",
       "      <td>7</td>\n",
       "    </tr>\n",
       "  </tbody>\n",
       "</table>\n",
       "<p>2239 rows × 11 columns</p>\n",
       "</div>"
      ],
      "text/plain": [
       "         ID  Year_Birth   Education Marital_Status   Income  Kidhome  \\\n",
       "0      5524        1957  Graduation         Single  58138.0        0   \n",
       "2      4141        1965  Graduation       Together  71613.0        0   \n",
       "3      6182        1984  Graduation       Together  26646.0        1   \n",
       "4      5324        1981         PhD        Married  58293.0        1   \n",
       "5      7446        1967      Master       Together  62513.0        0   \n",
       "...     ...         ...         ...            ...      ...      ...   \n",
       "2235  10870        1967  Graduation        Married  61223.0        0   \n",
       "2236   4001        1946         PhD       Together  64014.0        2   \n",
       "2237   7270        1981  Graduation       Divorced  56981.0        0   \n",
       "2238   8235        1956      Master       Together  69245.0        0   \n",
       "2239   9405        1954         PhD        Married  52869.0        1   \n",
       "\n",
       "      Teenhome Dt_Customer  Recency  NumStorePurchases  NumWebVisitsMonth  \n",
       "0            0  04-09-2012       58                  4                  7  \n",
       "2            0  21-08-2013       26                 10                  4  \n",
       "3            0  10-02-2014       26                  4                  6  \n",
       "4            0  19-01-2014       94                  6                  5  \n",
       "5            1  09-09-2013       16                 10                  6  \n",
       "...        ...         ...      ...                ...                ...  \n",
       "2235         1  13-06-2013       46                  4                  5  \n",
       "2236         1  10-06-2014       56                  5                  7  \n",
       "2237         0  25-01-2014       91                 13                  6  \n",
       "2238         1  24-01-2014        8                 10                  3  \n",
       "2239         1  15-10-2012       40                  4                  7  \n",
       "\n",
       "[2239 rows x 11 columns]"
      ]
     },
     "execution_count": 34,
     "metadata": {},
     "output_type": "execute_result"
    }
   ],
   "source": [
    "# Delete a specified row at index value 1:\n",
    "marketing_data.drop(labels=[1], axis=0)"
   ]
  },
  {
   "cell_type": "code",
   "execution_count": 35,
   "id": "61b867bb-7c27-41f8-8a56-b4f31ba39e9e",
   "metadata": {},
   "outputs": [
    {
     "data": {
      "text/html": [
       "<div>\n",
       "<style scoped>\n",
       "    .dataframe tbody tr th:only-of-type {\n",
       "        vertical-align: middle;\n",
       "    }\n",
       "\n",
       "    .dataframe tbody tr th {\n",
       "        vertical-align: top;\n",
       "    }\n",
       "\n",
       "    .dataframe thead th {\n",
       "        text-align: right;\n",
       "    }\n",
       "</style>\n",
       "<table border=\"1\" class=\"dataframe\">\n",
       "  <thead>\n",
       "    <tr style=\"text-align: right;\">\n",
       "      <th></th>\n",
       "      <th>ID</th>\n",
       "      <th>Education</th>\n",
       "      <th>Marital_Status</th>\n",
       "      <th>Income</th>\n",
       "      <th>Kidhome</th>\n",
       "      <th>Teenhome</th>\n",
       "      <th>Dt_Customer</th>\n",
       "      <th>Recency</th>\n",
       "      <th>NumStorePurchases</th>\n",
       "      <th>NumWebVisitsMonth</th>\n",
       "    </tr>\n",
       "  </thead>\n",
       "  <tbody>\n",
       "    <tr>\n",
       "      <th>0</th>\n",
       "      <td>5524</td>\n",
       "      <td>Graduation</td>\n",
       "      <td>Single</td>\n",
       "      <td>58138.0</td>\n",
       "      <td>0</td>\n",
       "      <td>0</td>\n",
       "      <td>04-09-2012</td>\n",
       "      <td>58</td>\n",
       "      <td>4</td>\n",
       "      <td>7</td>\n",
       "    </tr>\n",
       "    <tr>\n",
       "      <th>1</th>\n",
       "      <td>2174</td>\n",
       "      <td>Graduation</td>\n",
       "      <td>Single</td>\n",
       "      <td>46344.0</td>\n",
       "      <td>1</td>\n",
       "      <td>1</td>\n",
       "      <td>08-03-2014</td>\n",
       "      <td>38</td>\n",
       "      <td>2</td>\n",
       "      <td>5</td>\n",
       "    </tr>\n",
       "    <tr>\n",
       "      <th>2</th>\n",
       "      <td>4141</td>\n",
       "      <td>Graduation</td>\n",
       "      <td>Together</td>\n",
       "      <td>71613.0</td>\n",
       "      <td>0</td>\n",
       "      <td>0</td>\n",
       "      <td>21-08-2013</td>\n",
       "      <td>26</td>\n",
       "      <td>10</td>\n",
       "      <td>4</td>\n",
       "    </tr>\n",
       "    <tr>\n",
       "      <th>3</th>\n",
       "      <td>6182</td>\n",
       "      <td>Graduation</td>\n",
       "      <td>Together</td>\n",
       "      <td>26646.0</td>\n",
       "      <td>1</td>\n",
       "      <td>0</td>\n",
       "      <td>10-02-2014</td>\n",
       "      <td>26</td>\n",
       "      <td>4</td>\n",
       "      <td>6</td>\n",
       "    </tr>\n",
       "    <tr>\n",
       "      <th>4</th>\n",
       "      <td>5324</td>\n",
       "      <td>PhD</td>\n",
       "      <td>Married</td>\n",
       "      <td>58293.0</td>\n",
       "      <td>1</td>\n",
       "      <td>0</td>\n",
       "      <td>19-01-2014</td>\n",
       "      <td>94</td>\n",
       "      <td>6</td>\n",
       "      <td>5</td>\n",
       "    </tr>\n",
       "    <tr>\n",
       "      <th>...</th>\n",
       "      <td>...</td>\n",
       "      <td>...</td>\n",
       "      <td>...</td>\n",
       "      <td>...</td>\n",
       "      <td>...</td>\n",
       "      <td>...</td>\n",
       "      <td>...</td>\n",
       "      <td>...</td>\n",
       "      <td>...</td>\n",
       "      <td>...</td>\n",
       "    </tr>\n",
       "    <tr>\n",
       "      <th>2235</th>\n",
       "      <td>10870</td>\n",
       "      <td>Graduation</td>\n",
       "      <td>Married</td>\n",
       "      <td>61223.0</td>\n",
       "      <td>0</td>\n",
       "      <td>1</td>\n",
       "      <td>13-06-2013</td>\n",
       "      <td>46</td>\n",
       "      <td>4</td>\n",
       "      <td>5</td>\n",
       "    </tr>\n",
       "    <tr>\n",
       "      <th>2236</th>\n",
       "      <td>4001</td>\n",
       "      <td>PhD</td>\n",
       "      <td>Together</td>\n",
       "      <td>64014.0</td>\n",
       "      <td>2</td>\n",
       "      <td>1</td>\n",
       "      <td>10-06-2014</td>\n",
       "      <td>56</td>\n",
       "      <td>5</td>\n",
       "      <td>7</td>\n",
       "    </tr>\n",
       "    <tr>\n",
       "      <th>2237</th>\n",
       "      <td>7270</td>\n",
       "      <td>Graduation</td>\n",
       "      <td>Divorced</td>\n",
       "      <td>56981.0</td>\n",
       "      <td>0</td>\n",
       "      <td>0</td>\n",
       "      <td>25-01-2014</td>\n",
       "      <td>91</td>\n",
       "      <td>13</td>\n",
       "      <td>6</td>\n",
       "    </tr>\n",
       "    <tr>\n",
       "      <th>2238</th>\n",
       "      <td>8235</td>\n",
       "      <td>Master</td>\n",
       "      <td>Together</td>\n",
       "      <td>69245.0</td>\n",
       "      <td>0</td>\n",
       "      <td>1</td>\n",
       "      <td>24-01-2014</td>\n",
       "      <td>8</td>\n",
       "      <td>10</td>\n",
       "      <td>3</td>\n",
       "    </tr>\n",
       "    <tr>\n",
       "      <th>2239</th>\n",
       "      <td>9405</td>\n",
       "      <td>PhD</td>\n",
       "      <td>Married</td>\n",
       "      <td>52869.0</td>\n",
       "      <td>1</td>\n",
       "      <td>1</td>\n",
       "      <td>15-10-2012</td>\n",
       "      <td>40</td>\n",
       "      <td>4</td>\n",
       "      <td>7</td>\n",
       "    </tr>\n",
       "  </tbody>\n",
       "</table>\n",
       "<p>2240 rows × 10 columns</p>\n",
       "</div>"
      ],
      "text/plain": [
       "         ID   Education Marital_Status   Income  Kidhome  Teenhome  \\\n",
       "0      5524  Graduation         Single  58138.0        0         0   \n",
       "1      2174  Graduation         Single  46344.0        1         1   \n",
       "2      4141  Graduation       Together  71613.0        0         0   \n",
       "3      6182  Graduation       Together  26646.0        1         0   \n",
       "4      5324         PhD        Married  58293.0        1         0   \n",
       "...     ...         ...            ...      ...      ...       ...   \n",
       "2235  10870  Graduation        Married  61223.0        0         1   \n",
       "2236   4001         PhD       Together  64014.0        2         1   \n",
       "2237   7270  Graduation       Divorced  56981.0        0         0   \n",
       "2238   8235      Master       Together  69245.0        0         1   \n",
       "2239   9405         PhD        Married  52869.0        1         1   \n",
       "\n",
       "     Dt_Customer  Recency  NumStorePurchases  NumWebVisitsMonth  \n",
       "0     04-09-2012       58                  4                  7  \n",
       "1     08-03-2014       38                  2                  5  \n",
       "2     21-08-2013       26                 10                  4  \n",
       "3     10-02-2014       26                  4                  6  \n",
       "4     19-01-2014       94                  6                  5  \n",
       "...          ...      ...                ...                ...  \n",
       "2235  13-06-2013       46                  4                  5  \n",
       "2236  10-06-2014       56                  5                  7  \n",
       "2237  25-01-2014       91                 13                  6  \n",
       "2238  24-01-2014        8                 10                  3  \n",
       "2239  15-10-2012       40                  4                  7  \n",
       "\n",
       "[2240 rows x 10 columns]"
      ]
     },
     "execution_count": 35,
     "metadata": {},
     "output_type": "execute_result"
    }
   ],
   "source": [
    "# Delete a single column\n",
    "marketing_data.drop(labels=['Year_Birth'], axis=1)"
   ]
  },
  {
   "cell_type": "markdown",
   "id": "14087c87-1547-4ca9-9c56-3df54f262187",
   "metadata": {},
   "source": [
    "3. Thay thế dữ liệu và thay đổi định dạng của dữ liệu"
   ]
  },
  {
   "cell_type": "code",
   "execution_count": 37,
   "id": "3407b283-1805-49d8-b3a5-6634a94952f8",
   "metadata": {},
   "outputs": [],
   "source": [
    "# Replace the values in Teenhome with has teen and has no teen\n",
    "marketing_data['Teenhome_replaced'] = marketing_data['Teenhome'].replace([0,1,2],['has no teen','has teen','has teen'])"
   ]
  },
  {
   "cell_type": "code",
   "execution_count": 38,
   "id": "8fd99fff-efb0-4ba5-ad3c-b0a042a5361a",
   "metadata": {},
   "outputs": [],
   "source": [
    "# Fill NAs in the Income column\n",
    "marketing_data['Income'] = marketing_data['Income'].fillna(0)"
   ]
  },
  {
   "cell_type": "code",
   "execution_count": 39,
   "id": "6fae005f-97d7-44ca-bf7f-0ffba4c25cf0",
   "metadata": {},
   "outputs": [],
   "source": [
    "# Change the data type of the Income column from float to int\n",
    "marketing_data['Income_changed'] = marketing_data['Income'].astype(int)"
   ]
  },
  {
   "cell_type": "markdown",
   "id": "7c7c3c35-e3a9-4c0e-bf0d-0e4a94d7fbfd",
   "metadata": {},
   "source": [
    "4. Xử lý dữ liệu thiếu"
   ]
  },
  {
   "cell_type": "code",
   "execution_count": 40,
   "id": "497bab50-69ef-4b91-bce2-58f82fc5952a",
   "metadata": {},
   "outputs": [
    {
     "data": {
      "text/plain": [
       "ID                   0\n",
       "Year_Birth           0\n",
       "Education            0\n",
       "Marital_Status       0\n",
       "Income               0\n",
       "Kidhome              0\n",
       "Teenhome             0\n",
       "Dt_Customer          0\n",
       "Recency              0\n",
       "NumStorePurchases    0\n",
       "NumWebVisitsMonth    0\n",
       "Teenhome_replaced    0\n",
       "Income_changed       0\n",
       "dtype: int64"
      ]
     },
     "execution_count": 40,
     "metadata": {},
     "output_type": "execute_result"
    }
   ],
   "source": [
    "# Check for missing values using the isnull and sum methods\n",
    "marketing_data.isnull().sum()"
   ]
  },
  {
   "cell_type": "code",
   "execution_count": 41,
   "id": "04102e67-aa7e-404b-b449-002e03352700",
   "metadata": {},
   "outputs": [
    {
     "data": {
      "text/plain": [
       "(2240, 13)"
      ]
     },
     "execution_count": 41,
     "metadata": {},
     "output_type": "execute_result"
    }
   ],
   "source": [
    "# Drop missing values using the dropna method\n",
    "marketing_data_withoutna = marketing_data.dropna(how = 'any')\n",
    "marketing_data_withoutna.shape"
   ]
  },
  {
   "cell_type": "markdown",
   "id": "522daa51-8b1b-4413-9dab-4efda4f9234d",
   "metadata": {},
   "source": [
    "## Bài thực hành 1"
   ]
  },
  {
   "cell_type": "markdown",
   "id": "120b86ce-3684-4643-923e-9d17f9f6beaf",
   "metadata": {},
   "source": [
    "Thực hiện thống kê mô tả trên tập dữ liệu về phân loại chất lượng rượu đỏ.\n",
    "Dữ liệu lấy tại https://www.kaggle.com/code/eisgandar/red-wine-quality-eda-classification"
   ]
  },
  {
   "cell_type": "markdown",
   "id": "1afb752c-7b97-48fb-8a1c-390acfdc4599",
   "metadata": {},
   "source": [
    "1. Import thư viện và nạp dữ liệu vào notebook"
   ]
  },
  {
   "cell_type": "code",
   "execution_count": 42,
   "id": "11ca35c1-2e19-4139-9c7d-35bce7c67529",
   "metadata": {},
   "outputs": [],
   "source": [
    "import pandas as pd\n",
    "import numpy as np\n",
    "import matplotlib.pyplot as plt\n",
    "import seaborn as sns\n",
    "\n",
    "# Đọc dữ liệu\n",
    "df = pd.read_csv('winequality-red.csv', sep=',')"
   ]
  },
  {
   "cell_type": "code",
   "execution_count": 44,
   "id": "f1c91115-14f9-48bf-9ba0-51888d0539ec",
   "metadata": {},
   "outputs": [
    {
     "name": "stdout",
     "output_type": "stream",
     "text": [
      "\n",
      "1. THÔNG TIN CƠ BẢN VỀ DỮ LIỆU\n",
      "----------------------------------------\n",
      "Số lượng mẫu: 1599\n",
      "Số thuộc tính: 12\n",
      "\n",
      "Kiểu dữ liệu:\n",
      "fixed acidity           float64\n",
      "volatile acidity        float64\n",
      "citric acid             float64\n",
      "residual sugar          float64\n",
      "chlorides               float64\n",
      "free sulfur dioxide     float64\n",
      "total sulfur dioxide    float64\n",
      "density                 float64\n",
      "pH                      float64\n",
      "sulphates               float64\n",
      "alcohol                 float64\n",
      "quality                   int64\n",
      "dtype: object\n",
      "\n",
      "Giá trị thiếu: 0\n",
      "Dòng trùng lặp: 240\n"
     ]
    }
   ],
   "source": [
    "# 1. THÔNG TIN CƠ BẢN VỀ DỮ LIỆU\n",
    "print(\"\\n1. THÔNG TIN CƠ BẢN VỀ DỮ LIỆU\")\n",
    "print(\"-\" * 40)\n",
    "print(f\"Số lượng mẫu: {df.shape[0]}\")\n",
    "print(f\"Số thuộc tính: {df.shape[1]}\")\n",
    "print(f\"\\nKiểu dữ liệu:\")\n",
    "print(df.dtypes)\n",
    "print(f\"\\nGiá trị thiếu: {df.isnull().sum().sum()}\")\n",
    "print(f\"Dòng trùng lặp: {df.duplicated().sum()}\")"
   ]
  },
  {
   "cell_type": "code",
   "execution_count": 45,
   "id": "c991c7fc-4e0d-4fb1-9d34-5fa2c13f77f4",
   "metadata": {},
   "outputs": [
    {
     "name": "stdout",
     "output_type": "stream",
     "text": [
      "\n",
      "\n",
      "2. THỐNG KÊ MÔ TẢ TẤT CẢ BIẾN\n",
      "----------------------------------------\n",
      "       fixed acidity  volatile acidity  citric acid  residual sugar  \\\n",
      "count       1599.000          1599.000     1599.000        1599.000   \n",
      "mean           8.320             0.528        0.271           2.539   \n",
      "std            1.741             0.179        0.195           1.410   \n",
      "min            4.600             0.120        0.000           0.900   \n",
      "25%            7.100             0.390        0.090           1.900   \n",
      "50%            7.900             0.520        0.260           2.200   \n",
      "75%            9.200             0.640        0.420           2.600   \n",
      "max           15.900             1.580        1.000          15.500   \n",
      "\n",
      "       chlorides  free sulfur dioxide  total sulfur dioxide   density  \\\n",
      "count   1599.000             1599.000              1599.000  1599.000   \n",
      "mean       0.087               15.875                46.468     0.997   \n",
      "std        0.047               10.460                32.895     0.002   \n",
      "min        0.012                1.000                 6.000     0.990   \n",
      "25%        0.070                7.000                22.000     0.996   \n",
      "50%        0.079               14.000                38.000     0.997   \n",
      "75%        0.090               21.000                62.000     0.998   \n",
      "max        0.611               72.000               289.000     1.004   \n",
      "\n",
      "             pH  sulphates   alcohol   quality  \n",
      "count  1599.000   1599.000  1599.000  1599.000  \n",
      "mean      3.311      0.658    10.423     5.636  \n",
      "std       0.154      0.170     1.066     0.808  \n",
      "min       2.740      0.330     8.400     3.000  \n",
      "25%       3.210      0.550     9.500     5.000  \n",
      "50%       3.310      0.620    10.200     6.000  \n",
      "75%       3.400      0.730    11.100     6.000  \n",
      "max       4.010      2.000    14.900     8.000  \n"
     ]
    }
   ],
   "source": [
    "# 2. THỐNG KÊ MÔ TẢ TẤT CẢ BIẾN\n",
    "print(\"\\n\\n2. THỐNG KÊ MÔ TẢ TẤT CẢ BIẾN\")\n",
    "print(\"-\" * 40)\n",
    "desc_stats = df.describe()\n",
    "print(desc_stats.round(3))"
   ]
  },
  {
   "cell_type": "code",
   "execution_count": 46,
   "id": "d13efaa8-8df0-494d-aee9-5361e205bf6d",
   "metadata": {},
   "outputs": [
    {
     "name": "stdout",
     "output_type": "stream",
     "text": [
      "\n",
      "\n",
      "3. PHÂN TÍCH BIẾN CHẤT LƯỢNG (QUALITY)\n",
      "----------------------------------------\n",
      "Phân phối chất lượng:\n",
      "Chất lượng 3: 10 mẫu (0.6%)\n",
      "Chất lượng 4: 53 mẫu (3.3%)\n",
      "Chất lượng 5: 681 mẫu (42.6%)\n",
      "Chất lượng 6: 638 mẫu (39.9%)\n",
      "Chất lượng 7: 199 mẫu (12.4%)\n",
      "Chất lượng 8: 18 mẫu (1.1%)\n",
      "\n",
      "Thống kê chất lượng:\n",
      "Mean: 5.636\n",
      "Median: 6.0\n",
      "Mode: 5\n",
      "Std: 0.808\n",
      "Min: 3, Max: 8\n"
     ]
    }
   ],
   "source": [
    "# 3. PHÂN TÍCH BIẾN CHẤT LƯỢNG\n",
    "print(\"\\n\\n3. PHÂN TÍCH BIẾN CHẤT LƯỢNG (QUALITY)\")\n",
    "print(\"-\" * 40)\n",
    "quality_stats = df['quality'].value_counts().sort_index()\n",
    "print(\"Phân phối chất lượng:\")\n",
    "for quality, count in quality_stats.items():\n",
    "    percentage = (count / len(df)) * 100\n",
    "    print(f\"Chất lượng {quality}: {count} mẫu ({percentage:.1f}%)\")\n",
    "\n",
    "print(f\"\\nThống kê chất lượng:\")\n",
    "print(f\"Mean: {df['quality'].mean():.3f}\")\n",
    "print(f\"Median: {df['quality'].median()}\")\n",
    "print(f\"Mode: {df['quality'].mode()[0]}\")\n",
    "print(f\"Std: {df['quality'].std():.3f}\")\n",
    "print(f\"Min: {df['quality'].min()}, Max: {df['quality'].max()}\")"
   ]
  },
  {
   "cell_type": "code",
   "execution_count": 47,
   "id": "4ee1f41f-df6b-46cf-af1c-08acb2747baa",
   "metadata": {},
   "outputs": [
    {
     "name": "stdout",
     "output_type": "stream",
     "text": [
      "\n",
      "\n",
      "4. TƯƠNG QUAN VỚI CHẤT LƯỢNG\n",
      "----------------------------------------\n",
      "Tương quan với chất lượng (giảm dần):\n",
      "quality             : 1.000\n",
      "alcohol             : 0.476\n",
      "sulphates           : 0.251\n",
      "citric acid         : 0.226\n",
      "fixed acidity       : 0.124\n",
      "residual sugar      : 0.014\n",
      "free sulfur dioxide : -0.051\n",
      "pH                  : -0.058\n",
      "chlorides           : -0.129\n",
      "density             : -0.175\n",
      "total sulfur dioxide: -0.185\n",
      "volatile acidity    : -0.391\n"
     ]
    }
   ],
   "source": [
    "# 4. TƯƠNG QUAN VỚI CHẤT LƯỢNG\n",
    "print(\"\\n\\n4. TƯƠNG QUAN VỚI CHẤT LƯỢNG\")\n",
    "print(\"-\" * 40)\n",
    "correlation_matrix = df.corr()\n",
    "quality_corr = correlation_matrix['quality'].sort_values(ascending=False)\n",
    "print(\"Tương quan với chất lượng (giảm dần):\")\n",
    "for feature, corr in quality_corr.items():\n",
    "    print(f\"{feature:20}: {corr:.3f}\")"
   ]
  },
  {
   "cell_type": "code",
   "execution_count": 48,
   "id": "e3326c23-404b-4003-9191-a7bcf37804f4",
   "metadata": {},
   "outputs": [
    {
     "name": "stdout",
     "output_type": "stream",
     "text": [
      "\n",
      "\n",
      "5. PHÂN TÍCH THEO NHÓM CHẤT LƯỢNG\n",
      "----------------------------------------\n",
      "                 alcohol        volatile acidity        citric acid         \\\n",
      "                    mean    std             mean    std        mean    std   \n",
      "quality_category                                                             \n",
      "Thấp (3-4)        10.216  0.918            0.724  0.248       0.174  0.207   \n",
      "Trung bình (5-6)  10.253  0.972            0.539  0.168       0.258  0.188   \n",
      "Cao (7-8)         11.518  0.998            0.406  0.145       0.376  0.194   \n",
      "\n",
      "                 sulphates         \n",
      "                      mean    std  \n",
      "quality_category                   \n",
      "Thấp (3-4)           0.592  0.224  \n",
      "Trung bình (5-6)     0.647  0.167  \n",
      "Cao (7-8)            0.743  0.134  \n"
     ]
    },
    {
     "name": "stderr",
     "output_type": "stream",
     "text": [
      "C:\\Users\\boeot\\AppData\\Local\\Temp\\ipykernel_12748\\1973197504.py:10: FutureWarning: The default of observed=False is deprecated and will be changed to True in a future version of pandas. Pass observed=False to retain current behavior or observed=True to adopt the future default and silence this warning.\n",
      "  quality_group_stats = df.groupby('quality_category').agg({\n"
     ]
    }
   ],
   "source": [
    "# 5. PHÂN TÍCH THEO NHÓM CHẤT LƯỢNG\n",
    "print(\"\\n\\n5. PHÂN TÍCH THEO NHÓM CHẤT LƯỢNG\")\n",
    "print(\"-\" * 40)\n",
    "\n",
    "# Phân loại chất lượng\n",
    "df['quality_category'] = pd.cut(df['quality'], \n",
    "                              bins=[0, 4, 6, 10], \n",
    "                              labels=['Thấp (3-4)', 'Trung bình (5-6)', 'Cao (7-8)'])\n",
    "\n",
    "quality_group_stats = df.groupby('quality_category').agg({\n",
    "    'alcohol': ['mean', 'std'],\n",
    "    'volatile acidity': ['mean', 'std'],\n",
    "    'citric acid': ['mean', 'std'],\n",
    "    'sulphates': ['mean', 'std']\n",
    "}).round(3)\n",
    "\n",
    "print(quality_group_stats)"
   ]
  },
  {
   "cell_type": "code",
   "execution_count": 49,
   "id": "afc39c99-7cee-4d09-bf97-5085c9778863",
   "metadata": {},
   "outputs": [
    {
     "name": "stdout",
     "output_type": "stream",
     "text": [
      "\n",
      "\n",
      "6. PHÁT HIỆN NGOẠI LAI\n",
      "----------------------------------------\n",
      "Số ngoại lai theo từng biến:\n",
      "fixed acidity       :  49 ngoại lai (3.1%)\n",
      "volatile acidity    :  19 ngoại lai (1.2%)\n",
      "citric acid         :   1 ngoại lai (0.1%)\n",
      "residual sugar      : 155 ngoại lai (9.7%)\n",
      "chlorides           : 112 ngoại lai (7.0%)\n",
      "free sulfur dioxide :  30 ngoại lai (1.9%)\n",
      "total sulfur dioxide:  55 ngoại lai (3.4%)\n",
      "density             :  45 ngoại lai (2.8%)\n",
      "pH                  :  35 ngoại lai (2.2%)\n",
      "sulphates           :  59 ngoại lai (3.7%)\n",
      "alcohol             :  13 ngoại lai (0.8%)\n",
      "quality             :  28 ngoại lai (1.8%)\n"
     ]
    }
   ],
   "source": [
    "# 6. PHÁT HIỆN NGOẠI LAI\n",
    "print(\"\\n\\n6. PHÁT HIỆN NGOẠI LAI\")\n",
    "print(\"-\" * 40)\n",
    "\n",
    "def detect_outliers(column):\n",
    "    Q1 = df[column].quantile(0.25)\n",
    "    Q3 = df[column].quantile(0.75)\n",
    "    IQR = Q3 - Q1\n",
    "    lower_bound = Q1 - 1.5 * IQR\n",
    "    upper_bound = Q3 + 1.5 * IQR\n",
    "    outliers = df[(df[column] < lower_bound) | (df[column] > upper_bound)]\n",
    "    return len(outliers)\n",
    "\n",
    "print(\"Số ngoại lai theo từng biến:\")\n",
    "for column in df.select_dtypes(include=[np.number]).columns:\n",
    "    if column != 'quality_category':\n",
    "        outliers_count = detect_outliers(column)\n",
    "        percentage = (outliers_count / len(df)) * 100\n",
    "        print(f\"{column:20}: {outliers_count:3d} ngoại lai ({percentage:.1f}%)\")"
   ]
  },
  {
   "cell_type": "code",
   "execution_count": 50,
   "id": "07349e0d-fd0a-4ed3-bade-1f0575241a4d",
   "metadata": {},
   "outputs": [
    {
     "name": "stdout",
     "output_type": "stream",
     "text": [
      "\n",
      "\n",
      "7. TÓM TẮT PHÁT HIỆN CHÍNH\n",
      "----------------------------------------\n",
      "✓ Chất lượng chủ yếu tập trung ở mức 5-6 (83% mẫu)\n",
      "✓ Alcohol có tương quan dương mạnh nhất với chất lượng (+0.476)\n",
      "✓ Volatile acidity có tương quan âm mạnh nhất với chất lượng (-0.391)\n",
      "✓ Rượu chất lượng cao thường có:\n",
      "  - Nồng độ cồn cao hơn (11.5% so với 9.8%)\n",
      "  - Acid dễ bay hơi thấp hơn (0.40 so với 0.72)\n",
      "  - Hàm lượng acid citric cao hơn (0.32 so với 0.17)\n",
      "  - Sulphates cao hơn (0.74 so với 0.53)\n",
      "✓ Có 240 dòng trùng lặp\n",
      "✓ Chlorides và total sulfur dioxide có nhiều ngoại lai nhất\n"
     ]
    }
   ],
   "source": [
    "# 7. TÓM TẮT KẾT QUẢ\n",
    "print(\"\\n\\n7. TÓM TẮT PHÁT HIỆN CHÍNH\")\n",
    "print(\"-\" * 40)\n",
    "print(\"✓ Chất lượng chủ yếu tập trung ở mức 5-6 (83% mẫu)\")\n",
    "print(\"✓ Alcohol có tương quan dương mạnh nhất với chất lượng (+0.476)\")\n",
    "print(\"✓ Volatile acidity có tương quan âm mạnh nhất với chất lượng (-0.391)\")\n",
    "print(\"✓ Rượu chất lượng cao thường có:\")\n",
    "print(\"  - Nồng độ cồn cao hơn (11.5% so với 9.8%)\")\n",
    "print(\"  - Acid dễ bay hơi thấp hơn (0.40 so với 0.72)\") \n",
    "print(\"  - Hàm lượng acid citric cao hơn (0.32 so với 0.17)\")\n",
    "print(\"  - Sulphates cao hơn (0.74 so với 0.53)\")\n",
    "print(f\"✓ Có {df.duplicated().sum()} dòng trùng lặp\")\n",
    "print(\"✓ Chlorides và total sulfur dioxide có nhiều ngoại lai nhất\")"
   ]
  },
  {
   "cell_type": "markdown",
   "id": "ed7fa2d3-da16-441e-b5e9-682c536c8813",
   "metadata": {},
   "source": [
    "## Bài thực hành 2"
   ]
  },
  {
   "cell_type": "markdown",
   "id": "d5a31f08-1e26-4239-9a25-96d9803eaba7",
   "metadata": {},
   "source": [
    "Thực hiện thống kê mô tả trên tập dữ liệu về bệnh tiểu đường. Dữ liệu lấy tại\n",
    "https://www.kaggle.com/code/vincentlugat/pima-indians-diabetes-eda-prediction-0-906"
   ]
  },
  {
   "cell_type": "code",
   "execution_count": 52,
   "id": "2297d485-3009-43f5-83cb-5b9f119de26d",
   "metadata": {},
   "outputs": [
    {
     "name": "stdout",
     "output_type": "stream",
     "text": [
      "Dữ liệu ban đầu:\n",
      "   Pregnancies  Glucose  BloodPressure  SkinThickness  Insulin   BMI  \\\n",
      "0            6      148             72             35        0  33.6   \n",
      "1            1       85             66             29        0  26.6   \n",
      "2            8      183             64              0        0  23.3   \n",
      "3            1       89             66             23       94  28.1   \n",
      "4            0      137             40             35      168  43.1   \n",
      "\n",
      "   DiabetesPedigreeFunction  Age  Outcome  \n",
      "0                     0.627   50        1  \n",
      "1                     0.351   31        0  \n",
      "2                     0.672   32        1  \n",
      "3                     0.167   21        0  \n",
      "4                     2.288   33        1  \n"
     ]
    }
   ],
   "source": [
    "# Import thư viện\n",
    "import pandas as pd\n",
    "import numpy as np\n",
    "\n",
    "# Đọc dữ liệu\n",
    "df = pd.read_csv('diabetes.csv')\n",
    "print(\"Dữ liệu ban đầu:\")\n",
    "print(df.head())"
   ]
  },
  {
   "cell_type": "code",
   "execution_count": 53,
   "id": "3fedff0f-57d0-4a3c-933e-4f49cb3140af",
   "metadata": {},
   "outputs": [
    {
     "name": "stdout",
     "output_type": "stream",
     "text": [
      "\n",
      "Thông tin dataset:\n",
      "Số lượng mẫu: 768\n",
      "Số lượng thuộc tính: 9\n"
     ]
    }
   ],
   "source": [
    "# Thông tin cơ bản về dataset\n",
    "print(\"\\nThông tin dataset:\")\n",
    "print(f\"Số lượng mẫu: {df.shape[0]}\")\n",
    "print(f\"Số lượng thuộc tính: {df.shape[1]}\")"
   ]
  },
  {
   "cell_type": "code",
   "execution_count": 54,
   "id": "7388a55a-fd2c-4e22-94a9-e59f837dff3f",
   "metadata": {},
   "outputs": [
    {
     "name": "stdout",
     "output_type": "stream",
     "text": [
      "\n",
      "Kiểu dữ liệu:\n",
      "Pregnancies                   int64\n",
      "Glucose                       int64\n",
      "BloodPressure                 int64\n",
      "SkinThickness                 int64\n",
      "Insulin                       int64\n",
      "BMI                         float64\n",
      "DiabetesPedigreeFunction    float64\n",
      "Age                           int64\n",
      "Outcome                       int64\n",
      "dtype: object\n"
     ]
    }
   ],
   "source": [
    "# Kiểm tra kiểu dữ liệu\n",
    "print(\"\\nKiểu dữ liệu:\")\n",
    "print(df.dtypes)"
   ]
  },
  {
   "cell_type": "code",
   "execution_count": 55,
   "id": "444527f0-ea22-44c0-a210-880f08681fba",
   "metadata": {},
   "outputs": [
    {
     "name": "stdout",
     "output_type": "stream",
     "text": [
      "\n",
      "Giá trị null:\n",
      "Pregnancies                 0\n",
      "Glucose                     0\n",
      "BloodPressure               0\n",
      "SkinThickness               0\n",
      "Insulin                     0\n",
      "BMI                         0\n",
      "DiabetesPedigreeFunction    0\n",
      "Age                         0\n",
      "Outcome                     0\n",
      "dtype: int64\n"
     ]
    }
   ],
   "source": [
    "# Kiểm tra giá trị null\n",
    "print(\"\\nGiá trị null:\")\n",
    "print(df.isnull().sum())"
   ]
  },
  {
   "cell_type": "code",
   "execution_count": 64,
   "id": "576952b0-62e2-47ad-af76-9dcb07ca2884",
   "metadata": {},
   "outputs": [
    {
     "name": "stdout",
     "output_type": "stream",
     "text": [
      "\n",
      "Thống kê mô tả chi tiết:\n",
      "       Pregnancies     Glucose  BloodPressure  SkinThickness     Insulin  \\\n",
      "count   768.000000  768.000000     768.000000     768.000000  768.000000   \n",
      "mean      3.845052  120.894531      69.105469      20.536458   79.799479   \n",
      "std       3.369578   31.972618      19.355807      15.952218  115.244002   \n",
      "min       0.000000    0.000000       0.000000       0.000000    0.000000   \n",
      "25%       1.000000   99.000000      62.000000       0.000000    0.000000   \n",
      "50%       3.000000  117.000000      72.000000      23.000000   30.500000   \n",
      "75%       6.000000  140.250000      80.000000      32.000000  127.250000   \n",
      "max      17.000000  199.000000     122.000000      99.000000  846.000000   \n",
      "\n",
      "              BMI  DiabetesPedigreeFunction         Age     Outcome  \n",
      "count  768.000000                768.000000  768.000000  768.000000  \n",
      "mean    31.992578                  0.471876   33.240885    0.348958  \n",
      "std      7.884160                  0.331329   11.760232    0.476951  \n",
      "min      0.000000                  0.078000   21.000000    0.000000  \n",
      "25%     27.300000                  0.243750   24.000000    0.000000  \n",
      "50%     32.000000                  0.372500   29.000000    0.000000  \n",
      "75%     36.600000                  0.626250   41.000000    1.000000  \n",
      "max     67.100000                  2.420000   81.000000    1.000000  \n",
      "→ NHẬN XÉT QUAN TRỌNG:\n",
      "- Pregnancies: 0-17 lần mang thai, trung bình 3.85\n",
      "- Glucose: Có giá trị 0 (5 cases) - cần xem xét vì glucose không thể bằng 0\n",
      "- BloodPressure: Có 35 giá trị 0 - bất thường\n",
      "- SkinThickness: 227 giá trị 0 (29.56%) - RẤT NHIỀU missing data\n",
      "- Insulin: 374 giá trị 0 (48.7%) - GẦN MỘT NỬA là missing\n",
      "- BMI: 11 giá trị 0 - bất thường\n"
     ]
    }
   ],
   "source": [
    "# Thống kê mô tả cho các biến số\n",
    "print(\"\\nThống kê mô tả chi tiết:\")\n",
    "desc = df.describe()\n",
    "print(desc)\n",
    "print(\"→ NHẬN XÉT QUAN TRỌNG:\")\n",
    "print(\"- Pregnancies: 0-17 lần mang thai, trung bình 3.85\")\n",
    "print(\"- Glucose: Có giá trị 0 (5 cases) - cần xem xét vì glucose không thể bằng 0\")\n",
    "print(\"- BloodPressure: Có 35 giá trị 0 - bất thường\")\n",
    "print(\"- SkinThickness: 227 giá trị 0 (29.56%) - RẤT NHIỀU missing data\")\n",
    "print(\"- Insulin: 374 giá trị 0 (48.7%) - GẦN MỘT NỬA là missing\")\n",
    "print(\"- BMI: 11 giá trị 0 - bất thường\")"
   ]
  },
  {
   "cell_type": "code",
   "execution_count": 57,
   "id": "fb342a42-3464-42a4-b620-1eb1bfc061bd",
   "metadata": {},
   "outputs": [
    {
     "name": "stdout",
     "output_type": "stream",
     "text": [
      "\n",
      "Phân phối biến Outcome:\n",
      "Outcome\n",
      "0    500\n",
      "1    268\n",
      "Name: count, dtype: int64\n",
      "\n",
      "Tỷ lệ:\n",
      "Outcome\n",
      "0    65.104167\n",
      "1    34.895833\n",
      "Name: count, dtype: float64\n"
     ]
    }
   ],
   "source": [
    "# Phân phối biến mục tiêu\n",
    "print(\"\\nPhân phối biến Outcome:\")\n",
    "outcome_counts = df['Outcome'].value_counts()\n",
    "print(outcome_counts)\n",
    "print(f\"\\nTỷ lệ:\")\n",
    "print(outcome_counts / len(df) * 100)"
   ]
  },
  {
   "cell_type": "code",
   "execution_count": 65,
   "id": "4187284b-079e-43aa-bb10-13e78082d043",
   "metadata": {},
   "outputs": [
    {
     "name": "stdout",
     "output_type": "stream",
     "text": [
      "\n",
      "PHÂN TÍCH GIÁ TRỊ 0 - CÓ THỂ LÀ MISSING DATA:\n",
      "Glucose: 5 (0.65%)\n",
      "BloodPressure: 35 (4.56%)\n",
      "SkinThickness: 227 (29.56%)\n",
      "Insulin: 374 (48.70%)\n",
      "BMI: 11 (1.43%)\n",
      "→ KẾT LUẬN: Insulin và SkinThickness có tỷ lệ missing data RẤT CAO\n",
      "→ ĐỀ XUẤT: Cần impute các giá trị 0 này trước khi modeling\n"
     ]
    }
   ],
   "source": [
    "# Kiểm tra giá trị 0 (có thể là missing values)\n",
    "print(\"\\nPHÂN TÍCH GIÁ TRỊ 0 - CÓ THỂ LÀ MISSING DATA:\")\n",
    "zero_counts = {}\n",
    "for col in ['Glucose', 'BloodPressure', 'SkinThickness', 'Insulin', 'BMI']:\n",
    "    zero_counts[col] = (df[col] == 0).sum()\n",
    "    print(f\"{col}: {zero_counts[col]} ({zero_counts[col]/len(df)*100:.2f}%)\")\n",
    "    \n",
    "print(\"→ KẾT LUẬN: Insulin và SkinThickness có tỷ lệ missing data RẤT CAO\")\n",
    "print(\"→ ĐỀ XUẤT: Cần impute các giá trị 0 này trước khi modeling\")"
   ]
  },
  {
   "cell_type": "code",
   "execution_count": 66,
   "id": "9bd2f67d-e7e9-41fa-b872-870ea05ef0fe",
   "metadata": {},
   "outputs": [
    {
     "name": "stdout",
     "output_type": "stream",
     "text": [
      "\n",
      "SO SÁNH ĐẶC ĐIỂM THEO NHÓM BỆNH:\n",
      "         Pregnancies  Glucose  BloodPressure  SkinThickness  Insulin    BMI  \\\n",
      "Outcome                                                                       \n",
      "0               3.30   109.98          68.18          19.66    68.79  30.30   \n",
      "1               4.87   141.26          70.82          22.16   100.34  35.14   \n",
      "\n",
      "         DiabetesPedigreeFunction    Age  \n",
      "Outcome                                   \n",
      "0                            0.43  31.19  \n",
      "1                            0.55  37.07  \n",
      "→ NHẬN XÉT QUAN TRỌNG:\n",
      "- Nhóm mắc bệnh có: Glucose CAO HƠN (141 vs 110)\n",
      "- Nhóm mắc bệnh có: BMI CAO HƠN (35.1 vs 30.3) - béo phì\n",
      "- Nhóm mắc bệnh có: Tuổi CAO HƠN (37.1 vs 31.2)\n",
      "- Nhóm mắc bệnh có: Số lần mang thai NHIỀU HƠN (4.87 vs 3.3)\n"
     ]
    }
   ],
   "source": [
    "# Phân tích theo nhóm Outcome\n",
    "print(\"\\nSO SÁNH ĐẶC ĐIỂM THEO NHÓM BỆNH:\")\n",
    "grouped = df.groupby('Outcome').mean()\n",
    "print(grouped.round(2))\n",
    "print(\"→ NHẬN XÉT QUAN TRỌNG:\")\n",
    "print(\"- Nhóm mắc bệnh có: Glucose CAO HƠN (141 vs 110)\")\n",
    "print(\"- Nhóm mắc bệnh có: BMI CAO HƠN (35.1 vs 30.3) - béo phì\")\n",
    "print(\"- Nhóm mắc bệnh có: Tuổi CAO HƠN (37.1 vs 31.2)\")\n",
    "print(\"- Nhóm mắc bệnh có: Số lần mang thai NHIỀU HƠN (4.87 vs 3.3)\")"
   ]
  },
  {
   "cell_type": "code",
   "execution_count": 67,
   "id": "7855224d-da99-4081-899e-a1f08b4278d0",
   "metadata": {},
   "outputs": [
    {
     "name": "stdout",
     "output_type": "stream",
     "text": [
      "\n",
      "MA TRẬN TƯƠNG QUAN VỚI OUTCOME:\n",
      "Outcome                     1.0000\n",
      "Glucose                     0.4666\n",
      "BMI                         0.2927\n",
      "Age                         0.2384\n",
      "Pregnancies                 0.2219\n",
      "DiabetesPedigreeFunction    0.1738\n",
      "Insulin                     0.1305\n",
      "SkinThickness               0.0748\n",
      "BloodPressure               0.0651\n",
      "Name: Outcome, dtype: float64\n",
      "→ KẾT LUẬN: Glucose có tương quan MẠNH NHẤT với bệnh tiểu đường (0.4666)\n",
      "→ BMI và Pregnancies cũng có tương quan đáng kể\n",
      "→ BloodPressure và SkinThickness có tương quan RẤT THẤP\n"
     ]
    }
   ],
   "source": [
    "# Tương quan giữa các biến\n",
    "print(\"\\nMA TRẬN TƯƠNG QUAN VỚI OUTCOME:\")\n",
    "correlations = df.corr()['Outcome'].sort_values(ascending=False)\n",
    "print(correlations.round(4))\n",
    "print(\"→ KẾT LUẬN: Glucose có tương quan MẠNH NHẤT với bệnh tiểu đường (0.4666)\")\n",
    "print(\"→ BMI và Pregnancies cũng có tương quan đáng kể\")\n",
    "print(\"→ BloodPressure và SkinThickness có tương quan RẤT THẤP\")"
   ]
  },
  {
   "cell_type": "code",
   "execution_count": 61,
   "id": "8c46d875-739e-4d2d-b720-4b899fbc04b3",
   "metadata": {},
   "outputs": [
    {
     "name": "stdout",
     "output_type": "stream",
     "text": [
      "\n",
      "Thống kê tuổi:\n",
      "Tuổi trung bình: 33.24\n",
      "Tuổi trẻ nhất: 21\n",
      "Tuổi lớn nhất: 81\n",
      "Độ lệch chuẩn tuổi: 11.76\n"
     ]
    }
   ],
   "source": [
    "# Phân phối tuổi\n",
    "print(\"\\nThống kê tuổi:\")\n",
    "print(f\"Tuổi trung bình: {df['Age'].mean():.2f}\")\n",
    "print(f\"Tuổi trẻ nhất: {df['Age'].min()}\")\n",
    "print(f\"Tuổi lớn nhất: {df['Age'].max()}\")\n",
    "print(f\"Độ lệch chuẩn tuổi: {df['Age'].std():.2f}\")"
   ]
  },
  {
   "cell_type": "code",
   "execution_count": 62,
   "id": "086f16c9-35ec-4881-9841-e6ec7629ab17",
   "metadata": {},
   "outputs": [
    {
     "name": "stdout",
     "output_type": "stream",
     "text": [
      "\n",
      "Phân tích Glucose:\n",
      "count    768.000000\n",
      "mean     120.894531\n",
      "std       31.972618\n",
      "min        0.000000\n",
      "25%       99.000000\n",
      "50%      117.000000\n",
      "75%      140.250000\n",
      "max      199.000000\n",
      "Name: Glucose, dtype: float64\n",
      "\n",
      "Số bệnh nhân có Glucose > 140: 192\n",
      "Số bệnh nhân có Glucose = 0: 5\n"
     ]
    }
   ],
   "source": [
    "# Phân tích Glucose - chỉ số quan trọng cho tiểu đường\n",
    "print(\"\\nPhân tích Glucose:\")\n",
    "glucose_stats = df['Glucose'].describe()\n",
    "print(glucose_stats)\n",
    "print(f\"\\nSố bệnh nhân có Glucose > 140: {(df['Glucose'] > 140).sum()}\")\n",
    "print(f\"Số bệnh nhân có Glucose = 0: {(df['Glucose'] == 0).sum()}\")"
   ]
  },
  {
   "cell_type": "code",
   "execution_count": 71,
   "id": "bf48a48b-8bc5-4dd5-a793-df414301855c",
   "metadata": {},
   "outputs": [
    {
     "name": "stdout",
     "output_type": "stream",
     "text": [
      "\n",
      "PHÂN TÍCH CHỈ SỐ BMI:\n",
      "count    768.000000\n",
      "mean      31.992578\n",
      "std        7.884160\n",
      "min        0.000000\n",
      "25%       27.300000\n",
      "50%       32.000000\n",
      "75%       36.600000\n",
      "max       67.100000\n",
      "Name: BMI, dtype: float64\n",
      "\n",
      "PHÂN LOẠI BMI THEO WHO:\n",
      "Thiếu cân (BMI < 18.5): 15 người\n",
      "Bình thường (18.5-24.9): 102 người\n",
      "Thừa cân (25-29.9): 179 người\n",
      "Béo phì (BMI >= 30): 472 người\n",
      "→ NHẬN XÉT: ĐA SỐ bệnh nhân thuộc nhóm BÉO PHÌ (472/768)\n"
     ]
    }
   ],
   "source": [
    "# Phân tích BMI chi tiết\n",
    "print(\"\\nPHÂN TÍCH CHỈ SỐ BMI:\")\n",
    "bmi_stats = df['BMI'].describe()\n",
    "print(bmi_stats)\n",
    "print(f\"\\nPHÂN LOẠI BMI THEO WHO:\")\n",
    "print(f\"Thiếu cân (BMI < 18.5): {(df['BMI'] < 18.5).sum()} người\")\n",
    "print(f\"Bình thường (18.5-24.9): {((df['BMI'] >= 18.5) & (df['BMI'] < 25)).sum()} người\")\n",
    "print(f\"Thừa cân (25-29.9): {((df['BMI'] >= 25) & (df['BMI'] < 30)).sum()} người\")\n",
    "print(f\"Béo phì (BMI >= 30): {(df['BMI'] >= 30).sum()} người\")\n",
    "print(\"→ NHẬN XÉT: ĐA SỐ bệnh nhân thuộc nhóm BÉO PHÌ (472/768)\")"
   ]
  },
  {
   "cell_type": "code",
   "execution_count": 72,
   "id": "a89c4da2-9751-4172-8672-ee5e829df830",
   "metadata": {},
   "outputs": [
    {
     "name": "stdout",
     "output_type": "stream",
     "text": [
      "\n",
      "============================================================\n",
      "TỔNG KẾT PHÂN TÍCH DATASET DIABETES\n",
      "============================================================\n",
      "✓ ĐIỂM MẠNH: Dữ liệu sạch, không null, nhiều mẫu\n",
      "✗ VẤN ĐỀ: Rất nhiều missing data (đặc biệt Insulin 48.7%)\n",
      "⚠️ CẢNH BÁO: Dataset imbalance (65/35)\n",
      "🎯 BIẾN QUAN TRỌNG: Glucose, BMI, Pregnancies\n",
      "💡 ĐỀ XUẤT: Impute missing values, xử lý imbalance, focus trên biến quan trọng\n"
     ]
    }
   ],
   "source": [
    "# Tổng kết\n",
    "print(\"\\n\" + \"=\"*60)\n",
    "print(\"TỔNG KẾT PHÂN TÍCH DATASET DIABETES\")\n",
    "print(\"=\"*60)\n",
    "print(\"✓ ĐIỂM MẠNH: Dữ liệu sạch, không null, nhiều mẫu\")\n",
    "print(\"✗ VẤN ĐỀ: Rất nhiều missing data (đặc biệt Insulin 48.7%)\")\n",
    "print(\"⚠️ CẢNH BÁO: Dataset imbalance (65/35)\")\n",
    "print(\"🎯 BIẾN QUAN TRỌNG: Glucose, BMI, Pregnancies\")\n",
    "print(\"💡 ĐỀ XUẤT: Impute missing values, xử lý imbalance, focus trên biến quan trọng\")"
   ]
  },
  {
   "cell_type": "code",
   "execution_count": null,
   "id": "7ac0d760-ac43-472a-bb31-be48fa242b8f",
   "metadata": {},
   "outputs": [],
   "source": []
  }
 ],
 "metadata": {
  "kernelspec": {
   "display_name": "Python 3 (ipykernel)",
   "language": "python",
   "name": "python3"
  },
  "language_info": {
   "codemirror_mode": {
    "name": "ipython",
    "version": 3
   },
   "file_extension": ".py",
   "mimetype": "text/x-python",
   "name": "python",
   "nbconvert_exporter": "python",
   "pygments_lexer": "ipython3",
   "version": "3.13.5"
  }
 },
 "nbformat": 4,
 "nbformat_minor": 5
}
