{
 "cells": [
  {
   "cell_type": "markdown",
   "metadata": {
    "id": "CsOwwAbEkFHj"
   },
   "source": [
    "# Python Programing"
   ]
  },
  {
   "cell_type": "code",
   "execution_count": 28,
   "metadata": {
    "colab": {
     "base_uri": "https://localhost:8080/"
    },
    "id": "ypkwKKIubDp7",
    "outputId": "21cc2775-3ad5-4a45-cea1-d0d7bdca7125"
   },
   "outputs": [
    {
     "name": "stdout",
     "output_type": "stream",
     "text": [
      "Đây là dòng lệnh in ra chuỗi 'Hello World'.\n",
      "Hello World\n"
     ]
    }
   ],
   "source": [
    "print(\"Đây là dòng lệnh in ra chuỗi 'Hello World'.\")\n",
    "print(\"Hello World\")"
   ]
  },
  {
   "cell_type": "code",
   "execution_count": 29,
   "metadata": {
    "colab": {
     "base_uri": "https://localhost:8080/"
    },
    "id": "6bcPgR0WnoGd",
    "outputId": "0e849704-5287-47ed-c812-31a762bf8c21"
   },
   "outputs": [
    {
     "name": "stdout",
     "output_type": "stream",
     "text": [
      "Sử dụng thư viện 'platform' để lấy phiên bản Python.\n",
      "In ra phiên bản Python hiện tại.\n",
      "Python Version: 3.12.11\n"
     ]
    }
   ],
   "source": [
    "# comment: Dòng bắt đầu bằng '#' là chú thích và không được thực thi.\n",
    "from platform import python_version\n",
    "print(\"Sử dụng thư viện 'platform' để lấy phiên bản Python.\")\n",
    "print(\"In ra phiên bản Python hiện tại.\")\n",
    "print(\"Python Version:\", python_version())"
   ]
  },
  {
   "cell_type": "markdown",
   "metadata": {
    "id": "29LNFOgkk6tx"
   },
   "source": [
    "## Python Syntax"
   ]
  },
  {
   "cell_type": "code",
   "execution_count": 9,
   "metadata": {
    "colab": {
     "base_uri": "https://localhost:8080/"
    },
    "id": "s1Hun7UCbc_a",
    "outputId": "edc8d3d2-aa94-42d2-cba8-7327f6541016"
   },
   "outputs": [
    {
     "name": "stdout",
     "output_type": "stream",
     "text": [
      "Vì điểm số (80) lớn hơn hoặc bằng 60, nên điều kiện 'score >= 60' là đúng.\n",
      "Pass\n"
     ]
    }
   ],
   "source": [
    "score = 80\n",
    "#print(f\"Biến 'score' được gán giá trị là {score}.\")\n",
    "if score >=60 :\n",
    "  print(f\"Vì điểm số ({score}) lớn hơn hoặc bằng 60, nên điều kiện 'score >= 60' là đúng.\")\n",
    "  #print(\"In ra 'Pass' vì điều kiện đúng.\")\n",
    "  print(\"Pass\")"
   ]
  },
  {
   "cell_type": "markdown",
   "metadata": {
    "id": "KuftuwFTlFmy"
   },
   "source": [
    "## Python Variables"
   ]
  },
  {
   "cell_type": "code",
   "execution_count": 10,
   "metadata": {
    "colab": {
     "base_uri": "https://localhost:8080/"
    },
    "id": "AyfIcnSWbl6i",
    "outputId": "0d92b72c-abe5-47c2-8f17-5dba81a2d400"
   },
   "outputs": [
    {
     "name": "stdout",
     "output_type": "stream",
     "text": [
      "Giá trị của 'x' hiện tại là: 2\n",
      "Giá trị của 'price' hiện tại là: 2.5\n",
      "Giá trị của 'word' hiện tại là: Hello\n",
      "Giá trị của 'word' vẫn là: Hello\n"
     ]
    }
   ],
   "source": [
    "# Python Variables\n",
    "#print(\"Gán biến 'x' với giá trị số nguyên 2.\")\n",
    "x = 2 #int\n",
    "print(f\"Giá trị của 'x' hiện tại là: {x}\")\n",
    "#print(\"Gán biến 'price' với giá trị số thực 2.5.\")\n",
    "price = 2.5 #float\n",
    "print(f\"Giá trị của 'price' hiện tại là: {price}\")\n",
    "#print(\"Gán biến 'word' với chuỗi 'Hello'.\")\n",
    "word = 'Hello' #str\n",
    "print(f\"Giá trị của 'word' hiện tại là: {word}\")\n",
    "\n",
    "#print(\"Có thể sử dụng dấu nháy đơn, nháy kép hoặc ba nháy đơn/kép để định nghĩa chuỗi.\")\n",
    "word = 'Hello'\n",
    "word = \"Hello\"\n",
    "word = '''Hello'''\n",
    "print(f\"Giá trị của 'word' vẫn là: {word}\")"
   ]
  },
  {
   "cell_type": "code",
   "execution_count": 19,
   "metadata": {
    "colab": {
     "base_uri": "https://localhost:8080/"
    },
    "id": "xtWbn6F7lPeb",
    "outputId": "0edc8ce7-59b5-4fd1-c370-5b2e45bddb5a"
   },
   "outputs": [
    {
     "name": "stdout",
     "output_type": "stream",
     "text": [
      "2\n",
      "3\n"
     ]
    }
   ],
   "source": [
    "x = 2\n",
    "y = x + 1\n",
    "print (x)\n",
    "print (y)"
   ]
  },
  {
   "cell_type": "code",
   "execution_count": 11,
   "metadata": {
    "colab": {
     "base_uri": "https://localhost:8080/"
    },
    "id": "yn-oWpTXbu35",
    "outputId": "11c8d631-6418-4b16-8234-b6e712d28858"
   },
   "outputs": [
    {
     "name": "stdout",
     "output_type": "stream",
     "text": [
      "Sử dụng thư viện 'platform' để lấy phiên bản Python.\n",
      "Python Version: 3.12.11\n"
     ]
    }
   ],
   "source": []
  },
  {
   "cell_type": "markdown",
   "metadata": {
    "id": "fR7OpDjIlkuj"
   },
   "source": [
    "## Python Data Types"
   ]
  },
  {
   "cell_type": "code",
   "execution_count": 16,
   "metadata": {
    "colab": {
     "base_uri": "https://localhost:8080/"
    },
    "id": "v-gb3BnFb20U",
    "outputId": "bc29b539-2aa7-4ad6-d974-7b0ebd6357b6"
   },
   "outputs": [
    {
     "name": "stdout",
     "output_type": "stream",
     "text": [
      "x = 'Hello World', type: <class 'str'>\n",
      "→ String: Chuỗi ký tự, bất biến (immutable)\n",
      "\n",
      "x = 2, type: <class 'int'>\n",
      "→ Integer: Số nguyên không có phần thập phân\n",
      "\n",
      "x = 2.5, type: <class 'float'>\n",
      "→ Float: Số thực có phần thập phân\n",
      "\n",
      "x = 7j, type: <class 'complex'>\n",
      "Phần thực: 0.0, Phần ảo: 7.0\n",
      "→ Complex: Số phức với phần thực và phần ảo\n",
      "\n"
     ]
    }
   ],
   "source": [
    "# String - Chuỗi ký tự\n",
    "x = \"Hello World\" #str\n",
    "print(f\"x = '{x}', type: {type(x)}\")\n",
    "print(\"→ String: Chuỗi ký tự, bất biến (immutable)\\n\")\n",
    "\n",
    "# Integer - Số nguyên\n",
    "x = 2 #int\n",
    "print(f\"x = {x}, type: {type(x)}\")\n",
    "print(\"→ Integer: Số nguyên không có phần thập phân\\n\")\n",
    "\n",
    "# Float - Số thực\n",
    "x = 2.5 #float\n",
    "print(f\"x = {x}, type: {type(x)}\")\n",
    "print(\"→ Float: Số thực có phần thập phân\\n\")\n",
    "\n",
    "# Complex - Số phức\n",
    "x = 7j #complex\n",
    "print(f\"x = {x}, type: {type(x)}\")\n",
    "print(f\"Phần thực: {x.real}, Phần ảo: {x.imag}\")\n",
    "print(\"→ Complex: Số phức với phần thực và phần ảo\\n\")"
   ]
  },
  {
   "cell_type": "code",
   "execution_count": 15,
   "metadata": {
    "colab": {
     "base_uri": "https://localhost:8080/"
    },
    "id": "fZUxre-sgS2H",
    "outputId": "091dd0c7-bdc0-4a71-ace8-e02ff496143a"
   },
   "outputs": [
    {
     "name": "stdout",
     "output_type": "stream",
     "text": [
      "x = ['apple', 'banana', 'cherry'], type: <class 'list'>\n",
      "→ List: Danh sách có thứ tự, có thể thay đổi phần tử\n",
      "\n",
      "x = ('apple', 'banana', 'cherry'), type: <class 'tuple'>\n",
      "→ Tuple: Danh sách có thứ tự, KHÔNG thể thay đổi phần tử\n",
      "\n",
      "x = range(0, 6), type: <class 'range'>\n",
      "Giá trị: [0, 1, 2, 3, 4, 5]\n",
      "→ Range: Dãy số nguyên từ 0 đến 5 (không bao gồm 6)\n",
      "\n",
      "x = {'name': 'Tom', 'age': 20}, type: <class 'dict'>\n",
      "→ Dict: Lưu trữ dữ liệu dạng cặp key-value\n",
      "\n",
      "x = {'apple', 'cherry', 'banana'}, type: <class 'set'>\n",
      "→ Set: Tập hợp không có thứ tự, các phần tử không trùng lặp\n",
      "\n",
      "x = frozenset({'apple', 'cherry', 'banana'}), type: <class 'frozenset'>\n",
      "→ Frozenset: Tập hợp không thể thay đổi (immutable set)\n",
      "\n"
     ]
    }
   ],
   "source": [
    "# List - Danh sách có thể thay đổi (mutable)\n",
    "x = [\"apple\", \"banana\", \"cherry\"] #list\n",
    "print(f\"x = {x}, type: {type(x)}\")\n",
    "print(\"→ List: Danh sách có thứ tự, có thể thay đổi phần tử\\n\")\n",
    "\n",
    "# Tuple - Danh sách không thể thay đổi (immutable)\n",
    "x = (\"apple\", \"banana\", \"cherry\") #tuple\n",
    "print(f\"x = {x}, type: {type(x)}\")\n",
    "print(\"→ Tuple: Danh sách có thứ tự, KHÔNG thể thay đổi phần tử\\n\")\n",
    "\n",
    "# Range - Dãy số nguyên\n",
    "x = range(6) #range\n",
    "print(f\"x = {x}, type: {type(x)}\")\n",
    "print(f\"Giá trị: {list(x)}\")  # Chuyển range thành list để xem giá trị\n",
    "print(\"→ Range: Dãy số nguyên từ 0 đến 5 (không bao gồm 6)\\n\")\n",
    "\n",
    "# Dict - Từ điển (key-value pairs)\n",
    "x = {\"name\" : \"Tom\", \"age\" : 20} #dict\n",
    "print(f\"x = {x}, type: {type(x)}\")\n",
    "print(\"→ Dict: Lưu trữ dữ liệu dạng cặp key-value\\n\")\n",
    "\n",
    "# Set - Tập hợp (không có thứ tự, không trùng lặp)\n",
    "x = {\"apple\", \"banana\", \"cherry\"} #set\n",
    "print(f\"x = {x}, type: {type(x)}\")\n",
    "print(\"→ Set: Tập hợp không có thứ tự, các phần tử không trùng lặp\\n\")\n",
    "\n",
    "# Frozenset - Tập hợp không thể thay đổi\n",
    "x = frozenset({\"apple\", \"banana\", \"cherry\"}) #frozenset\n",
    "print(f\"x = {x}, type: {type(x)}\")\n",
    "print(\"→ Frozenset: Tập hợp không thể thay đổi (immutable set)\\n\")"
   ]
  },
  {
   "cell_type": "code",
   "execution_count": 14,
   "metadata": {
    "colab": {
     "base_uri": "https://localhost:8080/"
    },
    "id": "4aY_MyI4gSzq",
    "outputId": "da9c52c8-e626-4d09-879f-cc1f5f692acf"
   },
   "outputs": [
    {
     "name": "stdout",
     "output_type": "stream",
     "text": [
      "x = True, type: <class 'bool'>\n",
      "x = b'Hello', type: <class 'bytes'>\n",
      "x = bytearray(b'\\x00\\x00\\x00\\x00\\x00'), type: <class 'bytearray'>\n",
      "x = <memory at 0x7f7e3c76d9c0>, type: <class 'memoryview'>\n",
      "x = None, type: <class 'NoneType'>\n"
     ]
    }
   ],
   "source": [
    "# Kiểu dữ liệu Boolean\n",
    "x = True  # bool\n",
    "print(f\"x = {x}, type: {type(x)}\")\n",
    "\n",
    "# Kiểu dữ liệu bytes - chuỗi bytes bất biến\n",
    "x = b\"Hello\"  # bytes\n",
    "print(f\"x = {x}, type: {type(x)}\")\n",
    "\n",
    "# Kiểu dữ liệu bytearray - chuỗi bytes có thể thay đổi\n",
    "x = bytearray(5)  # bytearray với 5 phần tử, mặc định là \\x00\n",
    "print(f\"x = {x}, type: {type(x)}\")\n",
    "\n",
    "# Kiểu dữ liệu memoryview - cho phép truy cập bộ nhớ trực tiếp\n",
    "x = memoryview(bytes(5))  # memoryview của 5 bytes\n",
    "print(f\"x = {x}, type: {type(x)}\")\n",
    "\n",
    "# Kiểu dữ liệu NoneType - đại diện cho giá trị không có\n",
    "x = None  # NoneType\n",
    "print(f\"x = {x}, type: {type(x)}\")"
   ]
  },
  {
   "cell_type": "markdown",
   "metadata": {
    "id": "Bdo7nIsllyXS"
   },
   "source": [
    "### Python Casting"
   ]
  },
  {
   "cell_type": "code",
   "execution_count": 17,
   "metadata": {
    "colab": {
     "base_uri": "https://localhost:8080/"
    },
    "id": "ZZ8fhYOqj6ls",
    "outputId": "81881ac4-9259-4cb0-c62d-e53b793594b9"
   },
   "outputs": [
    {
     "name": "stdout",
     "output_type": "stream",
     "text": [
      "3 <class 'str'>\n",
      "3 <class 'int'>\n",
      "3.0 <class 'float'>\n"
     ]
    }
   ],
   "source": [
    "x = str(3) # x will be '3'\n",
    "y = int(3) # y will be 3\n",
    "z = float(3) # z will be 3.0\n",
    "print(x, type(x))\n",
    "print(y, type(y))\n",
    "print(z, type(z))"
   ]
  },
  {
   "cell_type": "markdown",
   "metadata": {
    "id": "VjozGPDyl7Kd"
   },
   "source": [
    "### Python Numbers"
   ]
  },
  {
   "cell_type": "code",
   "execution_count": 20,
   "metadata": {
    "colab": {
     "base_uri": "https://localhost:8080/"
    },
    "id": "nnfOQSaQl-HD",
    "outputId": "04e0bf71-aa5c-4a63-e37c-ff46eec36b5b"
   },
   "outputs": [
    {
     "name": "stdout",
     "output_type": "stream",
     "text": [
      "2 <class 'int'>\n",
      "3.4 <class 'float'>\n",
      "7j <class 'complex'>\n"
     ]
    }
   ],
   "source": [
    "x = 2 # int\n",
    "y = 3.4 # float\n",
    "z = 7j #complex\n",
    "print(x, type(x))\n",
    "print(y, type(y))\n",
    "print(z, type(z))"
   ]
  },
  {
   "cell_type": "markdown",
   "metadata": {
    "id": "Wg0DwQ2ZmF02"
   },
   "source": [
    "## Python Arithmetic Operators"
   ]
  },
  {
   "cell_type": "code",
   "execution_count": 21,
   "metadata": {
    "colab": {
     "base_uri": "https://localhost:8080/"
    },
    "id": "3S3rGJaImJBm",
    "outputId": "f557e6b8-531c-4776-a55f-34b77652d4d2"
   },
   "outputs": [
    {
     "name": "stdout",
     "output_type": "stream",
     "text": [
      "7 + 2 = 9\n",
      "7 - 2 = 5\n",
      "7 * 2 = 14\n",
      "7 / 2 = 3.5\n",
      "7 // 2 = 3\n",
      "7 % 2 = 1\n",
      "7 ** 2 = 49\n"
     ]
    }
   ],
   "source": [
    "print('7 + 2 =', 7 + 2)\n",
    "print('7 - 2 =', 7 - 2)\n",
    "print('7 * 2 =', 7 * 2)\n",
    "print('7 / 2 =', 7 / 2)\n",
    "print('7 // 2 =', 7 // 2)\n",
    "print('7 % 2 =', 7 % 2)\n",
    "print('7 ** 2 =', 7 ** 2)"
   ]
  },
  {
   "cell_type": "markdown",
   "metadata": {
    "id": "fPhHQHI0mV59"
   },
   "source": [
    "## Python Booleans: True or False"
   ]
  },
  {
   "cell_type": "code",
   "execution_count": 22,
   "metadata": {
    "colab": {
     "base_uri": "https://localhost:8080/"
    },
    "id": "x7TO1YFCmYmI",
    "outputId": "65051155-4001-4e7e-9476-0b48f3f12a48"
   },
   "outputs": [
    {
     "name": "stdout",
     "output_type": "stream",
     "text": [
      "True\n",
      "False\n",
      "False\n"
     ]
    }
   ],
   "source": [
    "# Python Booleans: True or False\n",
    "print(3 > 2)\n",
    "print(3 == 2)\n",
    "print(3 < 2)"
   ]
  },
  {
   "cell_type": "markdown",
   "metadata": {
    "id": "rJwg4gr0md8W"
   },
   "source": [
    "## Python BMI Calculator"
   ]
  },
  {
   "cell_type": "code",
   "execution_count": 25,
   "metadata": {
    "colab": {
     "base_uri": "https://localhost:8080/"
    },
    "id": "WdciZjy5mjTN",
    "outputId": "53662dd6-06bd-4577-d910-e11afeb194ac"
   },
   "outputs": [
    {
     "name": "stdout",
     "output_type": "stream",
     "text": [
      "Your BMI is: 20.8\n",
      "\n",
      "Phân loại BMI theo WHO:\n",
      "→ Bình thường (Normal weight)\n",
      "\n",
      "Chi tiết tính toán:\n",
      "Chiều cao: 170 cm = 1.7 m\n",
      "Cân nặng: 60 kg\n",
      "BMI chính xác: 20.76\n",
      "BMI làm tròn: 20.8\n"
     ]
    }
   ],
   "source": [
    "# BMI Calculator in Python\n",
    "\n",
    "# Dữ liệu đầu vào\n",
    "height_cm = 170  # Chiều cao tính bằng cm\n",
    "weight_kg = 60   # Cân nặng tính bằng kg\n",
    "\n",
    "# Chuyển đổi chiều cao từ cm sang mét\n",
    "height_m = height_cm / 100\n",
    "\n",
    "# Tính chỉ số BMI: BMI = cân nặng (kg) / (chiều cao (m))^2\n",
    "BMI = weight_kg / (height_m ** 2)\n",
    "\n",
    "# In kết quả BMI làm tròn 1 chữ số thập phân\n",
    "print(\"Your BMI is: \" + str(round(BMI, 1)))\n",
    "\n",
    "# Phân loại BMI theo WHO\n",
    "print(\"\\nPhân loại BMI theo WHO:\")\n",
    "if BMI < 18.5:\n",
    "    print(\"→ Thiếu cân (Underweight)\")\n",
    "elif 18.5 <= BMI < 25:\n",
    "    print(\"→ Bình thường (Normal weight)\")\n",
    "elif 25 <= BMI < 30:\n",
    "    print(\"→ Thừa cân (Overweight)\")\n",
    "else:\n",
    "    print(\"→ Béo phì (Obese)\")\n",
    "\n",
    "# In thông tin chi tiết\n",
    "print(f\"\\nChi tiết tính toán:\")\n",
    "print(f\"Chiều cao: {height_cm} cm = {height_m} m\")\n",
    "print(f\"Cân nặng: {weight_kg} kg\")\n",
    "print(f\"BMI chính xác: {BMI:.2f}\")\n",
    "print(f\"BMI làm tròn: {round(BMI, 1)}\")"
   ]
  },
  {
   "cell_type": "markdown",
   "metadata": {
    "id": "rTE7-RpCoZla"
   },
   "source": [
    "## Future Value"
   ]
  },
  {
   "cell_type": "code",
   "execution_count": 31,
   "metadata": {
    "colab": {
     "base_uri": "https://localhost:8080/"
    },
    "id": "1ml060JKofN7",
    "outputId": "1c9fffd1-ee2c-4ddc-c4be-0997781089b8"
   },
   "outputs": [
    {
     "name": "stdout",
     "output_type": "stream",
     "text": [
      "fv =  194.87\n",
      "\n",
      "Giải thích tính toán:\n",
      "Đầu tư ban đầu: $100\n",
      "Lãi suất hàng năm: 10.0%\n",
      "Thời gian đầu tư: 7 năm\n",
      "Công thức: FV = PV × (1 + r)^n\n",
      "Tính toán: $100 × (1 + 0.1)^7 = $100 × 1.9487 = $194.87\n",
      "\n",
      "So sánh với lãi đơn: $170.00\n",
      "Chênh lệch: $24.87 (lãi kép hiệu quả hơn)\n",
      "\n",
      "Tăng trưởng theo từng năm:\n",
      "Năm 1: $110.00\n",
      "Năm 2: $121.00\n",
      "Năm 3: $133.10\n",
      "Năm 4: $146.41\n",
      "Năm 5: $161.05\n",
      "Năm 6: $177.16\n",
      "Năm 7: $194.87\n"
     ]
    }
   ],
   "source": [
    "# How much is your $100 worth after 7 years?\n",
    "#fv = 100 * 1.1 ** 7\n",
    "#print('fv = ', round(fv, 2))\n",
    "\n",
    "# How much is your $100 worth after 7 years?\n",
    "\n",
    "# Giá trị hiện tại (Present Value)\n",
    "pv = 100  # $100 đầu tư ban đầu\n",
    "\n",
    "# Lãi suất hàng năm\n",
    "interest_rate = 0.1  # 10% = 0.1\n",
    "\n",
    "# Thời gian đầu tư (năm)\n",
    "years = 7\n",
    "\n",
    "# Tính giá trị tương lai (Future Value)\n",
    "# Công thức: FV = PV × (1 + r)^n\n",
    "fv = pv * (1 + interest_rate) ** years\n",
    "\n",
    "# In kết quả làm tròn 2 chữ số thập phân\n",
    "print('fv = ', round(fv, 2))\n",
    "# output = 194.87\n",
    "\n",
    "# Giải thích chi tiết\n",
    "print(f\"\\nGiải thích tính toán:\")\n",
    "print(f\"Đầu tư ban đầu: ${pv}\")\n",
    "print(f\"Lãi suất hàng năm: {interest_rate * 100}%\")\n",
    "print(f\"Thời gian đầu tư: {years} năm\")\n",
    "print(f\"Công thức: FV = PV × (1 + r)^n\")\n",
    "print(f\"Tính toán: ${pv} × (1 + {interest_rate})^{years} = ${pv} × {1.1**7:.4f} = ${fv:.2f}\")\n",
    "\n",
    "# So sánh với lãi đơn\n",
    "simple_interest = pv * (1 + interest_rate * years)\n",
    "print(f\"\\nSo sánh với lãi đơn: ${simple_interest:.2f}\")\n",
    "print(f\"Chênh lệch: ${fv - simple_interest:.2f} (lãi kép hiệu quả hơn)\")\n",
    "\n",
    "# Phân tích theo từng năm\n",
    "print(f\"\\nTăng trưởng theo từng năm:\")\n",
    "for year in range(1, years + 1):\n",
    "    yearly_fv = pv * (1 + interest_rate) ** year\n",
    "    print(f\"Năm {year}: ${yearly_fv:.2f}\")\n",
    "# output = 194.87"
   ]
  },
  {
   "cell_type": "code",
   "execution_count": 32,
   "metadata": {
    "colab": {
     "base_uri": "https://localhost:8080/"
    },
    "id": "fugPrEyWo4ik",
    "outputId": "3bbcf44b-d81d-4298-9366-123a34c16de5"
   },
   "outputs": [
    {
     "name": "stdout",
     "output_type": "stream",
     "text": [
      "194.87\n"
     ]
    }
   ],
   "source": [
    "# Future Value\n",
    "pv = 100\n",
    "r = 0.1\n",
    "n = 7\n",
    "fv = pv * ((1 + (r)) ** n)\n",
    "print(round(fv, 2))"
   ]
  },
  {
   "cell_type": "code",
   "execution_count": 33,
   "metadata": {
    "colab": {
     "base_uri": "https://localhost:8080/"
    },
    "id": "5ruNPMEuo6s2",
    "outputId": "719abdaa-414d-4612-f560-8d901ee89402"
   },
   "outputs": [
    {
     "name": "stdout",
     "output_type": "stream",
     "text": [
      "194.87\n"
     ]
    }
   ],
   "source": [
    "# Future Value\n",
    "amount = 100\n",
    "interest = 10 #10% = 0.01 * 10\n",
    "years = 7\n",
    "\n",
    "future_value = amount * ((1 + (0.01 * interest)) ** years)\n",
    "print(round(future_value, 2))"
   ]
  },
  {
   "cell_type": "markdown",
   "metadata": {
    "id": "4RbI-SjFpUBf"
   },
   "source": [
    "# Python Data Structures"
   ]
  },
  {
   "cell_type": "markdown",
   "metadata": {
    "id": "4kgRVc0EppBE"
   },
   "source": [
    "## Python Data Types"
   ]
  },
  {
   "cell_type": "code",
   "execution_count": 35,
   "metadata": {
    "colab": {
     "base_uri": "https://localhost:8080/"
    },
    "id": "wnZCrOtlpq7r",
    "outputId": "d9572f50-4647-4309-a621-5f53274210e9"
   },
   "outputs": [
    {
     "name": "stdout",
     "output_type": "stream",
     "text": [
      "List: ['apple', 'banana', 'cherry'], Type: <class 'list'>\n",
      "→ Có thể thay đổi, thêm, xóa phần tử\n",
      "→ Giữ thứ tự các phần tử\n",
      "\n",
      "Tuple: ('apple', 'banana', 'cherry'), Type: <class 'tuple'>\n",
      "→ KHÔNG thể thay đổi sau khi tạo\n",
      "→ Nhanh hơn list, dùng cho dữ liệu cố định\n",
      "\n",
      "Dict: {'name': 'Tom', 'age': 20}, Type: <class 'dict'>\n",
      "→ Lưu trữ dữ liệu dạng cặp key-value\n",
      "→ Truy cập nhanh qua key, không có thứ tự\n",
      "\n",
      "Set: {'apple', 'cherry', 'banana'}, Type: <class 'set'>\n",
      "→ Không cho phép phần tử trùng lặp\n",
      "→ Không có thứ tự, dùng cho toán tập hợp\n",
      "\n",
      "=== DEMO TÍNH CHẤT ===\n",
      "List sau khi thêm: ['apple', 'banana', 'cherry', 'orange']\n",
      "Tên: Tom, Tuổi: 20\n",
      "Set tự động loại trùng: {'apple', 'cherry', 'banana'}\n"
     ]
    }
   ],
   "source": [
    "# List - Danh sách có thể thay đổi (mutable)\n",
    "x = [\"apple\", \"banana\", \"cherry\"] #list\n",
    "print(f\"List: {x}, Type: {type(x)}\")\n",
    "print(\"→ Có thể thay đổi, thêm, xóa phần tử\")\n",
    "print(\"→ Giữ thứ tự các phần tử\\n\")\n",
    "\n",
    "# Tuple - Danh sách không thể thay đổi (immutable)\n",
    "x = (\"apple\", \"banana\", \"cherry\") #tuple\n",
    "print(f\"Tuple: {x}, Type: {type(x)}\")\n",
    "print(\"→ KHÔNG thể thay đổi sau khi tạo\")\n",
    "print(\"→ Nhanh hơn list, dùng cho dữ liệu cố định\\n\")\n",
    "\n",
    "# Dict - Từ điển (key-value pairs)\n",
    "x = {\"name\" : \"Tom\", \"age\" : 20} #dict\n",
    "print(f\"Dict: {x}, Type: {type(x)}\")\n",
    "print(\"→ Lưu trữ dữ liệu dạng cặp key-value\")\n",
    "print(\"→ Truy cập nhanh qua key, không có thứ tự\\n\")\n",
    "\n",
    "# Set - Tập hợp (không trùng lặp)\n",
    "x = {\"apple\", \"banana\", \"cherry\"} #set\n",
    "print(f\"Set: {x}, Type: {type(x)}\")\n",
    "print(\"→ Không cho phép phần tử trùng lặp\")\n",
    "print(\"→ Không có thứ tự, dùng cho toán tập hợp\\n\")\n",
    "\n",
    "# Demo tính chất của từng loại\n",
    "print(\"=== DEMO TÍNH CHẤT ===\")\n",
    "\n",
    "# List - có thể thay đổi\n",
    "my_list = [\"apple\", \"banana\", \"cherry\"]\n",
    "my_list.append(\"orange\")\n",
    "print(f\"List sau khi thêm: {my_list}\")\n",
    "\n",
    "# Tuple - không thể thay đổi (sẽ báo lỗi nếu thử)\n",
    "my_tuple = (\"apple\", \"banana\", \"cherry\")\n",
    "# my_tuple.append(\"orange\")  # Lỗi: tuple không có append\n",
    "\n",
    "# Dict - truy cập qua key\n",
    "my_dict = {\"name\": \"Tom\", \"age\": 20}\n",
    "print(f\"Tên: {my_dict['name']}, Tuổi: {my_dict['age']}\")\n",
    "\n",
    "# Set - tự động loại bỏ trùng lặp\n",
    "my_set = {\"apple\", \"banana\", \"cherry\", \"apple\"}\n",
    "print(f\"Set tự động loại trùng: {my_set}\")"
   ]
  },
  {
   "cell_type": "code",
   "execution_count": 41,
   "metadata": {
    "colab": {
     "base_uri": "https://localhost:8080/"
    },
    "id": "cP_qj_B3tBAb",
    "outputId": "c4a834f8-8f0e-431f-8aa1-52bf60ffad6e"
   },
   "outputs": [
    {
     "name": "stdout",
     "output_type": "stream",
     "text": [
      "List: ['apple', 'banana', 'cherry'], Type: <class 'list'>\n",
      "→ Có thể thay đổi: thêm, xóa, sửa phần tử\n",
      "→ Giữ thứ tự các phần tử\n",
      "Sau khi thêm 'orange': ['apple', 'banana', 'cherry', 'orange']\n",
      "\n",
      "Tuple: ('red', 'green', 'blue'), Type: <class 'tuple'>\n",
      "→ KHÔNG thể thay đổi sau khi tạo\n",
      "→ Nhanh hơn list, dùng cho dữ liệu cố định\n",
      "Truy cập phần tử đầu: red\n",
      "\n",
      "Set: {'dog', 'cat'}, Type: <class 'set'>\n",
      "→ Không cho phép phần tử trùng lặp\n",
      "→ Không có thứ tự\n",
      "Sau khi thêm 'cat' và 'fish': {'fish', 'dog', 'cat'}\n",
      "\n",
      "Dictionary: {'name': 'Tom', 'age': 20}, Type: <class 'dict'>\n",
      "→ Lưu trữ dữ liệu dạng cặp key-value\n",
      "→ Keys phải là unique\n",
      "Tên: Tom, Tuổi: 20\n",
      "Sau khi thêm 'city': {'name': 'Tom', 'age': 20, 'city': 'Hanoi'}\n",
      "\n",
      "=== SO SÁNH ĐẶC ĐIỂM ===\n",
      "| Kiểu        | Thứ tự | Thay đổi | Trùng lặp |\n",
      "|-------------|--------|----------|-----------|\n",
      "| List []     |   ✓    |    ✓     |     ✓     |\n",
      "| Tuple ()    |   ✓    |    ✗     |     ✓     |\n",
      "| Set {}      |   ✗    |    ✓     |     ✗     |\n",
      "| Dict {}     |   ✗    |    ✓     | Key: ✗    |\n"
     ]
    }
   ],
   "source": [
    "# List - Danh sách có thứ tự, có thể thay đổi\n",
    "fruits = [\"apple\", \"banana\", \"cherry\"]  # lists []\n",
    "print(f\"List: {fruits}, Type: {type(fruits)}\")\n",
    "print(\"→ Có thể thay đổi: thêm, xóa, sửa phần tử\")\n",
    "print(\"→ Giữ thứ tự các phần tử\")\n",
    "fruits.append(\"orange\")\n",
    "print(f\"Sau khi thêm 'orange': {fruits}\\n\")\n",
    "\n",
    "# Tuple - Danh sách có thứ tự, không thể thay đổi\n",
    "colors = (\"red\", \"green\", \"blue\")  # tuples ()\n",
    "print(f\"Tuple: {colors}, Type: {type(colors)}\")\n",
    "print(\"→ KHÔNG thể thay đổi sau khi tạo\")\n",
    "print(\"→ Nhanh hơn list, dùng cho dữ liệu cố định\")\n",
    "# colors.append(\"yellow\")  # Lỗi: tuple không có append\n",
    "print(f\"Truy cập phần tử đầu: {colors[0]}\\n\")\n",
    "\n",
    "# Set - Tập hợp không thứ tự, không trùng lặp\n",
    "animals = {'cat', 'dog'}  # sets {}\n",
    "print(f\"Set: {animals}, Type: {type(animals)}\")\n",
    "print(\"→ Không cho phép phần tử trùng lặp\")\n",
    "print(\"→ Không có thứ tự\")\n",
    "animals.add('cat')  # Không làm gì vì 'cat' đã tồn tại\n",
    "animals.add('fish')\n",
    "print(f\"Sau khi thêm 'cat' và 'fish': {animals}\\n\")\n",
    "\n",
    "# Dictionary - Từ điển key-value\n",
    "person = {\"name\": \"Tom\", \"age\": 20}  # dictionaries {}\n",
    "print(f\"Dictionary: {person}, Type: {type(person)}\")\n",
    "print(\"→ Lưu trữ dữ liệu dạng cặp key-value\")\n",
    "print(\"→ Keys phải là unique\")\n",
    "print(f\"Tên: {person['name']}, Tuổi: {person['age']}\")\n",
    "person['city'] = 'Hanoi'\n",
    "print(f\"Sau khi thêm 'city': {person}\\n\")\n",
    "\n",
    "# So sánh đặc điểm\n",
    "print(\"=== SO SÁNH ĐẶC ĐIỂM ===\")\n",
    "print(\"| Kiểu        | Thứ tự | Thay đổi | Trùng lặp |\")\n",
    "print(\"|-------------|--------|----------|-----------|\")\n",
    "print(\"| List []     |   ✓    |    ✓     |     ✓     |\")\n",
    "print(\"| Tuple ()    |   ✓    |    ✗     |     ✓     |\")\n",
    "print(\"| Set {}      |   ✗    |    ✓     |     ✗     |\")\n",
    "print(\"| Dict {}     |   ✗    |    ✓     | Key: ✗    |\")"
   ]
  },
  {
   "cell_type": "markdown",
   "metadata": {
    "id": "okOhdM9UqLSk"
   },
   "source": [
    "### List []"
   ]
  },
  {
   "cell_type": "code",
   "execution_count": 36,
   "metadata": {
    "colab": {
     "base_uri": "https://localhost:8080/"
    },
    "id": "IHwXuL-GqPEz",
    "outputId": "c5d89175-fd25-4cff-b426-b034d1a83c4b"
   },
   "outputs": [
    {
     "name": "stdout",
     "output_type": "stream",
     "text": [
      "Độ dài list: 4\n",
      "Phần tử đầu tiên (index 0): 60\n",
      "Phần tử thứ hai (index 1): 70\n",
      "Phần tử cuối cùng (index -1): 90\n",
      "\n",
      "Giải thích:\n",
      "List: [60, 70, 80, 90]\n",
      "Chỉ số:  0    1    2    3\n",
      "Giá trị: 60,  70,  80,  90\n",
      "Chỉ số âm: -4,  -3,  -2,  -1\n",
      "\n",
      "Truy cập thêm:\n",
      "Phần tử thứ ba (index 2): 80\n",
      "Phần tử áp cuối (index -2): 80\n",
      "Phần tử đầu (index -4): 60\n"
     ]
    }
   ],
   "source": [
    "x = [60, 70, 80, 90]\n",
    "\n",
    "# Độ dài của list (số phần tử)\n",
    "print(f\"Độ dài list: {len(x)}\")  # Output: 4\n",
    "\n",
    "# Truy cập phần tử theo chỉ số dương (từ trái sang)\n",
    "print(f\"Phần tử đầu tiên (index 0): {x[0]}\")  # Output: 60\n",
    "print(f\"Phần tử thứ hai (index 1): {x[1]}\")   # Output: 70\n",
    "\n",
    "# Truy cập phần tử theo chỉ số âm (từ phải sang)\n",
    "print(f\"Phần tử cuối cùng (index -1): {x[-1]}\")  # Output: 90\n",
    "\n",
    "# Giải thích chi tiết\n",
    "print(f\"\\nGiải thích:\")\n",
    "print(f\"List: {x}\")\n",
    "print(f\"Chỉ số:  0    1    2    3\")\n",
    "print(f\"Giá trị: 60,  70,  80,  90\")\n",
    "print(f\"Chỉ số âm: -4,  -3,  -2,  -1\")\n",
    "\n",
    "# Một số truy cập khác\n",
    "print(f\"\\nTruy cập thêm:\")\n",
    "print(f\"Phần tử thứ ba (index 2): {x[2]}\")      # Output: 80\n",
    "print(f\"Phần tử áp cuối (index -2): {x[-2]}\")   # Output: 80\n",
    "print(f\"Phần tử đầu (index -4): {x[-4]}\")       # Output: 60\n",
    "\n",
    "# Lỗi nếu truy cập ngoài phạm vi\n",
    "# print(x[4])   # Lỗi: IndexError: list index out of range\n",
    "# print(x[-5])  # Lỗi: IndexError: list index out of range"
   ]
  },
  {
   "cell_type": "markdown",
   "metadata": {
    "id": "sYXQ1smoqk_B"
   },
   "source": [
    "### Tuple ()"
   ]
  },
  {
   "cell_type": "code",
   "execution_count": 37,
   "metadata": {
    "colab": {
     "base_uri": "https://localhost:8080/"
    },
    "id": "UtwYsKfLqoDT",
    "outputId": "6ee9985b-f309-4d7f-eac3-8d709b6f1f9e"
   },
   "outputs": [
    {
     "name": "stdout",
     "output_type": "stream",
     "text": [
      "Phần tử đầu tiên (index 0): 10\n",
      "Phần tử thứ hai (index 1): 20\n",
      "Phần tử thứ ba (index 2): 30\n",
      "Phần tử cuối cùng (index -1): 50\n",
      "\n",
      "Giải thích:\n",
      "Tuple: (10, 20, 30, 40, 50)\n",
      "Chỉ số:   0    1    2    3    4\n",
      "Giá trị:  10,  20,  30,  40,  50\n",
      "Chỉ số âm: -5,  -4,  -3,  -2,  -1\n",
      "\n",
      "Truy cập thêm:\n",
      "Phần tử thứ tư (index 3): 40\n",
      "Phần tử thứ năm (index 4): 50\n",
      "Phần tử áp cuối (index -2): 40\n",
      "Phần tử đầu (index -5): 10\n",
      "\n",
      "Tính chất tuple (immutable):\n",
      "→ Tuple không cho phép thay đổi phần tử sau khi tạo\n",
      "Độ dài tuple: 5\n"
     ]
    }
   ],
   "source": [
    "x = (10, 20, 30, 40, 50)\n",
    "\n",
    "# Truy cập phần tử theo chỉ số dương (từ trái sang)\n",
    "print(f\"Phần tử đầu tiên (index 0): {x[0]}\")  # Output: 10\n",
    "print(f\"Phần tử thứ hai (index 1): {x[1]}\")   # Output: 20\n",
    "print(f\"Phần tử thứ ba (index 2): {x[2]}\")    # Output: 30\n",
    "\n",
    "# Truy cập phần tử theo chỉ số âm (từ phải sang)\n",
    "print(f\"Phần tử cuối cùng (index -1): {x[-1]}\")  # Output: 50\n",
    "\n",
    "# Giải thích chi tiết\n",
    "print(f\"\\nGiải thích:\")\n",
    "print(f\"Tuple: {x}\")\n",
    "print(f\"Chỉ số:   0    1    2    3    4\")\n",
    "print(f\"Giá trị:  10,  20,  30,  40,  50\")\n",
    "print(f\"Chỉ số âm: -5,  -4,  -3,  -2,  -1\")\n",
    "\n",
    "# Một số truy cập khác\n",
    "print(f\"\\nTruy cập thêm:\")\n",
    "print(f\"Phần tử thứ tư (index 3): {x[3]}\")      # Output: 40\n",
    "print(f\"Phần tử thứ năm (index 4): {x[4]}\")     # Output: 50\n",
    "print(f\"Phần tử áp cuối (index -2): {x[-2]}\")   # Output: 40\n",
    "print(f\"Phần tử đầu (index -5): {x[-5]}\")       # Output: 10\n",
    "\n",
    "# Tính chất của tuple - KHÔNG thể thay đổi\n",
    "print(f\"\\nTính chất tuple (immutable):\")\n",
    "# x[0] = 100  # Lỗi: TypeError: 'tuple' object does not support item assignment\n",
    "print(\"→ Tuple không cho phép thay đổi phần tử sau khi tạo\")\n",
    "\n",
    "# Độ dài của tuple\n",
    "print(f\"Độ dài tuple: {len(x)}\")  # Output: 5"
   ]
  },
  {
   "cell_type": "markdown",
   "metadata": {
    "id": "KvWTVoCTq_7b"
   },
   "source": [
    "### Set {}"
   ]
  },
  {
   "cell_type": "code",
   "execution_count": 38,
   "metadata": {
    "colab": {
     "base_uri": "https://localhost:8080/"
    },
    "id": "XXNhNsH5rEww",
    "outputId": "aa1eaf4c-5471-4ff7-cce9-41905596a1f7"
   },
   "outputs": [
    {
     "name": "stdout",
     "output_type": "stream",
     "text": [
      "True\n",
      "False\n",
      "True\n",
      "3\n",
      "3\n",
      "2\n",
      "Set cuối cùng: {'fish', 'dog'}\n",
      "\n",
      "Giải thích từng bước:\n",
      "1. Tạo set ban đầu: {'cat', 'dog'}\n",
      "2. 'cat' in animals → True (vì 'cat' có trong set)\n",
      "3. 'fish' in animals → False (vì 'fish' chưa có trong set)\n",
      "4. animals.add('fish') → thêm 'fish' vào set\n",
      "5. len(animals) → 3 (set có 3 phần tử: cat, dog, fish)\n",
      "6. animals.add('cat') → không làm gì vì 'cat' đã tồn tại\n",
      "7. len(animals) → vẫn là 3 (không thay đổi)\n",
      "8. animals.remove('cat') → xóa 'cat' khỏi set\n",
      "9. len(animals) → 2 (chỉ còn dog và fish)\n",
      "\n",
      "Phương thức khác của set:\n",
      "animals.discard('dog') → xóa nếu tồn tại (không báo lỗi)\n",
      "Set sau discard: {'fish'}\n",
      "animals.pop() → xóa và trả về phần tử ngẫu nhiên: fish\n",
      "Set cuối cùng: set()\n"
     ]
    }
   ],
   "source": [
    "animals = {'cat', 'dog'}\n",
    "\n",
    "# Kiểm tra phần tử có trong set không\n",
    "print('cat' in animals)   # Output: True\n",
    "print('fish' in animals)  # Output: False\n",
    "\n",
    "# Thêm phần tử mới vào set\n",
    "animals.add('fish')\n",
    "print('fish' in animals)  # Output: True\n",
    "\n",
    "# Đếm số phần tử trong set\n",
    "print(len(animals))       # Output: 3\n",
    "\n",
    "# Thêm phần tử đã tồn tại (set không cho phép trùng lặp)\n",
    "animals.add('cat')        # 'cat' đã có sẵn, không được thêm lại\n",
    "print(len(animals))       # Output: 3 (không tăng)\n",
    "\n",
    "# Xóa phần tử khỏi set\n",
    "animals.remove('cat')\n",
    "print(len(animals))       # Output: 2\n",
    "\n",
    "# Hiển thị set cuối cùng\n",
    "print(f\"Set cuối cùng: {animals}\")  # Output: {'dog', 'fish'}\n",
    "\n",
    "# Giải thích chi tiết\n",
    "print(f\"\\nGiải thích từng bước:\")\n",
    "print(f\"1. Tạo set ban đầu: {{'cat', 'dog'}}\")\n",
    "print(f\"2. 'cat' in animals → True (vì 'cat' có trong set)\")\n",
    "print(f\"3. 'fish' in animals → False (vì 'fish' chưa có trong set)\")\n",
    "print(f\"4. animals.add('fish') → thêm 'fish' vào set\")\n",
    "print(f\"5. len(animals) → 3 (set có 3 phần tử: cat, dog, fish)\")\n",
    "print(f\"6. animals.add('cat') → không làm gì vì 'cat' đã tồn tại\")\n",
    "print(f\"7. len(animals) → vẫn là 3 (không thay đổi)\")\n",
    "print(f\"8. animals.remove('cat') → xóa 'cat' khỏi set\")\n",
    "print(f\"9. len(animals) → 2 (chỉ còn dog và fish)\")\n",
    "\n",
    "# Một số phương thức khác của set\n",
    "print(f\"\\nPhương thức khác của set:\")\n",
    "print(f\"animals.discard('dog') → xóa nếu tồn tại (không báo lỗi)\")\n",
    "animals.discard('dog')\n",
    "print(f\"Set sau discard: {animals}\")\n",
    "\n",
    "print(f\"animals.pop() → xóa và trả về phần tử ngẫu nhiên: {animals.pop()}\")\n",
    "print(f\"Set cuối cùng: {animals}\")"
   ]
  },
  {
   "cell_type": "markdown",
   "metadata": {
    "id": "JuErqlwsrb7b"
   },
   "source": [
    "### Dictionary {key : value}"
   ]
  },
  {
   "cell_type": "code",
   "execution_count": 39,
   "metadata": {
    "colab": {
     "base_uri": "https://localhost:8080/"
    },
    "id": "nu5dlUbMrgx3",
    "outputId": "f2e7e58a-f66e-4619-dee4-3393e04b9743"
   },
   "outputs": [
    {
     "name": "stdout",
     "output_type": "stream",
     "text": [
      "English\n",
      "\n",
      "Giải thích Dictionary:\n",
      "Dictionary: {'EN': 'English', 'FR': 'French'}\n",
      "Key 'EN' → Value 'English'\n",
      "Key 'FR' → Value 'French'\n",
      "\n",
      "Các cách truy cập:\n",
      "k.get('EN'): English\n",
      "k.get('DE'): None\n",
      "k.get('DE', 'Not Found'): Not Found\n",
      "\n",
      "Sau khi thêm 'ES': {'EN': 'English', 'FR': 'French', 'ES': 'Spanish'}\n",
      "'EN' in k: True\n",
      "'DE' in k: False\n",
      "\n",
      "Tất cả keys: ['EN', 'FR', 'ES']\n",
      "Tất cả values: ['English', 'French', 'Spanish']\n",
      "Tất cả items: [('EN', 'English'), ('FR', 'French'), ('ES', 'Spanish')]\n",
      "Sau khi xóa 'FR': {'EN': 'English', 'ES': 'Spanish'}\n",
      "Số phần tử trong dictionary: 2\n"
     ]
    }
   ],
   "source": [
    "# Python Dictionary - Từ điển (Key → Value)\n",
    "k = {\n",
    "    'EN': 'English',\n",
    "    'FR': 'French'\n",
    "}\n",
    "\n",
    "# Truy cập giá trị qua key\n",
    "print(k['EN'])  # Output: English\n",
    "\n",
    "# Giải thích chi tiết\n",
    "print(f\"\\nGiải thích Dictionary:\")\n",
    "print(f\"Dictionary: {k}\")\n",
    "print(f\"Key 'EN' → Value '{k['EN']}'\")\n",
    "print(f\"Key 'FR' → Value '{k['FR']}'\")\n",
    "\n",
    "# Các cách truy cập khác\n",
    "print(f\"\\nCác cách truy cập:\")\n",
    "print(f\"k.get('EN'): {k.get('EN')}\")          # Output: English\n",
    "print(f\"k.get('DE'): {k.get('DE')}\")          # Output: None (key không tồn tại)\n",
    "print(f\"k.get('DE', 'Not Found'): {k.get('DE', 'Not Found')}\")  # Output: Not Found\n",
    "\n",
    "# Thêm phần tử mới\n",
    "k['ES'] = 'Spanish'\n",
    "print(f\"\\nSau khi thêm 'ES': {k}\")\n",
    "\n",
    "# Kiểm tra key có tồn tại\n",
    "print(f\"'EN' in k: {'EN' in k}\")      # Output: True\n",
    "print(f\"'DE' in k: {'DE' in k}\")      # Output: False\n",
    "\n",
    "# Lấy tất cả keys và values\n",
    "print(f\"\\nTất cả keys: {list(k.keys())}\")      # Output: ['EN', 'FR', 'ES']\n",
    "print(f\"Tất cả values: {list(k.values())}\")    # Output: ['English', 'French', 'Spanish']\n",
    "print(f\"Tất cả items: {list(k.items())}\")      # Output: [('EN', 'English'), ('FR', 'French'), ('ES', 'Spanish')]\n",
    "\n",
    "# Xóa phần tử\n",
    "del k['FR']\n",
    "print(f\"Sau khi xóa 'FR': {k}\")\n",
    "\n",
    "# Đếm số phần tử\n",
    "print(f\"Số phần tử trong dictionary: {len(k)}\")  # Output: 2"
   ]
  },
  {
   "cell_type": "markdown",
   "metadata": {
    "id": "Jwt28GABtfIL"
   },
   "source": [
    "## Python for Finance Applications"
   ]
  },
  {
   "cell_type": "code",
   "execution_count": 42,
   "metadata": {
    "colab": {
     "base_uri": "https://localhost:8080/"
    },
    "id": "nIA4d4NGtiYs",
    "outputId": "7a334191-5b2c-4791-9430-233209db04e3"
   },
   "outputs": [
    {
     "name": "stdout",
     "output_type": "stream",
     "text": [
      "Total expenses: 293.5\n"
     ]
    }
   ],
   "source": [
    "# Python Lists\n",
    "expenses = [72.50, 80.75, 50.00, 90.25]\n",
    "total_expenses = sum(expenses)\n",
    "print(\"Total expenses:\", total_expenses)"
   ]
  },
  {
   "cell_type": "code",
   "execution_count": 44,
   "metadata": {
    "colab": {
     "base_uri": "https://localhost:8080/"
    },
    "id": "doEKtWpltwVk",
    "outputId": "1bf5f4c8-fdbb-4eff-ab11-62dc76c07245"
   },
   "outputs": [
    {
     "name": "stdout",
     "output_type": "stream",
     "text": [
      "Account name: Cash Account number: 1001\n",
      "Account name: Accounts Receivable Account number: 1002\n",
      "Account name: Inventory Account number: 1003\n"
     ]
    }
   ],
   "source": [
    "# Python Tuples\n",
    "accounts = ((\"Cash\", 1001), (\"Accounts Receivable\", 1002),\n",
    "(\"Inventory\", 1003))\n",
    "for account in accounts:\n",
    "\n",
    "  print(\"Account name:\", account[0], \"Account number:\", account[1])"
   ]
  },
  {
   "cell_type": "code",
   "execution_count": 46,
   "metadata": {
    "colab": {
     "base_uri": "https://localhost:8080/"
    },
    "id": "Jdklj86Mt5Lj",
    "outputId": "7488672e-9ed5-4577-ec5c-dcf40b4fb9cd"
   },
   "outputs": [
    {
     "name": "stdout",
     "output_type": "stream",
     "text": [
      "Account number 1004 is not in use.\n"
     ]
    }
   ],
   "source": [
    "# Python Sets\n",
    "account_numbers = {1001, 1002, 1003}\n",
    "new_account_number = 1004\n",
    "if new_account_number not in account_numbers:\n",
    "\n",
    "  print(\"Account number\", new_account_number, \"is not in use.\")"
   ]
  },
  {
   "cell_type": "code",
   "execution_count": 48,
   "metadata": {
    "colab": {
     "base_uri": "https://localhost:8080/"
    },
    "id": "ddODVstnt74w",
    "outputId": "510e91ff-bf81-4c4d-a238-0994c210ddc3"
   },
   "outputs": [
    {
     "name": "stdout",
     "output_type": "stream",
     "text": [
      "Account number: 1001\n",
      "Account name: Cash\n",
      "Account balance: 500.0\n",
      "Account type: Asset\n",
      "Account number: 1002\n",
      "Account name: Accounts Receivable\n",
      "Account balance: 1000.0\n",
      "Account type: Asset\n",
      "Account number: 2001\n",
      "Account name: Accounts Payable\n",
      "Account balance: 750.0\n",
      "Account type: Liability\n"
     ]
    }
   ],
   "source": [
    "# Python Dictionaries\n",
    "accounts = {\"1001\": {\"name\": \"Cash\", \"balance\": 500.00, \"type\": \"Asset\"},\n",
    "\"1002\": {\"name\": \"Accounts Receivable\", \"balance\": 1000.00, \"type\": \"Asset\"},\n",
    "\"2001\": {\"name\": \"Accounts Payable\", \"balance\": 750.00, \"type\": \"Liability\"}}\n",
    "for account_number, account_info in accounts.items():\n",
    "  print(\"Account number:\", account_number)\n",
    "  print(\"Account name:\", account_info[\"name\"])\n",
    "  print(\"Account balance:\", account_info[\"balance\"])\n",
    "  print(\"Account type:\", account_info[\"type\"])"
   ]
  },
  {
   "cell_type": "markdown",
   "metadata": {
    "id": "wjGJWgthQJRm"
   },
   "source": [
    "# Python Control Logic and Loops"
   ]
  },
  {
   "cell_type": "markdown",
   "metadata": {
    "id": "xagfnZcxQqRM"
   },
   "source": [
    "## Python if else"
   ]
  },
  {
   "cell_type": "markdown",
   "metadata": {
    "id": "SmkDLIQDQ2Yv"
   },
   "source": [
    "### if elif else"
   ]
  },
  {
   "cell_type": "code",
   "execution_count": 1,
   "metadata": {
    "colab": {
     "base_uri": "https://localhost:8080/"
    },
    "id": "XH4x2EPLRGDf",
    "outputId": "92f6d89a-672e-482d-8f25-b2c85a25fc7a"
   },
   "outputs": [
    {
     "name": "stdout",
     "output_type": "stream",
     "text": [
      "Pass\n",
      "Điểm số: 80\n",
      "Điều kiện: score >= 60\n",
      "Kết quả: Pass vì 80 >= 60 là True\n"
     ]
    }
   ],
   "source": [
    "# Python if statement\n",
    "score = 80\n",
    "\n",
    "if score >= 60:\n",
    "    print(\"Pass\")  # Output: Pass\n",
    "\n",
    "# Giải thích chi tiết\n",
    "print(f\"Điểm số: {score}\")\n",
    "print(\"Điều kiện: score >= 60\")\n",
    "print(\"Kết quả: Pass vì 80 >= 60 là True\")"
   ]
  },
  {
   "cell_type": "code",
   "execution_count": 2,
   "metadata": {
    "colab": {
     "base_uri": "https://localhost:8080/"
    },
    "id": "5oJCcEVWRhuA",
    "outputId": "dd0f9512-5186-468a-a7cc-5ac051a97125"
   },
   "outputs": [
    {
     "name": "stdout",
     "output_type": "stream",
     "text": [
      "Pass\n",
      "\n",
      "Giải thích:\n",
      "Điểm số: 80\n",
      "Điều kiện: score >= 60 → True\n",
      "Vì 80 >= 60 là True, nên in 'Pass'\n",
      "\n",
      "Cú pháp if else:\n",
      "if điều_kiện:\n",
      "    # code thực thi nếu điều_kiện True\n",
      "else:\n",
      "    # code thực thi nếu điều_kiện False\n",
      "\n",
      "Lưu ý quan trọng:\n",
      "- Sau if và else phải có dấu hai chấm (:)\n",
      "- Code bên trong if và else phải thụt lề 4 spaces\n",
      "- Thụt lề sai sẽ gây lỗi IndentationError\n"
     ]
    }
   ],
   "source": [
    "# Python if else\n",
    "score = 80\n",
    "\n",
    "if score >= 60:\n",
    "    print(\"Pass\")  # Điều kiện đúng, in \"Pass\"\n",
    "else:\n",
    "    print(\"Fail\")  # Điều kiện sai, in \"Fail\"\n",
    "\n",
    "# Giải thích đoạn code\n",
    "print(f\"\\nGiải thích:\")\n",
    "print(f\"Điểm số: {score}\")\n",
    "print(f\"Điều kiện: score >= 60 → {score >= 60}\")\n",
    "print(f\"Vì {score} >= 60 là True, nên in 'Pass'\")\n",
    "\n",
    "# Cú pháp cơ bản của if else\n",
    "print(f\"\\nCú pháp if else:\")\n",
    "print(\"if điều_kiện:\")\n",
    "print(\"    # code thực thi nếu điều_kiện True\")\n",
    "print(\"else:\")\n",
    "print(\"    # code thực thi nếu điều_kiện False\")\n",
    "\n",
    "# Lưu ý về thụt lề (indentation)\n",
    "print(f\"\\nLưu ý quan trọng:\")\n",
    "print(\"- Sau if và else phải có dấu hai chấm (:)\")\n",
    "print(\"- Code bên trong if và else phải thụt lề 4 spaces\")\n",
    "print(\"- Thụt lề sai sẽ gây lỗi IndentationError\")"
   ]
  },
  {
   "cell_type": "code",
   "execution_count": 3,
   "metadata": {
    "colab": {
     "base_uri": "https://localhost:8080/"
    },
    "id": "5zh3OZ73R-LL",
    "outputId": "85562962-5c4a-4ff6-88ce-a0dfe69bfe80"
   },
   "outputs": [
    {
     "name": "stdout",
     "output_type": "stream",
     "text": [
      "A\n",
      "\n",
      "Giải thích:\n",
      "Điểm số: 95\n",
      "Kiểm tra lần lượt:\n",
      "1. score >= 90 → True → True → in 'A'\n",
      "2. score >= 60 → True → True (nhưng không kiểm tra vì điều kiện trước đã đúng)\n",
      "3. else → không thực hiện\n",
      "\n",
      "Cách hoạt động của elif:\n",
      "- if: Kiểm tra điều kiện đầu tiên\n",
      "- elif: Chỉ kiểm tra nếu tất cả if/elif trước đó False\n",
      "- else: Chỉ chạy nếu tất cả if/elif đều False\n",
      "- Chỉ MỘT khối code được thực thi\n",
      "\n",
      "Ví dụ thứ tự quan trọng:\n",
      "\n",
      "Điểm số: 75\n",
      "Pass\n"
     ]
    }
   ],
   "source": [
    "score = 95\n",
    "\n",
    "if score >= 90:\n",
    "    print(\"A\")        # Điều kiện đúng đầu tiên, in \"A\"\n",
    "elif score >= 60:\n",
    "    print(\"Pass\")     # Bỏ qua vì điều kiện trước đã đúng\n",
    "else:\n",
    "    print(\"Fail\")     # Bỏ qua vì điều kiện trước đã đúng\n",
    "\n",
    "# Giải thích đoạn code\n",
    "print(f\"\\nGiải thích:\")\n",
    "print(f\"Điểm số: {score}\")\n",
    "print(f\"Kiểm tra lần lượt:\")\n",
    "print(f\"1. score >= 90 → {score >= 90} → True → in 'A'\")\n",
    "print(f\"2. score >= 60 → {score >= 60} → True (nhưng không kiểm tra vì điều kiện trước đã đúng)\")\n",
    "print(f\"3. else → không thực hiện\")\n",
    "\n",
    "# Cách hoạt động của elif\n",
    "print(f\"\\nCách hoạt động của elif:\")\n",
    "print(\"- if: Kiểm tra điều kiện đầu tiên\")\n",
    "print(\"- elif: Chỉ kiểm tra nếu tất cả if/elif trước đó False\")\n",
    "print(\"- else: Chỉ chạy nếu tất cả if/elif đều False\")\n",
    "print(\"- Chỉ MỘT khối code được thực thi\")\n",
    "\n",
    "# Thứ tự kiểm tra quan trọng\n",
    "print(f\"\\nVí dụ thứ tự quan trọng:\")\n",
    "score = 75\n",
    "print(f\"\\nĐiểm số: {score}\")\n",
    "if score >= 60:\n",
    "    print(\"Pass\")     # Điều kiện đúng đầu tiên\n",
    "elif score >= 90:\n",
    "    print(\"A\")        # Không kiểm tra vì điều kiện trước đã đúng\n",
    "else:\n",
    "    print(\"Fail\")"
   ]
  },
  {
   "cell_type": "code",
   "execution_count": 1,
   "metadata": {
    "colab": {
     "base_uri": "https://localhost:8080/"
    },
    "id": "eF4cj5P4hb6i",
    "outputId": "b76c0094-009a-4488-c8eb-83c283b733e5"
   },
   "outputs": [
    {
     "name": "stdout",
     "output_type": "stream",
     "text": [
      "A\n",
      "\n",
      "Giải thích:\n",
      "Điểm số: 90\n",
      "Kiểm tra lần lượt:\n",
      "1. score >= 90 → True → True → grade = 'A'\n",
      "2. score >= 80 → True → True (nhưng không kiểm tra)\n",
      "3. score >= 70 → True → True (nhưng không kiểm tra)\n",
      "4. score >= 60 → True → True (nhưng không kiểm tra)\n",
      "5. else → không thực hiện\n",
      "Kết quả: grade = 'A'\n",
      "\n",
      "Minh họa với các điểm số khác:\n",
      "Điểm 95 → Xếp loại: A\n",
      "Điểm 85 → Xếp loại: B\n",
      "Điểm 75 → Xếp loại: C\n",
      "Điểm 65 → Xếp loại: D\n",
      "Điểm 55 → Xếp loại: E\n"
     ]
    }
   ],
   "source": [
    "# Python if elif else\n",
    "score = 90\n",
    "grade = \"\"\n",
    "\n",
    "if score >= 90:\n",
    "    grade = \"A\"      # Điều kiện đúng đầu tiên, gán \"A\"\n",
    "elif score >= 80:\n",
    "    grade = \"B\"      # Bỏ qua vì điều kiện trước đã đúng\n",
    "elif score >= 70:\n",
    "    grade = \"C\"      # Bỏ qua vì điều kiện trước đã đúng\n",
    "elif score >= 60:\n",
    "    grade = \"D\"      # Bỏ qua vì điều kiện trước đã đúng\n",
    "else:\n",
    "    grade = \"E\"      # Bỏ qua vì điều kiện trước đã đúng\n",
    "\n",
    "print(grade)         # Output: A\n",
    "\n",
    "# Giải thích đoạn code\n",
    "print(f\"\\nGiải thích:\")\n",
    "print(f\"Điểm số: {score}\")\n",
    "print(f\"Kiểm tra lần lượt:\")\n",
    "print(f\"1. score >= 90 → {score >= 90} → True → grade = 'A'\")\n",
    "print(f\"2. score >= 80 → {score >= 80} → True (nhưng không kiểm tra)\")\n",
    "print(f\"3. score >= 70 → {score >= 70} → True (nhưng không kiểm tra)\")\n",
    "print(f\"4. score >= 60 → {score >= 60} → True (nhưng không kiểm tra)\")\n",
    "print(f\"5. else → không thực hiện\")\n",
    "print(f\"Kết quả: grade = '{grade}'\")\n",
    "\n",
    "# Minh họa với các giá trị khác\n",
    "print(f\"\\nMinh họa với các điểm số khác:\")\n",
    "test_scores = [95, 85, 75, 65, 55]\n",
    "\n",
    "for test_score in test_scores:\n",
    "    if test_score >= 90:\n",
    "        result = \"A\"\n",
    "    elif test_score >= 80:\n",
    "        result = \"B\"\n",
    "    elif test_score >= 70:\n",
    "        result = \"C\"\n",
    "    elif test_score >= 60:\n",
    "        result = \"D\"\n",
    "    else:\n",
    "        result = \"E\"\n",
    "    print(f\"Điểm {test_score} → Xếp loại: {result}\")"
   ]
  },
  {
   "cell_type": "markdown",
   "metadata": {
    "id": "x_KJatx2h1Ev"
   },
   "source": [
    "## Python for Loops"
   ]
  },
  {
   "cell_type": "code",
   "execution_count": 4,
   "metadata": {
    "colab": {
     "base_uri": "https://localhost:8080/"
    },
    "id": "DwksEtOVh7qX",
    "outputId": "5b5fda26-ef88-4f4b-aa02-547bd7647feb"
   },
   "outputs": [
    {
     "name": "stdout",
     "output_type": "stream",
     "text": [
      "1\n",
      "2\n",
      "3\n",
      "4\n",
      "5\n",
      "\n",
      "Giải thích:\n",
      "range(1, 6) tạo dãy số từ 1 đến 5 (không bao gồm 6)\n",
      "Vòng lặp for chạy 5 lần với i lần lượt nhận giá trị:\n"
     ]
    }
   ],
   "source": [
    "for i in range(1,6):\n",
    "\n",
    "  print(i)\n",
    "\n",
    "# Giải thích đoạn code\n",
    "print(f\"\\nGiải thích:\")\n",
    "print(\"range(1, 6) tạo dãy số từ 1 đến 5 (không bao gồm 6)\")\n",
    "print(\"Vòng lặp for chạy 5 lần với i lần lượt nhận giá trị:\")"
   ]
  },
  {
   "cell_type": "code",
   "execution_count": 7,
   "metadata": {
    "colab": {
     "base_uri": "https://localhost:8080/"
    },
    "id": "l2WjstvLigSX",
    "outputId": "8f190091-c0f3-43db-c7d5-fab445b51fe0"
   },
   "outputs": [
    {
     "name": "stdout",
     "output_type": "stream",
     "text": [
      "1  *  1  =  1\n",
      "1  *  2  =  2\n",
      "1  *  3  =  3\n",
      "1  *  4  =  4\n",
      "1  *  5  =  5\n",
      "1  *  6  =  6\n",
      "1  *  7  =  7\n",
      "1  *  8  =  8\n",
      "1  *  9  =  9\n",
      "2  *  1  =  2\n",
      "2  *  2  =  4\n",
      "2  *  3  =  6\n",
      "2  *  4  =  8\n",
      "2  *  5  =  10\n",
      "2  *  6  =  12\n",
      "2  *  7  =  14\n",
      "2  *  8  =  16\n",
      "2  *  9  =  18\n",
      "3  *  1  =  3\n",
      "3  *  2  =  6\n",
      "3  *  3  =  9\n",
      "3  *  4  =  12\n",
      "3  *  5  =  15\n",
      "3  *  6  =  18\n",
      "3  *  7  =  21\n",
      "3  *  8  =  24\n",
      "3  *  9  =  27\n",
      "4  *  1  =  4\n",
      "4  *  2  =  8\n",
      "4  *  3  =  12\n",
      "4  *  4  =  16\n",
      "4  *  5  =  20\n",
      "4  *  6  =  24\n",
      "4  *  7  =  28\n",
      "4  *  8  =  32\n",
      "4  *  9  =  36\n",
      "5  *  1  =  5\n",
      "5  *  2  =  10\n",
      "5  *  3  =  15\n",
      "5  *  4  =  20\n",
      "5  *  5  =  25\n",
      "5  *  6  =  30\n",
      "5  *  7  =  35\n",
      "5  *  8  =  40\n",
      "5  *  9  =  45\n",
      "6  *  1  =  6\n",
      "6  *  2  =  12\n",
      "6  *  3  =  18\n",
      "6  *  4  =  24\n",
      "6  *  5  =  30\n",
      "6  *  6  =  36\n",
      "6  *  7  =  42\n",
      "6  *  8  =  48\n",
      "6  *  9  =  54\n",
      "7  *  1  =  7\n",
      "7  *  2  =  14\n",
      "7  *  3  =  21\n",
      "7  *  4  =  28\n",
      "7  *  5  =  35\n",
      "7  *  6  =  42\n",
      "7  *  7  =  49\n",
      "7  *  8  =  56\n",
      "7  *  9  =  63\n",
      "8  *  1  =  8\n",
      "8  *  2  =  16\n",
      "8  *  3  =  24\n",
      "8  *  4  =  32\n",
      "8  *  5  =  40\n",
      "8  *  6  =  48\n",
      "8  *  7  =  56\n",
      "8  *  8  =  64\n",
      "8  *  9  =  72\n",
      "9  *  1  =  9\n",
      "9  *  2  =  18\n",
      "9  *  3  =  27\n",
      "9  *  4  =  36\n",
      "9  *  5  =  45\n",
      "9  *  6  =  54\n",
      "9  *  7  =  63\n",
      "9  *  8  =  72\n",
      "9  *  9  =  81\n"
     ]
    }
   ],
   "source": [
    "# for loops\n",
    "for i in range(1,10):\n",
    "\n",
    "  for j in range(1,10):\n",
    "    print(i, ' * ' , j , ' = ', i*j)"
   ]
  },
  {
   "cell_type": "markdown",
   "metadata": {
    "id": "Wv0uuLf2iuiX"
   },
   "source": [
    "## Python while Loops"
   ]
  },
  {
   "cell_type": "code",
   "execution_count": 8,
   "metadata": {
    "colab": {
     "base_uri": "https://localhost:8080/"
    },
    "id": "urRx5YPlizdK",
    "outputId": "e3c4734d-4509-4e2a-ce91-b86552589485"
   },
   "outputs": [
    {
     "name": "stdout",
     "output_type": "stream",
     "text": [
      "10\n",
      "11\n",
      "12\n",
      "13\n",
      "14\n",
      "15\n",
      "16\n",
      "17\n",
      "18\n",
      "19\n"
     ]
    }
   ],
   "source": [
    "# while loops\n",
    "age = 10\n",
    "while age < 20:\n",
    "  print(age)\n",
    "  age = age + 1"
   ]
  },
  {
   "cell_type": "markdown",
   "metadata": {
    "id": "trozbGSqjGEt"
   },
   "source": [
    "# Python Functions"
   ]
  },
  {
   "cell_type": "markdown",
   "metadata": {
    "id": "fKURqHA1jP60"
   },
   "source": [
    "## Python Function def"
   ]
  },
  {
   "cell_type": "code",
   "execution_count": 9,
   "metadata": {
    "colab": {
     "base_uri": "https://localhost:8080/"
    },
    "id": "N_QLddI4jRqa",
    "outputId": "913b16a6-bfb2-4f82-def6-9eb3cbf165fc"
   },
   "outputs": [
    {
     "name": "stdout",
     "output_type": "stream",
     "text": [
      "194.87\n",
      "\n",
      "Giải thích hàm getfv:\n",
      "def getfv(pv, r, n): → Định nghĩa hàm với 3 tham số\n",
      "    pv: Present Value (giá trị hiện tại)\n",
      "    r: Interest rate (lãi suất)\n",
      "    n: Number of periods (số kỳ)\n",
      "Công thức: FV = PV × (1 + r)^n\n",
      "return fv → Trả về giá trị tương lai\n"
     ]
    }
   ],
   "source": [
    "# Python Function def\n",
    "# indentation for blocks. four spaces\n",
    "def getfv(pv, r, n):\n",
    "    fv = pv * ((1 + (r)) ** n)\n",
    "    return fv\n",
    "\n",
    "fv = getfv(100, 0.1, 7)\n",
    "print(round(fv, 2))  # Output: 194.87\n",
    "\n",
    "# Giải thích đoạn code\n",
    "print(f\"\\nGiải thích hàm getfv:\")\n",
    "print(\"def getfv(pv, r, n): → Định nghĩa hàm với 3 tham số\")\n",
    "print(\"    pv: Present Value (giá trị hiện tại)\")\n",
    "print(\"    r: Interest rate (lãi suất)\")\n",
    "print(\"    n: Number of periods (số kỳ)\")\n",
    "print(\"Công thức: FV = PV × (1 + r)^n\")\n",
    "print(\"return fv → Trả về giá trị tương lai\")"
   ]
  },
  {
   "cell_type": "code",
   "execution_count": 11,
   "metadata": {
    "colab": {
     "base_uri": "https://localhost:8080/"
    },
    "id": "9hwPDixEkAI3",
    "outputId": "5c7d314f-e2e8-4620-c1f5-60f59fa1db35"
   },
   "outputs": [
    {
     "name": "stdout",
     "output_type": "stream",
     "text": [
      "194.87\n"
     ]
    }
   ],
   "source": [
    "# Python Function def\n",
    "# indentation for blocks. four spaces\n",
    "def getfv(pv, r, n):\n",
    "\n",
    "  fv = pv * ((1 + (r)) ** n)\n",
    "  return fv\n",
    "\n",
    "fv = getfv(100, 0.1, 7)\n",
    "print(round(fv, 2))"
   ]
  },
  {
   "cell_type": "markdown",
   "metadata": {
    "id": "05Zfjxt4kKz1"
   },
   "source": [
    "# Python Classes/Objects"
   ]
  },
  {
   "cell_type": "code",
   "execution_count": 12,
   "metadata": {
    "colab": {
     "base_uri": "https://localhost:8080/"
    },
    "id": "IZ4r18x9kb6E",
    "outputId": "2cd75385-16ec-4907-b61e-9735375a7700"
   },
   "outputs": [
    {
     "name": "stdout",
     "output_type": "stream",
     "text": [
      "5\n",
      "\n",
      "Giải thích class:\n",
      "class MyClass: → Định nghĩa một class mới\n",
      "    x = 5 → Thuộc tính của class (class attribute)\n",
      "c1 = MyClass() → Tạo đối tượng từ class\n",
      "c1.x → Truy cập thuộc tính x của đối tượng c1\n"
     ]
    }
   ],
   "source": [
    "# Python class\n",
    "class MyClass:\n",
    "    x = 5  # Thuộc tính của class\n",
    "\n",
    "# Tạo đối tượng (instance) từ class\n",
    "c1 = MyClass()\n",
    "print(c1.x)  # Output: 5\n",
    "\n",
    "# Giải thích đoạn code\n",
    "print(f\"\\nGiải thích class:\")\n",
    "print(\"class MyClass: → Định nghĩa một class mới\")\n",
    "print(\"    x = 5 → Thuộc tính của class (class attribute)\")\n",
    "print(\"c1 = MyClass() → Tạo đối tượng từ class\")\n",
    "print(\"c1.x → Truy cập thuộc tính x của đối tượng c1\")"
   ]
  },
  {
   "cell_type": "code",
   "execution_count": 15,
   "metadata": {
    "colab": {
     "base_uri": "https://localhost:8080/"
    },
    "id": "pzVu8O-El5WO",
    "outputId": "3d91b9c5-8778-4c0e-fc34-deb20eee87d2"
   },
   "outputs": [
    {
     "name": "stdout",
     "output_type": "stream",
     "text": [
      "Alan\n",
      "20\n"
     ]
    }
   ],
   "source": [
    "class Person:\n",
    "\n",
    "  def __init__(self, name, age):\n",
    "    self.name = name\n",
    "    self.age = age\n",
    "\n",
    "p1 = Person(\"Alan\", 20)\n",
    "\n",
    "print(p1.name)\n",
    "print(p1.age)"
   ]
  },
  {
   "cell_type": "code",
   "execution_count": 17,
   "metadata": {
    "colab": {
     "base_uri": "https://localhost:8080/"
    },
    "id": "BXu0MmFHmHr_",
    "outputId": "785aac24-5b4c-465c-f62d-8e071359c81c"
   },
   "outputs": [
    {
     "name": "stdout",
     "output_type": "stream",
     "text": [
      "Hello my name is Alan\n"
     ]
    }
   ],
   "source": [
    "class Person:\n",
    "\n",
    "  def __init__(self, name, age):\n",
    "    self.name = name\n",
    "    self.age = age\n",
    "\n",
    "  def myfunc(self):\n",
    "\n",
    "    print(\"Hello my name is \" + self.name)\n",
    "\n",
    "p1 = Person(\"Alan\", 20)\n",
    "p1.myfunc()"
   ]
  },
  {
   "cell_type": "code",
   "execution_count": 18,
   "metadata": {
    "colab": {
     "base_uri": "https://localhost:8080/"
    },
    "id": "mnuEeJlRmT8r",
    "outputId": "6059afc5-e925-4f34-d4f4-6804075154ca"
   },
   "outputs": [
    {
     "name": "stdout",
     "output_type": "stream",
     "text": [
      "Hello my name is Alan\n",
      "Alan\n",
      "20\n"
     ]
    }
   ],
   "source": [
    "class Person:\n",
    "\n",
    "  def __init__(self, name, age):\n",
    "    self.name = name\n",
    "    self.age = age\n",
    "\n",
    "  def myfunc(self):\n",
    "\n",
    "    print(\"Hello my name is \" + self.name)\n",
    "\n",
    "p1 = Person(\"Alan\", 20)\n",
    "p1.myfunc()\n",
    "print(p1.name)\n",
    "print(p1.age)"
   ]
  },
  {
   "cell_type": "code",
   "execution_count": 22,
   "metadata": {
    "id": "r1jjbR-smboS"
   },
   "outputs": [],
   "source": [
    "class Vehicle:\n",
    "  name = \"\"\n",
    "  kind = \"car\"\n",
    "  color = \"\"\n",
    "  value = 100.00\n",
    "  def description(self):\n",
    "\n",
    "    desc_str = \"%s is a %s %s worth $%.2f.\" %(self.name, self.color, self.kind, self.value)\n",
    "\n",
    "    return desc_str"
   ]
  },
  {
   "cell_type": "code",
   "execution_count": 23,
   "metadata": {
    "colab": {
     "base_uri": "https://localhost:8080/"
    },
    "id": "bb6Zjj3Rm0N1",
    "outputId": "0f891f9f-9dbe-42f4-e9c5-afcc080734db"
   },
   "outputs": [
    {
     "name": "stdout",
     "output_type": "stream",
     "text": [
      "Fer is a red convertible worth $60000.00.\n",
      "Fer\n",
      "Jump is a blue van worth $10000.00.\n",
      "Jump\n"
     ]
    }
   ],
   "source": [
    "car1 = Vehicle()\n",
    "car1.name = \"Fer\"\n",
    "car1.color = \"red\"\n",
    "car1.kind = \"convertible\"\n",
    "car1.value = 60000.00\n",
    "\n",
    "car2 = Vehicle()\n",
    "car2.name = \"Jump\"\n",
    "car2.color = \"blue\"\n",
    "car2.kind = \"van\"\n",
    "car2.value = 10000.00\n",
    "\n",
    "print(car1.description())\n",
    "print(car1.name)\n",
    "print(car2.description())\n",
    "print(car2.name)"
   ]
  },
  {
   "cell_type": "markdown",
   "metadata": {
    "id": "chFFxN_6nDUl"
   },
   "source": [
    "# Python Modules"
   ]
  },
  {
   "cell_type": "code",
   "execution_count": 1,
   "metadata": {},
   "outputs": [
    {
     "name": "stdout",
     "output_type": "stream",
     "text": [
      "Hello, Alan\n"
     ]
    }
   ],
   "source": [
    "import mymodule\n",
    "mymodule.greeting(\"Alan\")"
   ]
  },
  {
   "cell_type": "code",
   "execution_count": 3,
   "metadata": {},
   "outputs": [
    {
     "name": "stdout",
     "output_type": "stream",
     "text": [
      "Hello World\n",
      "This is Python File Input Output\n"
     ]
    }
   ],
   "source": [
    "# Python File Input / Output\n",
    "with open('myfile.txt', 'w') as file:\n",
    "\n",
    "    file.write('Hello World\\nThis is Python File Input Output')\n",
    "\n",
    "with open('myfile.txt', 'r') as file:\n",
    "\n",
    "    text = file.read()\n",
    "    print(text)"
   ]
  },
  {
   "cell_type": "code",
   "execution_count": 1,
   "metadata": {},
   "outputs": [
    {
     "name": "stdout",
     "output_type": "stream",
     "text": [
      "mymodule.py\n",
      "def greeting(name):\n",
      "    print(\"Hello, \" + name)\n",
      "\n"
     ]
    }
   ],
   "source": [
    "# Python File Input / Output\n",
    "filename = 'mymodule.py'\n",
    "\n",
    "with open(filename, 'w') as file:\n",
    "    text = '''def greeting(name):\n",
    "    print(\"Hello, \" + name)\n",
    "'''\n",
    "    file.write(text)\n",
    "\n",
    "with open(filename, 'r') as file:\n",
    "    text = file.read()\n",
    "    print(filename)\n",
    "    print(text)"
   ]
  },
  {
   "cell_type": "code",
   "execution_count": 2,
   "metadata": {},
   "outputs": [
    {
     "name": "stdout",
     "output_type": "stream",
     "text": [
      "Hello World!\n"
     ]
    }
   ],
   "source": [
    "#Python main() function\n",
    "def main():\n",
    "\n",
    "    print(\"Hello World!\")\n",
    "\n",
    "if __name__ == \"__main__\":\n",
    "\n",
    "    main()"
   ]
  },
  {
   "cell_type": "markdown",
   "metadata": {},
   "source": [
    "# Files and Exception Handling"
   ]
  },
  {
   "cell_type": "markdown",
   "metadata": {},
   "source": [
    "## Python Files (File Handling)"
   ]
  },
  {
   "cell_type": "code",
   "execution_count": 3,
   "metadata": {},
   "outputs": [
    {
     "name": "stdout",
     "output_type": "stream",
     "text": [
      "Hello World\n"
     ]
    }
   ],
   "source": [
    "f = open(\"myfile.txt\", \"w\")\n",
    "\n",
    "f.write(\"Hello World\")\n",
    "f.close()\n",
    "\n",
    "f = open(\"myfile.txt\", \"r\")\n",
    "\n",
    "text = f.read()\n",
    "print(text)\n",
    "f.close()"
   ]
  },
  {
   "cell_type": "code",
   "execution_count": 5,
   "metadata": {},
   "outputs": [
    {
     "name": "stdout",
     "output_type": "stream",
     "text": [
      "Hello World\n"
     ]
    }
   ],
   "source": [
    "# Python File Input / Output\n",
    "with open('myfile.txt', 'w') as file:\n",
    "\n",
    "    file.write('Hello World')\n",
    "\n",
    "with open('myfile.txt', 'r') as file:\n",
    "\n",
    "    text = file.read()\n",
    "\n",
    "print(text)"
   ]
  },
  {
   "cell_type": "code",
   "execution_count": 6,
   "metadata": {},
   "outputs": [
    {
     "name": "stdout",
     "output_type": "stream",
     "text": [
      "Hello World\n",
      "Python File IO\n"
     ]
    }
   ],
   "source": [
    "# Python File Input / Output\n",
    "with open('myfile.txt', 'w') as file:\n",
    "    file.write('Hello World\\nPython File IO')\n",
    "\n",
    "with open('myfile.txt', 'r') as file:\n",
    "\n",
    "    text = file.read()\n",
    "\n",
    "print(text)"
   ]
  },
  {
   "cell_type": "code",
   "execution_count": 7,
   "metadata": {},
   "outputs": [
    {
     "name": "stdout",
     "output_type": "stream",
     "text": [
      "Hello World\n",
      "Python File IO\n",
      "New line\n"
     ]
    }
   ],
   "source": [
    "# Python File Input / Output\n",
    "with open('myfile.txt', 'a+') as file:\n",
    "\n",
    "    file.write('\\n' + 'New line')\n",
    "\n",
    "with open('myfile.txt', 'r') as file:\n",
    "\n",
    "    text = file.read()\n",
    "\n",
    "print(text)"
   ]
  },
  {
   "cell_type": "markdown",
   "metadata": {},
   "source": [
    "## Python Try Except"
   ]
  },
  {
   "cell_type": "code",
   "execution_count": 9,
   "metadata": {},
   "outputs": [
    {
     "name": "stdout",
     "output_type": "stream",
     "text": [
      "Exception Error\n",
      "\n",
      "==================================================\n",
      "GIẢI THÍCH CHI TIẾT:\n",
      "==================================================\n",
      "1. try: → Khối lệnh thử nghiệm\n",
      "   - Chứa các lệnh có thể gây lỗi\n",
      "   - print(x): Cố gắng in biến x (chưa được định nghĩa)\n",
      "2. except: → Khối lệnh xử lý lỗi\n",
      "   - Chạy khi có bất kỳ exception nào xảy ra trong khối try\n",
      "   - print('Exception Error'): In thông báo lỗi\n",
      "3. Luồng thực thi:\n",
      "   - try: print(x) → LỖI: NameError (x chưa định nghĩa)\n",
      "   - except: Bắt lỗi và in 'Exception Error'\n",
      "   - Chương trình tiếp tục chạy bình thường sau except\n"
     ]
    }
   ],
   "source": [
    "#Python try except\n",
    "try:\n",
    "    print(x)  # Cố gắng in biến x (chưa được định nghĩa)\n",
    "except:\n",
    "    print(\"Exception Error\")  # Xử lý lỗi nếu có exception\n",
    "\n",
    "print(\"\\n\" + \"=\"*50)\n",
    "print(\"GIẢI THÍCH CHI TIẾT:\")\n",
    "print(\"=\"*50)\n",
    "\n",
    "print(\"1. try: → Khối lệnh thử nghiệm\")\n",
    "print(\"   - Chứa các lệnh có thể gây lỗi\")\n",
    "print(\"   - print(x): Cố gắng in biến x (chưa được định nghĩa)\")\n",
    "\n",
    "print(\"2. except: → Khối lệnh xử lý lỗi\")\n",
    "print(\"   - Chạy khi có bất kỳ exception nào xảy ra trong khối try\")\n",
    "print(\"   - print('Exception Error'): In thông báo lỗi\")\n",
    "\n",
    "print(\"3. Luồng thực thi:\")\n",
    "print(\"   - try: print(x) → LỖI: NameError (x chưa định nghĩa)\")\n",
    "print(\"   - except: Bắt lỗi và in 'Exception Error'\")\n",
    "print(\"   - Chương trình tiếp tục chạy bình thường sau except\")"
   ]
  },
  {
   "cell_type": "code",
   "execution_count": 10,
   "metadata": {},
   "outputs": [
    {
     "name": "stdout",
     "output_type": "stream",
     "text": [
      "Hello\n",
      "Finally process\n"
     ]
    }
   ],
   "source": [
    "#Python try except finally\n",
    "try:\n",
    "\n",
    "    print(\"Hello\")\n",
    "\n",
    "except:\n",
    "\n",
    "    print(\"Exception Error\")\n",
    "\n",
    "finally:\n",
    "\n",
    "    print(\"Finally process\")"
   ]
  },
  {
   "cell_type": "code",
   "execution_count": 11,
   "metadata": {},
   "outputs": [
    {
     "name": "stdout",
     "output_type": "stream",
     "text": [
      "Hello\n",
      "No exception\n"
     ]
    }
   ],
   "source": [
    "#Python try except else\n",
    "try:\n",
    "\n",
    "    print(\"Hello\")\n",
    "\n",
    "except:\n",
    "\n",
    "    print(\"Exception Error\")\n",
    "\n",
    "else:\n",
    "\n",
    "    print(\"No exception\")"
   ]
  },
  {
   "cell_type": "code",
   "execution_count": 12,
   "metadata": {},
   "outputs": [
    {
     "name": "stdout",
     "output_type": "stream",
     "text": [
      "Hello\n",
      "No exception\n",
      "Finally process\n"
     ]
    }
   ],
   "source": [
    "try:\n",
    "\n",
    "    print(\"Hello\")\n",
    "\n",
    "except:\n",
    "\n",
    "    print(\"Exception Error\")\n",
    "\n",
    "else:\n",
    "\n",
    "    print(\"No exception\")\n",
    "\n",
    "finally:\n",
    "\n",
    "    print(\"Finally process\")"
   ]
  },
  {
   "cell_type": "code",
   "execution_count": 13,
   "metadata": {},
   "outputs": [
    {
     "name": "stdin",
     "output_type": "stream",
     "text": [
      "Enter the price of the stock (e.g. 10): 10\n",
      "Enter the number of shares (e.g. 2): 2\n"
     ]
    },
    {
     "name": "stdout",
     "output_type": "stream",
     "text": [
      "The total value of the shares is: 20.0\n",
      "Thank you.\n"
     ]
    }
   ],
   "source": [
    "try:\n",
    "\n",
    "    price = float(input(\"Enter the price of the stock (e.g. 10):\"))\n",
    "    shares = int(input(\"Enter the number of shares (e.g. 2):\"))\n",
    "    total = price * shares\n",
    "except Exception as e:\n",
    "\n",
    "    print(\"Exception error:\", str(e))\n",
    "    \n",
    "else:\n",
    "\n",
    "    print(\"The total value of the shares is:\", total)\n",
    "\n",
    "finally:\n",
    "\n",
    "    print(\"Thank you.\")"
   ]
  },
  {
   "cell_type": "code",
   "execution_count": 14,
   "metadata": {},
   "outputs": [
    {
     "name": "stdout",
     "output_type": "stream",
     "text": [
      "Exception file Error\n"
     ]
    }
   ],
   "source": [
    "try:\n",
    "\n",
    "    file = open(\"myfile.txt\")\n",
    "    file.write(\"Python write file\")\n",
    "    print(\"file saved\")\n",
    "\n",
    "except:\n",
    "\n",
    "    print(\"Exception file Error\")"
   ]
  },
  {
   "cell_type": "code",
   "execution_count": 15,
   "metadata": {},
   "outputs": [
    {
     "name": "stdout",
     "output_type": "stream",
     "text": [
      "Exception file Error\n",
      "Finally process\n"
     ]
    }
   ],
   "source": [
    "try:\n",
    "\n",
    "    file = open(\"myfile.txt\")\n",
    "    file.write(\"Python write file\")\n",
    "    print(\"file saved\")\n",
    "\n",
    "except:\n",
    "\n",
    "    print(\"Exception file Error\")\n",
    "\n",
    "finally:\n",
    "\n",
    "    file.close()\n",
    "    print(\"Finally process\")"
   ]
  },
  {
   "cell_type": "code",
   "execution_count": 17,
   "metadata": {},
   "outputs": [
    {
     "name": "stdout",
     "output_type": "stream",
     "text": [
      "file saved\n",
      "Finally process\n"
     ]
    }
   ],
   "source": [
    "try:\n",
    "    \n",
    "    file = open(\"myfile.txt\", 'w')\n",
    "    file.write(\"Python write file\")\n",
    "    print(\"file saved\")\n",
    "\n",
    "except:\n",
    "\n",
    "    print(\"Exception file Error\")\n",
    "\n",
    "finally:\n",
    "\n",
    "    file.close()\n",
    "    print(\"Finally process\")"
   ]
  },
  {
   "cell_type": "markdown",
   "metadata": {},
   "source": [
    "# Kết thúc"
   ]
  }
 ],
 "metadata": {
  "accelerator": "GPU",
  "colab": {
   "collapsed_sections": [
    "fPhHQHI0mV59"
   ],
   "gpuType": "T4",
   "provenance": [],
   "toc_visible": true
  },
  "kernelspec": {
   "display_name": "Python 3 (ipykernel)",
   "language": "python",
   "name": "python3"
  },
  "language_info": {
   "codemirror_mode": {
    "name": "ipython",
    "version": 3
   },
   "file_extension": ".py",
   "mimetype": "text/x-python",
   "name": "python",
   "nbconvert_exporter": "python",
   "pygments_lexer": "ipython3",
   "version": "3.13.5"
  }
 },
 "nbformat": 4,
 "nbformat_minor": 4
}
