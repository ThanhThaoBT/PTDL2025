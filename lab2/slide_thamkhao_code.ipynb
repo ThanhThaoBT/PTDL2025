{
 "cells": [
  {
   "cell_type": "markdown",
   "id": "438d96f5-66c9-4a94-82d1-57c1f38e1367",
   "metadata": {},
   "source": [
    "# Giới thiệu về Python"
   ]
  },
  {
   "cell_type": "markdown",
   "id": "35d669ca-06ff-4118-bbad-adff8bae77e0",
   "metadata": {},
   "source": [
    "## Biến, kiểu dữ liệu, khối lệnh"
   ]
  },
  {
   "cell_type": "code",
   "execution_count": 2,
   "id": "fbdfae3b-f7f4-4e5b-a7ea-5ff1131d1627",
   "metadata": {},
   "outputs": [
    {
     "data": {
      "text/plain": [
       "12.1"
      ]
     },
     "execution_count": 2,
     "metadata": {},
     "output_type": "execute_result"
    }
   ],
   "source": [
    "n = 12 # biến n là kiểu nguyên\n",
    "n = n + 0.1 # biến n chuyển sang kiểu thực\n",
    "n"
   ]
  },
  {
   "cell_type": "code",
   "execution_count": 3,
   "id": "6bf941f8-583c-48fd-bb2b-1d15e8641027",
   "metadata": {},
   "outputs": [],
   "source": [
    "name = 'matt'  # Chuỗi đơn giản với nháy đơn\n",
    "\n",
    "# Chuỗi chứa dấu nháy đơn bên trong -> dùng nháy kép\n",
    "with_quote = \"I ain't gonna\"  \n",
    "\n",
    "# Chuỗi nhiều dòng -> dùng triple quotes (3 nháy)\n",
    "longer = \"\"\"This string has multiple lines in it\"\"\""
   ]
  },
  {
   "cell_type": "markdown",
   "id": "4bbd9c63-decc-409d-a2b0-38199d0d7147",
   "metadata": {},
   "source": [
    "## Nhập và xuất dữ liệu"
   ]
  },
  {
   "cell_type": "code",
   "execution_count": 5,
   "id": "10834014-c5a2-483a-b3e3-63f729b1811c",
   "metadata": {},
   "outputs": [
    {
     "name": "stdout",
     "output_type": "stream",
     "text": [
      "42\n",
      "a =  3.564\n",
      "a = \n",
      " 3.564\n",
      "a b\n",
      "ab\n",
      "192.168.178.42\n",
      "a:-)b\n"
     ]
    }
   ],
   "source": [
    "print(42)                    # In số: 42\n",
    "a = 3.564\n",
    "print(\"a = \", a)             # In chuỗi và biến: a = 3.564  \n",
    "print(\"a = \\n\", a)           # In xuống dùng: a = (dòng mới) 3.564\n",
    "print(\"a\",\"b\")               # In nhiều giá trị cách bằng space: a b\n",
    "print(\"a\",\"b\",sep=\"\")        # In không separator: ab\n",
    "print(192,168,178,42,sep=\".\") # In với separator dấu chấm: 192.168.178.42\n",
    "print(\"a\",\"b\",sep=\":-)\")     # In với separator tùy chỉnh: a:-)b"
   ]
  },
  {
   "cell_type": "code",
   "execution_count": 6,
   "id": "66b23f2c-c283-42e2-8ca7-2ad177fb08d7",
   "metadata": {},
   "outputs": [
    {
     "name": "stdin",
     "output_type": "stream",
     "text": [
      "What's your name?  My name is Thao\n"
     ]
    },
    {
     "name": "stdout",
     "output_type": "stream",
     "text": [
      "Nice to meet you My name is Thao!\n"
     ]
    },
    {
     "name": "stdin",
     "output_type": "stream",
     "text": [
      "Your age?  I'm 21\n"
     ]
    },
    {
     "name": "stdout",
     "output_type": "stream",
     "text": [
      "You are already I'm 21 years old, My name is Thao!\n"
     ]
    }
   ],
   "source": [
    "name = input(\"What's your name? \")\n",
    "print(\"Nice to meet you \" + name + \"!\")\n",
    "age = input(\"Your age? \")\n",
    "print(\"You are already \" + age + \" years old, \" + name\n",
    "+ \"!\")"
   ]
  },
  {
   "cell_type": "code",
   "execution_count": 7,
   "id": "ef460a23-06d5-4bef-983a-b14f7d31c1ff",
   "metadata": {},
   "outputs": [
    {
     "name": "stdin",
     "output_type": "stream",
     "text": [
      "Your age?  21\n"
     ]
    },
    {
     "name": "stdout",
     "output_type": "stream",
     "text": [
      "You are already %d years old! 21\n"
     ]
    }
   ],
   "source": [
    "age = int(input(\"Your age? \"))\n",
    "print(\"You are already %d years old!\", age)"
   ]
  },
  {
   "cell_type": "code",
   "execution_count": 9,
   "id": "7fdacdc2-a8e4-43aa-a15e-81109884bbc8",
   "metadata": {},
   "outputs": [
    {
     "name": "stdin",
     "output_type": "stream",
     "text": [
      "A =  1\n",
      "B =  2\n",
      "C =  3\n"
     ]
    },
    {
     "name": "stdout",
     "output_type": "stream",
     "text": [
      "Phuong trinh vo nghiem\n"
     ]
    }
   ],
   "source": [
    "a = float(input(\"A = \"))\n",
    "b = float(input(\"B = \"))\n",
    "c = float(input(\"C = \"))\n",
    "delta = b*b-4*a*c\n",
    "\n",
    "if delta==0:\n",
    "    print(\"Nghiem kep: x = \", str(-b/2/a))\n",
    "\n",
    "if delta<0:\n",
    "    print(\"Phuong trinh vo nghiem\")\n",
    "\n",
    "if delta>0:\n",
    "    print(\"X1 = \" + str((-b+delta**0.5)/2/a))\n",
    "    print(\"X2 = \" + str((-b-delta**0.5)/2/a))"
   ]
  },
  {
   "cell_type": "markdown",
   "id": "9e1c7e58-2b3f-4e8e-b2c4-8433b998edb0",
   "metadata": {},
   "source": [
    "# Kiểu dữ liệu và phép toán"
   ]
  },
  {
   "cell_type": "markdown",
   "id": "9dcdc56a-f03f-46dd-8749-13ddc53bac27",
   "metadata": {},
   "source": [
    "## Kiểu dữ liệu và phép toán liên quan"
   ]
  },
  {
   "cell_type": "code",
   "execution_count": 14,
   "id": "3517e440-2224-4df5-95b6-8144cecbe5c8",
   "metadata": {},
   "outputs": [
    {
     "name": "stdout",
     "output_type": "stream",
     "text": [
      "1234\n",
      "2801\n",
      "506\n",
      "9\n"
     ]
    }
   ],
   "source": [
    "A = 1234 # hệ cơ số 10\n",
    "B = 0xAF1 # hệ cơ số 16\n",
    "C = 0o772 # hệ cơ số 8\n",
    "D = 0b1001 # hệ cơ số 2\n",
    "\n",
    "print (A)\n",
    "print (B)\n",
    "print (C)\n",
    "print (D)"
   ]
  },
  {
   "cell_type": "code",
   "execution_count": 15,
   "id": "cd2f0027-8d23-40ec-8157-58c12cf6f208",
   "metadata": {},
   "outputs": [
    {
     "name": "stdout",
     "output_type": "stream",
     "text": [
      "1234\n",
      "0x4d2\n",
      "0o2322\n",
      "0b10011010010\n"
     ]
    }
   ],
   "source": [
    "K = str(1234) # chuyển thành str ở hệ cơ số 10\n",
    "L = hex(1234) # chuyển thành str ở hệ cơ số 16\n",
    "M = oct(1234) # chuyển thành str ở hệ cơ số 8\n",
    "N = bin(1234) # chuyển thành str ở hệ cơ số 2\n",
    "\n",
    "print (K)\n",
    "print (L)\n",
    "print (M)\n",
    "print (N)"
   ]
  },
  {
   "cell_type": "code",
   "execution_count": 16,
   "id": "2aed7c2c-20ff-4788-9672-5f1828e75d1f",
   "metadata": {},
   "outputs": [
    {
     "name": "stdout",
     "output_type": "stream",
     "text": [
      "12.34\n",
      "3.1415279\n"
     ]
    }
   ],
   "source": [
    "X = 12.34\n",
    "Y = 314.15279e-2 # dạng số nguyên và phần mũ 10\n",
    "\n",
    "print(X)\n",
    "print(Y)"
   ]
  },
  {
   "cell_type": "code",
   "execution_count": 17,
   "id": "93b0c685-d883-4b7e-b947-3bd9c6b549ce",
   "metadata": {},
   "outputs": [
    {
     "name": "stdout",
     "output_type": "stream",
     "text": [
      "(5+2j)\n"
     ]
    }
   ],
   "source": [
    "A = 3+4j\n",
    "B = 2-2j\n",
    "print(A+B) "
   ]
  },
  {
   "cell_type": "markdown",
   "id": "aec1d2fe-c8d7-4218-a35c-36b7a15a9adc",
   "metadata": {},
   "source": [
    "## Cấu trúc rẽ nhánh"
   ]
  },
  {
   "cell_type": "code",
   "execution_count": 20,
   "id": "f8d12eb6-adec-4b35-b39f-9880d80f9545",
   "metadata": {},
   "outputs": [
    {
     "name": "stdin",
     "output_type": "stream",
     "text": [
      "What's your name?  Thao\n"
     ]
    },
    {
     "name": "stdout",
     "output_type": "stream",
     "text": [
      "Nice to meet you Thao!\n"
     ]
    },
    {
     "name": "stdin",
     "output_type": "stream",
     "text": [
      "Your age?  101\n"
     ]
    },
    {
     "name": "stdout",
     "output_type": "stream",
     "text": [
      "You are already 101 years old, Thao !\n",
      "Đủ tuổi đi bầu cử\n",
      "Có vẻ sai sai!\n"
     ]
    }
   ],
   "source": [
    "name = input(\"What's your name? \")\n",
    "print(\"Nice to meet you \" + name + \"!\")\n",
    "age = int(input(\"Your age? \"))\n",
    "print(\"You are already\", age, \"years old,\",\n",
    "name, \"!\")\n",
    "if age>=18:\n",
    "\n",
    "    print(\"Đủ tuổi đi bầu cử\")\n",
    "    if age>100:\n",
    "\n",
    "        print(\"Có vẻ sai sai!\")\n",
    "else:\n",
    "\n",
    "    print(\"Nhỏ quá\")"
   ]
  },
  {
   "cell_type": "markdown",
   "id": "a861ace5-d38d-4358-af65-d84f887e0c61",
   "metadata": {},
   "source": [
    "## Vòng lặp"
   ]
  },
  {
   "cell_type": "code",
   "execution_count": 21,
   "id": "2552520e-e672-459b-b96b-f770fdde10e4",
   "metadata": {},
   "outputs": [
    {
     "name": "stdout",
     "output_type": "stream",
     "text": [
      "10\n",
      "11\n",
      "12\n",
      "13\n",
      "14\n",
      "15\n",
      "16\n",
      "17\n",
      "18\n",
      "19\n",
      "20\n",
      "19\n",
      "18\n",
      "17\n",
      "16\n",
      "15\n",
      "14\n",
      "13\n",
      "12\n",
      "11\n"
     ]
    }
   ],
   "source": [
    "for d in range(10,20): # in các số từ 10 đến 19\n",
    "    print(d)\n",
    "for d in range(20,10,-1): # in các số từ 20 đến 11\n",
    "    print(d)"
   ]
  },
  {
   "cell_type": "markdown",
   "id": "b13cabe3-491e-4047-bf86-6fee85133196",
   "metadata": {},
   "source": [
    "## Hàm"
   ]
  },
  {
   "cell_type": "code",
   "execution_count": 23,
   "id": "2539dceb-9ed9-4b98-aa03-cd708346ebfa",
   "metadata": {},
   "outputs": [
    {
     "name": "stdout",
     "output_type": "stream",
     "text": [
      "200\n",
      "10\n",
      "5\n",
      "30\n"
     ]
    }
   ],
   "source": [
    "def tich(a, b = 1):\n",
    "    return a*b\n",
    "\n",
    "print(tich(10, 20)) # 200\n",
    "print(tich(10)) # 10\n",
    "print(tich(a=5)) # 5\n",
    "print(tich(b=6, a=5)) # 30"
   ]
  },
  {
   "cell_type": "markdown",
   "id": "5ec83f24-a5c9-48e0-bc80-15f7c2986d5a",
   "metadata": {},
   "source": [
    "# Chuỗi và danh sách"
   ]
  },
  {
   "cell_type": "markdown",
   "id": "f93553da-b4b2-47d9-bbdd-834575762974",
   "metadata": {},
   "source": [
    "## String"
   ]
  },
  {
   "cell_type": "code",
   "execution_count": 25,
   "id": "f6ac099b-25fb-4dd5-b64b-f5175921957b",
   "metadata": {},
   "outputs": [
    {
     "data": {
      "text/plain": [
       "'Good Morning!'"
      ]
     },
     "execution_count": 25,
     "metadata": {},
     "output_type": "execute_result"
    }
   ],
   "source": [
    "s = \"Good\" + \" \" + \"Morning!\"  #nối chuỗi\n",
    "s"
   ]
  },
  {
   "cell_type": "code",
   "execution_count": 27,
   "id": "9144cdd5-da89-42ee-9dd8-af1d12c77b3d",
   "metadata": {},
   "outputs": [
    {
     "data": {
      "text/plain": [
       "'ABABAB'"
      ]
     },
     "execution_count": 27,
     "metadata": {},
     "output_type": "execute_result"
    }
   ],
   "source": [
    "s = \"AB\" * 3 # số nguyên nhân bản\n",
    "s"
   ]
  },
  {
   "cell_type": "code",
   "execution_count": 29,
   "id": "8dc8af0d-449b-407d-98a2-ede702462b20",
   "metadata": {},
   "outputs": [
    {
     "data": {
      "text/plain": [
       "True"
      ]
     },
     "execution_count": 29,
     "metadata": {},
     "output_type": "execute_result"
    }
   ],
   "source": [
    "s in '1ABABABCD' # Kiểm tra nội dung"
   ]
  },
  {
   "cell_type": "code",
   "execution_count": 30,
   "id": "60a3e2da-e3bd-4d9d-a68c-e5a0c29fbbe1",
   "metadata": {},
   "outputs": [
    {
     "name": "stdout",
     "output_type": "stream",
     "text": [
      "345\n",
      "3456789\n",
      "012345\n",
      "345\n",
      "\n",
      "654\n",
      "0123456789\n",
      "012345678\n",
      "0123456789\n",
      "9876543210\n",
      "9876543210\n",
      "876543210\n"
     ]
    }
   ],
   "source": [
    "s = '0123456789'\n",
    "\n",
    "print(s[3:6])        # 345 → Từ index 3 đến 5 (6-1)\n",
    "print(s[3:])         # 3456789 → Từ index 3 đến hết\n",
    "print(s[:6])         # 012345 → Từ đầu đến index 5 (6-1) \n",
    "\n",
    "print(s[-7:-4])      # 345 → Từ index -7 (3) đến -5 (5)\n",
    "print(s[-4:-7])      # (rỗng) → Start > end, step mặc định +1\n",
    "print(s[-4:-7:-1])   # 654 → Từ -4 (6) đến -6 (4), step -1\n",
    "\n",
    "print(s[:len(s)])    # 0123456789 → Từ đầu đến cuối\n",
    "print(s[:len(s)-1])  # 012345678 → Từ đầu đến áp cuối\n",
    "\n",
    "print(s[:])          # 0123456789 → Copy toàn bộ chuỗi\n",
    "\n",
    "print(s[len(s)::-1])     # 9876543210 → Đảo ngược chuỗi\n",
    "print(s[len(s)-1::-1])   # 9876543210 → Từ cuối về đầu\n",
    "print(s[len(s)-2::-1])   # 876543210 → Từ áp cuối về đầu"
   ]
  },
  {
   "cell_type": "code",
   "execution_count": 34,
   "id": "01063f41-e419-4bc6-b8e9-d3a0592aa9aa",
   "metadata": {},
   "outputs": [
    {
     "name": "stdout",
     "output_type": "stream",
     "text": [
      "Chao txnam, gio la 10 gio\n",
      "Can bac 2 cua 2 = 1.414214\n",
      "Can bac 2 cua 2 =      1.414\n",
      "Can bac 2 cua 2 =   1.414214\n",
      "Can bac 2 cua 2 = 1.4142136\n"
     ]
    }
   ],
   "source": [
    "print(\"Chao %s, gio la %d gio\" % ('txnam', 10))\n",
    "# → \"Chao txnam, gio la 10 gio\"\n",
    "# %s: chuỗi, %d: số nguyên\n",
    "\n",
    "print(\"Can bac 2 cua 2 = %f\" % (2**0.5))\n",
    "# → \"Can bac 2 cua 2 = 1.414214\"\n",
    "# %f: số thực (mặc định 6 chữ số thập phân)\n",
    "\n",
    "print(\"Can bac 2 cua 2 = %10.3f\" % (2**0.5))\n",
    "# → \"Can bac 2 cua 2 =      1.414\"\n",
    "# %10.3f: tổng 10 ký tự, 3 chữ số thập phân\n",
    "\n",
    "print(\"Can bac 2 cua 2 = %10f\" % (2**0.5))\n",
    "# → \"Can bac 2 cua 2 =   1.414214\"\n",
    "# %10f: tổng 10 ký tự, mặc định 6 chữ số thập phân\n",
    "\n",
    "print(\"Can bac 2 cua 2 = %.7f\" % (2**0.5))\n",
    "# → \"Can bac 2 cua 2 = 1.4142136\"\n",
    "# %.7f: 7 chữ số thập phân"
   ]
  },
  {
   "cell_type": "code",
   "execution_count": 38,
   "id": "f8ce19c9-4a03-4519-ad6f-2b1d55a6c1d7",
   "metadata": {},
   "outputs": [
    {
     "name": "stdout",
     "output_type": "stream",
     "text": [
      "This is DHNTT.\n",
      "This is DHNTT. DHNTT\n",
      "{s} This is DHNTT.\n"
     ]
    }
   ],
   "source": [
    "myname = 'DHNTT'\n",
    "s = f'This is {myname}.' # 'This is DHNTT.'\n",
    "w = f'{s} {myname}' # 'This is DHNTT. DHNTT '\n",
    "z = f'{{s}} {s}' # '{s} This is DHNTT.‘\n",
    "print(s)\n",
    "print(w)\n",
    "print(z)"
   ]
  },
  {
   "cell_type": "code",
   "execution_count": 39,
   "id": "802a6582-f260-4215-84b3-39c8b9ba3c51",
   "metadata": {},
   "outputs": [
    {
     "data": {
      "text/plain": [
       "'a: 1, b: 2, c: 3'"
      ]
     },
     "execution_count": 39,
     "metadata": {},
     "output_type": "execute_result"
    }
   ],
   "source": [
    "# Điền lần lượt từng giá trị vào giữa cặp ngoặc nhọn\n",
    "'a: {}, b: {}, c: {}'.format(1, 2, 3)"
   ]
  },
  {
   "cell_type": "code",
   "execution_count": 40,
   "id": "fe28c4a7-5971-4a2c-af47-5a868be0850d",
   "metadata": {},
   "outputs": [
    {
     "data": {
      "text/plain": [
       "'a: two, b: three, c: one'"
      ]
     },
     "execution_count": 40,
     "metadata": {},
     "output_type": "execute_result"
    }
   ],
   "source": [
    "# Điền nhưng không lần lượt (theo index)\n",
    "'a: {1}, b: {2}, c: {0}'.format('one', 'two', 'three')  "
   ]
  },
  {
   "cell_type": "code",
   "execution_count": 42,
   "id": "d552e37f-7b6f-4f52-8f0d-43d2eeae9e64",
   "metadata": {},
   "outputs": [
    {
     "data": {
      "text/plain": [
       "'two same values: 1, 1'"
      ]
     },
     "execution_count": 42,
     "metadata": {},
     "output_type": "execute_result"
    }
   ],
   "source": [
    "# Điền cùng một giá trị nhiều lần\n",
    "'two same values: {0}, {0}'.format(1, 2)"
   ]
  },
  {
   "cell_type": "code",
   "execution_count": 43,
   "id": "c46686ea-4c9a-4e1d-914a-febafbf01417",
   "metadata": {},
   "outputs": [
    {
     "data": {
      "text/plain": [
       "'1: 111, 2: 222'"
      ]
     },
     "execution_count": 43,
     "metadata": {},
     "output_type": "execute_result"
    }
   ],
   "source": [
    "# Điền và chỉ định từng giá trị bằng keyword\n",
    "'1: {one}, 2: {two}'.format(one=111, two=222)"
   ]
  },
  {
   "cell_type": "code",
   "execution_count": 44,
   "id": "d0c55599-5270-4bde-b9af-69d6cdb354ff",
   "metadata": {},
   "outputs": [
    {
     "data": {
      "text/plain": [
       "'   aaaa   '"
      ]
     },
     "execution_count": 44,
     "metadata": {},
     "output_type": "execute_result"
    }
   ],
   "source": [
    "# căn giữa: ' aaaa '\n",
    "'{:^10}'.format('aaaa')"
   ]
  },
  {
   "cell_type": "code",
   "execution_count": 45,
   "id": "1ce72d19-139c-4bbd-bb43-5d272dd68d9f",
   "metadata": {},
   "outputs": [
    {
     "data": {
      "text/plain": [
       "'aaaa      '"
      ]
     },
     "execution_count": 45,
     "metadata": {},
     "output_type": "execute_result"
    }
   ],
   "source": [
    "# căn lề trái: 'aaaa '\n",
    "'{:<10}'.format('aaaa')"
   ]
  },
  {
   "cell_type": "code",
   "execution_count": 46,
   "id": "389ed062-c9b7-46ae-8c16-ddce319c135c",
   "metadata": {},
   "outputs": [
    {
     "data": {
      "text/plain": [
       "'      aaaa'"
      ]
     },
     "execution_count": 46,
     "metadata": {},
     "output_type": "execute_result"
    }
   ],
   "source": [
    "# căn lề phải ' aaaa'\n",
    "'{:>10}'.format('aaaa')"
   ]
  },
  {
   "cell_type": "code",
   "execution_count": 47,
   "id": "1300e121-0603-4f89-bbca-caf858621ad2",
   "metadata": {},
   "outputs": [
    {
     "data": {
      "text/plain": [
       "'------aaaa'"
      ]
     },
     "execution_count": 47,
     "metadata": {},
     "output_type": "execute_result"
    }
   ],
   "source": [
    "# căn lề phải, thay khoảng trắng bằng -: '------aaaa'\n",
    "'{:->10}'.format('aaaa')"
   ]
  },
  {
   "cell_type": "code",
   "execution_count": 48,
   "id": "eb72d1e8-6be1-4db9-a5c8-72a4c29dfb28",
   "metadata": {},
   "outputs": [
    {
     "data": {
      "text/plain": [
       "'aaaa******'"
      ]
     },
     "execution_count": 48,
     "metadata": {},
     "output_type": "execute_result"
    }
   ],
   "source": [
    "# căn lề trái, thay khoảng trắng *: 'aaa******'\n",
    "'{:*<10}'.format('aaaa')"
   ]
  },
  {
   "cell_type": "code",
   "execution_count": 49,
   "id": "b5c0dab3-f012-41b9-8086-398e36bd1a5c",
   "metadata": {},
   "outputs": [
    {
     "data": {
      "text/plain": [
       "'+++aaaa+++'"
      ]
     },
     "execution_count": 49,
     "metadata": {},
     "output_type": "execute_result"
    }
   ],
   "source": [
    "# căn giữa, thay khoảng trắng bằng +: '+++aaaa+++'\n",
    "'{:+^10}'.format('aaaa')"
   ]
  },
  {
   "cell_type": "markdown",
   "id": "e9897759-136b-4b75-9703-c5ca2ca95bed",
   "metadata": {},
   "source": [
    "## List"
   ]
  },
  {
   "cell_type": "code",
   "execution_count": 50,
   "id": "c234f295-2ef2-4d45-8688-57dc3183fc79",
   "metadata": {},
   "outputs": [
    {
     "data": {
      "text/plain": [
       "[]"
      ]
     },
     "execution_count": 50,
     "metadata": {},
     "output_type": "execute_result"
    }
   ],
   "source": [
    "[1, 2, 3, 4, 5] # list 5 số nguyên\n",
    "['a', 'b', 'c', 'd'] # list 4 chuỗi\n",
    "[[1, 2], [3, 4]] # list 2 list con\n",
    "[1, 'one', [2, 'two']] # list hỗ hợp\n",
    "[] # list rỗng"
   ]
  },
  {
   "cell_type": "code",
   "execution_count": 53,
   "id": "046b5052-656b-45e3-ba25-f99ea59ce35b",
   "metadata": {},
   "outputs": [
    {
     "data": {
      "text/plain": [
       "[1, 2, 3, 4]"
      ]
     },
     "execution_count": 53,
     "metadata": {},
     "output_type": "execute_result"
    }
   ],
   "source": [
    "l1 = list([1, 2, 3, 4]) # list 4 số nguyên\n",
    "l1"
   ]
  },
  {
   "cell_type": "code",
   "execution_count": 55,
   "id": "076b3be5-a808-454e-b3d5-6b89a3a92324",
   "metadata": {},
   "outputs": [
    {
     "data": {
      "text/plain": [
       "['a', 'b', 'c']"
      ]
     },
     "execution_count": 55,
     "metadata": {},
     "output_type": "execute_result"
    }
   ],
   "source": [
    "l2 = list('abc') # list 3 chuỗi con\n",
    "l2"
   ]
  },
  {
   "cell_type": "code",
   "execution_count": 56,
   "id": "988e053c-710b-4e4b-b085-87490a22f7b5",
   "metadata": {},
   "outputs": [
    {
     "data": {
      "text/plain": [
       "[]"
      ]
     },
     "execution_count": 56,
     "metadata": {},
     "output_type": "execute_result"
    }
   ],
   "source": [
    "l3 = list() # list rỗng\n",
    "l3"
   ]
  },
  {
   "cell_type": "code",
   "execution_count": 58,
   "id": "7c7bf697-c916-4020-9c25-0cb79c7bef8d",
   "metadata": {},
   "outputs": [
    {
     "data": {
      "text/plain": [
       "[0,\n",
       " 1,\n",
       " 2,\n",
       " 3,\n",
       " 4,\n",
       " 5,\n",
       " 6,\n",
       " 7,\n",
       " 8,\n",
       " 9,\n",
       " 10,\n",
       " 11,\n",
       " 12,\n",
       " 13,\n",
       " 14,\n",
       " 15,\n",
       " 16,\n",
       " 17,\n",
       " 18,\n",
       " 19,\n",
       " 20,\n",
       " 21,\n",
       " 22,\n",
       " 23,\n",
       " 24,\n",
       " 25,\n",
       " 26,\n",
       " 27,\n",
       " 28,\n",
       " 29,\n",
       " 30,\n",
       " 31,\n",
       " 32,\n",
       " 33,\n",
       " 34,\n",
       " 35,\n",
       " 36,\n",
       " 37,\n",
       " 38,\n",
       " 39,\n",
       " 40,\n",
       " 41,\n",
       " 42,\n",
       " 43,\n",
       " 44,\n",
       " 45,\n",
       " 46,\n",
       " 47,\n",
       " 48,\n",
       " 49,\n",
       " 50,\n",
       " 51,\n",
       " 52,\n",
       " 53,\n",
       " 54,\n",
       " 55,\n",
       " 56,\n",
       " 57,\n",
       " 58,\n",
       " 59,\n",
       " 60,\n",
       " 61,\n",
       " 62,\n",
       " 63,\n",
       " 64,\n",
       " 65,\n",
       " 66,\n",
       " 67,\n",
       " 68,\n",
       " 69,\n",
       " 70,\n",
       " 71,\n",
       " 72,\n",
       " 73,\n",
       " 74,\n",
       " 75,\n",
       " 76,\n",
       " 77,\n",
       " 78,\n",
       " 79,\n",
       " 80,\n",
       " 81,\n",
       " 82,\n",
       " 83,\n",
       " 84,\n",
       " 85,\n",
       " 86,\n",
       " 87,\n",
       " 88,\n",
       " 89,\n",
       " 90,\n",
       " 91,\n",
       " 92,\n",
       " 93,\n",
       " 94,\n",
       " 95,\n",
       " 96,\n",
       " 97,\n",
       " 98,\n",
       " 99,\n",
       " 100,\n",
       " 101,\n",
       " 102,\n",
       " 103,\n",
       " 104,\n",
       " 105,\n",
       " 106,\n",
       " 107,\n",
       " 108,\n",
       " 109,\n",
       " 110,\n",
       " 111,\n",
       " 112,\n",
       " 113,\n",
       " 114,\n",
       " 115,\n",
       " 116,\n",
       " 117,\n",
       " 118,\n",
       " 119,\n",
       " 120,\n",
       " 121,\n",
       " 122,\n",
       " 123,\n",
       " 124,\n",
       " 125,\n",
       " 126,\n",
       " 127,\n",
       " 128,\n",
       " 129,\n",
       " 130,\n",
       " 131,\n",
       " 132,\n",
       " 133,\n",
       " 134,\n",
       " 135,\n",
       " 136,\n",
       " 137,\n",
       " 138,\n",
       " 139,\n",
       " 140,\n",
       " 141,\n",
       " 142,\n",
       " 143,\n",
       " 144,\n",
       " 145,\n",
       " 146,\n",
       " 147,\n",
       " 148,\n",
       " 149,\n",
       " 150,\n",
       " 151,\n",
       " 152,\n",
       " 153,\n",
       " 154,\n",
       " 155,\n",
       " 156,\n",
       " 157,\n",
       " 158,\n",
       " 159,\n",
       " 160,\n",
       " 161,\n",
       " 162,\n",
       " 163,\n",
       " 164,\n",
       " 165,\n",
       " 166,\n",
       " 167,\n",
       " 168,\n",
       " 169,\n",
       " 170,\n",
       " 171,\n",
       " 172,\n",
       " 173,\n",
       " 174,\n",
       " 175,\n",
       " 176,\n",
       " 177,\n",
       " 178,\n",
       " 179,\n",
       " 180,\n",
       " 181,\n",
       " 182,\n",
       " 183,\n",
       " 184,\n",
       " 185,\n",
       " 186,\n",
       " 187,\n",
       " 188,\n",
       " 189,\n",
       " 190,\n",
       " 191,\n",
       " 192,\n",
       " 193,\n",
       " 194,\n",
       " 195,\n",
       " 196,\n",
       " 197,\n",
       " 198,\n",
       " 199,\n",
       " 200,\n",
       " 201,\n",
       " 202,\n",
       " 203,\n",
       " 204,\n",
       " 205,\n",
       " 206,\n",
       " 207,\n",
       " 208,\n",
       " 209,\n",
       " 210,\n",
       " 211,\n",
       " 212,\n",
       " 213,\n",
       " 214,\n",
       " 215,\n",
       " 216,\n",
       " 217,\n",
       " 218,\n",
       " 219,\n",
       " 220,\n",
       " 221,\n",
       " 222,\n",
       " 223,\n",
       " 224,\n",
       " 225,\n",
       " 226,\n",
       " 227,\n",
       " 228,\n",
       " 229,\n",
       " 230,\n",
       " 231,\n",
       " 232,\n",
       " 233,\n",
       " 234,\n",
       " 235,\n",
       " 236,\n",
       " 237,\n",
       " 238,\n",
       " 239,\n",
       " 240,\n",
       " 241,\n",
       " 242,\n",
       " 243,\n",
       " 244,\n",
       " 245,\n",
       " 246,\n",
       " 247,\n",
       " 248,\n",
       " 249,\n",
       " 250,\n",
       " 251,\n",
       " 252,\n",
       " 253,\n",
       " 254,\n",
       " 255,\n",
       " 256,\n",
       " 257,\n",
       " 258,\n",
       " 259,\n",
       " 260,\n",
       " 261,\n",
       " 262,\n",
       " 263,\n",
       " 264,\n",
       " 265,\n",
       " 266,\n",
       " 267,\n",
       " 268,\n",
       " 269,\n",
       " 270,\n",
       " 271,\n",
       " 272,\n",
       " 273,\n",
       " 274,\n",
       " 275,\n",
       " 276,\n",
       " 277,\n",
       " 278,\n",
       " 279,\n",
       " 280,\n",
       " 281,\n",
       " 282,\n",
       " 283,\n",
       " 284,\n",
       " 285,\n",
       " 286,\n",
       " 287,\n",
       " 288,\n",
       " 289,\n",
       " 290,\n",
       " 291,\n",
       " 292,\n",
       " 293,\n",
       " 294,\n",
       " 295,\n",
       " 296,\n",
       " 297,\n",
       " 298,\n",
       " 299,\n",
       " 300,\n",
       " 301,\n",
       " 302,\n",
       " 303,\n",
       " 304,\n",
       " 305,\n",
       " 306,\n",
       " 307,\n",
       " 308,\n",
       " 309,\n",
       " 310,\n",
       " 311,\n",
       " 312,\n",
       " 313,\n",
       " 314,\n",
       " 315,\n",
       " 316,\n",
       " 317,\n",
       " 318,\n",
       " 319,\n",
       " 320,\n",
       " 321,\n",
       " 322,\n",
       " 323,\n",
       " 324,\n",
       " 325,\n",
       " 326,\n",
       " 327,\n",
       " 328,\n",
       " 329,\n",
       " 330,\n",
       " 331,\n",
       " 332,\n",
       " 333,\n",
       " 334,\n",
       " 335,\n",
       " 336,\n",
       " 337,\n",
       " 338,\n",
       " 339,\n",
       " 340,\n",
       " 341,\n",
       " 342,\n",
       " 343,\n",
       " 344,\n",
       " 345,\n",
       " 346,\n",
       " 347,\n",
       " 348,\n",
       " 349,\n",
       " 350,\n",
       " 351,\n",
       " 352,\n",
       " 353,\n",
       " 354,\n",
       " 355,\n",
       " 356,\n",
       " 357,\n",
       " 358,\n",
       " 359,\n",
       " 360,\n",
       " 361,\n",
       " 362,\n",
       " 363,\n",
       " 364,\n",
       " 365,\n",
       " 366,\n",
       " 367,\n",
       " 368,\n",
       " 369,\n",
       " 370,\n",
       " 371,\n",
       " 372,\n",
       " 373,\n",
       " 374,\n",
       " 375,\n",
       " 376,\n",
       " 377,\n",
       " 378,\n",
       " 379,\n",
       " 380,\n",
       " 381,\n",
       " 382,\n",
       " 383,\n",
       " 384,\n",
       " 385,\n",
       " 386,\n",
       " 387,\n",
       " 388,\n",
       " 389,\n",
       " 390,\n",
       " 391,\n",
       " 392,\n",
       " 393,\n",
       " 394,\n",
       " 395,\n",
       " 396,\n",
       " 397,\n",
       " 398,\n",
       " 399,\n",
       " 400,\n",
       " 401,\n",
       " 402,\n",
       " 403,\n",
       " 404,\n",
       " 405,\n",
       " 406,\n",
       " 407,\n",
       " 408,\n",
       " 409,\n",
       " 410,\n",
       " 411,\n",
       " 412,\n",
       " 413,\n",
       " 414,\n",
       " 415,\n",
       " 416,\n",
       " 417,\n",
       " 418,\n",
       " 419,\n",
       " 420,\n",
       " 421,\n",
       " 422,\n",
       " 423,\n",
       " 424,\n",
       " 425,\n",
       " 426,\n",
       " 427,\n",
       " 428,\n",
       " 429,\n",
       " 430,\n",
       " 431,\n",
       " 432,\n",
       " 433,\n",
       " 434,\n",
       " 435,\n",
       " 436,\n",
       " 437,\n",
       " 438,\n",
       " 439,\n",
       " 440,\n",
       " 441,\n",
       " 442,\n",
       " 443,\n",
       " 444,\n",
       " 445,\n",
       " 446,\n",
       " 447,\n",
       " 448,\n",
       " 449,\n",
       " 450,\n",
       " 451,\n",
       " 452,\n",
       " 453,\n",
       " 454,\n",
       " 455,\n",
       " 456,\n",
       " 457,\n",
       " 458,\n",
       " 459,\n",
       " 460,\n",
       " 461,\n",
       " 462,\n",
       " 463,\n",
       " 464,\n",
       " 465,\n",
       " 466,\n",
       " 467,\n",
       " 468,\n",
       " 469,\n",
       " 470,\n",
       " 471,\n",
       " 472,\n",
       " 473,\n",
       " 474,\n",
       " 475,\n",
       " 476,\n",
       " 477,\n",
       " 478,\n",
       " 479,\n",
       " 480,\n",
       " 481,\n",
       " 482,\n",
       " 483,\n",
       " 484,\n",
       " 485,\n",
       " 486,\n",
       " 487,\n",
       " 488,\n",
       " 489,\n",
       " 490,\n",
       " 491,\n",
       " 492,\n",
       " 493,\n",
       " 494,\n",
       " 495,\n",
       " 496,\n",
       " 497,\n",
       " 498,\n",
       " 499,\n",
       " 500,\n",
       " 501,\n",
       " 502,\n",
       " 503,\n",
       " 504,\n",
       " 505,\n",
       " 506,\n",
       " 507,\n",
       " 508,\n",
       " 509,\n",
       " 510,\n",
       " 511,\n",
       " 512,\n",
       " 513,\n",
       " 514,\n",
       " 515,\n",
       " 516,\n",
       " 517,\n",
       " 518,\n",
       " 519,\n",
       " 520,\n",
       " 521,\n",
       " 522,\n",
       " 523,\n",
       " 524,\n",
       " 525,\n",
       " 526,\n",
       " 527,\n",
       " 528,\n",
       " 529,\n",
       " 530,\n",
       " 531,\n",
       " 532,\n",
       " 533,\n",
       " 534,\n",
       " 535,\n",
       " 536,\n",
       " 537,\n",
       " 538,\n",
       " 539,\n",
       " 540,\n",
       " 541,\n",
       " 542,\n",
       " 543,\n",
       " 544,\n",
       " 545,\n",
       " 546,\n",
       " 547,\n",
       " 548,\n",
       " 549,\n",
       " 550,\n",
       " 551,\n",
       " 552,\n",
       " 553,\n",
       " 554,\n",
       " 555,\n",
       " 556,\n",
       " 557,\n",
       " 558,\n",
       " 559,\n",
       " 560,\n",
       " 561,\n",
       " 562,\n",
       " 563,\n",
       " 564,\n",
       " 565,\n",
       " 566,\n",
       " 567,\n",
       " 568,\n",
       " 569,\n",
       " 570,\n",
       " 571,\n",
       " 572,\n",
       " 573,\n",
       " 574,\n",
       " 575,\n",
       " 576,\n",
       " 577,\n",
       " 578,\n",
       " 579,\n",
       " 580,\n",
       " 581,\n",
       " 582,\n",
       " 583,\n",
       " 584,\n",
       " 585,\n",
       " 586,\n",
       " 587,\n",
       " 588,\n",
       " 589,\n",
       " 590,\n",
       " 591,\n",
       " 592,\n",
       " 593,\n",
       " 594,\n",
       " 595,\n",
       " 596,\n",
       " 597,\n",
       " 598,\n",
       " 599,\n",
       " 600,\n",
       " 601,\n",
       " 602,\n",
       " 603,\n",
       " 604,\n",
       " 605,\n",
       " 606,\n",
       " 607,\n",
       " 608,\n",
       " 609,\n",
       " 610,\n",
       " 611,\n",
       " 612,\n",
       " 613,\n",
       " 614,\n",
       " 615,\n",
       " 616,\n",
       " 617,\n",
       " 618,\n",
       " 619,\n",
       " 620,\n",
       " 621,\n",
       " 622,\n",
       " 623,\n",
       " 624,\n",
       " 625,\n",
       " 626,\n",
       " 627,\n",
       " 628,\n",
       " 629,\n",
       " 630,\n",
       " 631,\n",
       " 632,\n",
       " 633,\n",
       " 634,\n",
       " 635,\n",
       " 636,\n",
       " 637,\n",
       " 638,\n",
       " 639,\n",
       " 640,\n",
       " 641,\n",
       " 642,\n",
       " 643,\n",
       " 644,\n",
       " 645,\n",
       " 646,\n",
       " 647,\n",
       " 648,\n",
       " 649,\n",
       " 650,\n",
       " 651,\n",
       " 652,\n",
       " 653,\n",
       " 654,\n",
       " 655,\n",
       " 656,\n",
       " 657,\n",
       " 658,\n",
       " 659,\n",
       " 660,\n",
       " 661,\n",
       " 662,\n",
       " 663,\n",
       " 664,\n",
       " 665,\n",
       " 666,\n",
       " 667,\n",
       " 668,\n",
       " 669,\n",
       " 670,\n",
       " 671,\n",
       " 672,\n",
       " 673,\n",
       " 674,\n",
       " 675,\n",
       " 676,\n",
       " 677,\n",
       " 678,\n",
       " 679,\n",
       " 680,\n",
       " 681,\n",
       " 682,\n",
       " 683,\n",
       " 684,\n",
       " 685,\n",
       " 686,\n",
       " 687,\n",
       " 688,\n",
       " 689,\n",
       " 690,\n",
       " 691,\n",
       " 692,\n",
       " 693,\n",
       " 694,\n",
       " 695,\n",
       " 696,\n",
       " 697,\n",
       " 698,\n",
       " 699,\n",
       " 700,\n",
       " 701,\n",
       " 702,\n",
       " 703,\n",
       " 704,\n",
       " 705,\n",
       " 706,\n",
       " 707,\n",
       " 708,\n",
       " 709,\n",
       " 710,\n",
       " 711,\n",
       " 712,\n",
       " 713,\n",
       " 714,\n",
       " 715,\n",
       " 716,\n",
       " 717,\n",
       " 718,\n",
       " 719,\n",
       " 720,\n",
       " 721,\n",
       " 722,\n",
       " 723,\n",
       " 724,\n",
       " 725,\n",
       " 726,\n",
       " 727,\n",
       " 728,\n",
       " 729,\n",
       " 730,\n",
       " 731,\n",
       " 732,\n",
       " 733,\n",
       " 734,\n",
       " 735,\n",
       " 736,\n",
       " 737,\n",
       " 738,\n",
       " 739,\n",
       " 740,\n",
       " 741,\n",
       " 742,\n",
       " 743,\n",
       " 744,\n",
       " 745,\n",
       " 746,\n",
       " 747,\n",
       " 748,\n",
       " 749,\n",
       " 750,\n",
       " 751,\n",
       " 752,\n",
       " 753,\n",
       " 754,\n",
       " 755,\n",
       " 756,\n",
       " 757,\n",
       " 758,\n",
       " 759,\n",
       " 760,\n",
       " 761,\n",
       " 762,\n",
       " 763,\n",
       " 764,\n",
       " 765,\n",
       " 766,\n",
       " 767,\n",
       " 768,\n",
       " 769,\n",
       " 770,\n",
       " 771,\n",
       " 772,\n",
       " 773,\n",
       " 774,\n",
       " 775,\n",
       " 776,\n",
       " 777,\n",
       " 778,\n",
       " 779,\n",
       " 780,\n",
       " 781,\n",
       " 782,\n",
       " 783,\n",
       " 784,\n",
       " 785,\n",
       " 786,\n",
       " 787,\n",
       " 788,\n",
       " 789,\n",
       " 790,\n",
       " 791,\n",
       " 792,\n",
       " 793,\n",
       " 794,\n",
       " 795,\n",
       " 796,\n",
       " 797,\n",
       " 798,\n",
       " 799,\n",
       " 800,\n",
       " 801,\n",
       " 802,\n",
       " 803,\n",
       " 804,\n",
       " 805,\n",
       " 806,\n",
       " 807,\n",
       " 808,\n",
       " 809,\n",
       " 810,\n",
       " 811,\n",
       " 812,\n",
       " 813,\n",
       " 814,\n",
       " 815,\n",
       " 816,\n",
       " 817,\n",
       " 818,\n",
       " 819,\n",
       " 820,\n",
       " 821,\n",
       " 822,\n",
       " 823,\n",
       " 824,\n",
       " 825,\n",
       " 826,\n",
       " 827,\n",
       " 828,\n",
       " 829,\n",
       " 830,\n",
       " 831,\n",
       " 832,\n",
       " 833,\n",
       " 834,\n",
       " 835,\n",
       " 836,\n",
       " 837,\n",
       " 838,\n",
       " 839,\n",
       " 840,\n",
       " 841,\n",
       " 842,\n",
       " 843,\n",
       " 844,\n",
       " 845,\n",
       " 846,\n",
       " 847,\n",
       " 848,\n",
       " 849,\n",
       " 850,\n",
       " 851,\n",
       " 852,\n",
       " 853,\n",
       " 854,\n",
       " 855,\n",
       " 856,\n",
       " 857,\n",
       " 858,\n",
       " 859,\n",
       " 860,\n",
       " 861,\n",
       " 862,\n",
       " 863,\n",
       " 864,\n",
       " 865,\n",
       " 866,\n",
       " 867,\n",
       " 868,\n",
       " 869,\n",
       " 870,\n",
       " 871,\n",
       " 872,\n",
       " 873,\n",
       " 874,\n",
       " 875,\n",
       " 876,\n",
       " 877,\n",
       " 878,\n",
       " 879,\n",
       " 880,\n",
       " 881,\n",
       " 882,\n",
       " 883,\n",
       " 884,\n",
       " 885,\n",
       " 886,\n",
       " 887,\n",
       " 888,\n",
       " 889,\n",
       " 890,\n",
       " 891,\n",
       " 892,\n",
       " 893,\n",
       " 894,\n",
       " 895,\n",
       " 896,\n",
       " 897,\n",
       " 898,\n",
       " 899,\n",
       " 900,\n",
       " 901,\n",
       " 902,\n",
       " 903,\n",
       " 904,\n",
       " 905,\n",
       " 906,\n",
       " 907,\n",
       " 908,\n",
       " 909,\n",
       " 910,\n",
       " 911,\n",
       " 912,\n",
       " 913,\n",
       " 914,\n",
       " 915,\n",
       " 916,\n",
       " 917,\n",
       " 918,\n",
       " 919,\n",
       " 920,\n",
       " 921,\n",
       " 922,\n",
       " 923,\n",
       " 924,\n",
       " 925,\n",
       " 926,\n",
       " 927,\n",
       " 928,\n",
       " 929,\n",
       " 930,\n",
       " 931,\n",
       " 932,\n",
       " 933,\n",
       " 934,\n",
       " 935,\n",
       " 936,\n",
       " 937,\n",
       " 938,\n",
       " 939,\n",
       " 940,\n",
       " 941,\n",
       " 942,\n",
       " 943,\n",
       " 944,\n",
       " 945,\n",
       " 946,\n",
       " 947,\n",
       " 948,\n",
       " 949,\n",
       " 950,\n",
       " 951,\n",
       " 952,\n",
       " 953,\n",
       " 954,\n",
       " 955,\n",
       " 956,\n",
       " 957,\n",
       " 958,\n",
       " 959,\n",
       " 960,\n",
       " 961,\n",
       " 962,\n",
       " 963,\n",
       " 964,\n",
       " 965,\n",
       " 966,\n",
       " 967,\n",
       " 968,\n",
       " 969,\n",
       " 970,\n",
       " 971,\n",
       " 972,\n",
       " 973,\n",
       " 974,\n",
       " 975,\n",
       " 976,\n",
       " 977,\n",
       " 978,\n",
       " 979,\n",
       " 980,\n",
       " 981,\n",
       " 982,\n",
       " 983,\n",
       " 984,\n",
       " 985,\n",
       " 986,\n",
       " 987,\n",
       " 988,\n",
       " 989,\n",
       " 990,\n",
       " 991,\n",
       " 992,\n",
       " 993,\n",
       " 994,\n",
       " 995,\n",
       " 996,\n",
       " 997,\n",
       " 998,\n",
       " 999]"
      ]
     },
     "execution_count": 58,
     "metadata": {},
     "output_type": "execute_result"
    }
   ],
   "source": [
    "# list 1000 số nguyên từ 0 đến 999\n",
    "X = [n for n in range(1000)]\n",
    "X"
   ]
  },
  {
   "cell_type": "code",
   "execution_count": 59,
   "id": "0e77f233-e69b-4f17-9a92-3fb7576ff5ad",
   "metadata": {},
   "outputs": [
    {
     "data": {
      "text/plain": [
       "[[0, 0],\n",
       " [1, 1],\n",
       " [2, 4],\n",
       " [3, 9],\n",
       " [4, 16],\n",
       " [5, 25],\n",
       " [6, 36],\n",
       " [7, 49],\n",
       " [8, 64],\n",
       " [9, 81]]"
      ]
     },
     "execution_count": 59,
     "metadata": {},
     "output_type": "execute_result"
    }
   ],
   "source": [
    "# list gồm 10 list con là các cặp [x, x2]\n",
    "# với x chạy từ 0 đến 9\n",
    "Y = [[x, x*x] for x in range(10)]\n",
    "Y"
   ]
  },
  {
   "cell_type": "code",
   "execution_count": 60,
   "id": "24282505-f1a4-4c4b-a414-7a241714acf1",
   "metadata": {},
   "outputs": [
    {
     "name": "stdout",
     "output_type": "stream",
     "text": [
      "[1, 2, 3, ['a', 'b', 'c']]\n"
     ]
    }
   ],
   "source": [
    "l1 = list([1, 2, 3, 4])\n",
    "l1[-1] = list('abc')\n",
    "print(l1)"
   ]
  },
  {
   "cell_type": "code",
   "execution_count": 63,
   "id": "81ec651b-8833-4ceb-89b5-02b80e64f843",
   "metadata": {},
   "outputs": [
    {
     "name": "stdout",
     "output_type": "stream",
     "text": [
      "['An', 'Nguyen', 'Van']\n"
     ]
    }
   ],
   "source": [
    "x = \"Nguyen Van An\".split()\n",
    "x.sort(key=str.lower)\n",
    "print(x)"
   ]
  },
  {
   "cell_type": "markdown",
   "id": "34b19c86-b0a0-483f-b6d8-0cbce23184ef",
   "metadata": {},
   "source": [
    "## Tuple"
   ]
  },
  {
   "cell_type": "code",
   "execution_count": 64,
   "id": "1222351f-b19f-4bef-baaa-c15c628d4e3f",
   "metadata": {},
   "outputs": [
    {
     "data": {
      "text/plain": [
       "()"
      ]
     },
     "execution_count": 64,
     "metadata": {},
     "output_type": "execute_result"
    }
   ],
   "source": [
    "(1, 2, 3, 4, 5) # tuple 5 số nguyên\n",
    "('a', 'b', 'c', 'd') # tuple 4 chuỗi\n",
    "(1, 'one', [2, 'two']) # tuple hỗ hợp\n",
    "(1,) # tuple 1 phần tử\n",
    "() # tuple rỗng"
   ]
  },
  {
   "cell_type": "markdown",
   "id": "ebe6bf01-e751-4194-a72c-e8caf8f18430",
   "metadata": {},
   "source": [
    "## Range"
   ]
  },
  {
   "cell_type": "markdown",
   "id": "ee3b7eb3-70e0-4228-b700-228e19e3d52f",
   "metadata": {},
   "source": [
    "# Tập hợp"
   ]
  },
  {
   "cell_type": "markdown",
   "id": "c7974606-6bf5-40fb-9b0c-e2f6ce757bb9",
   "metadata": {},
   "source": [
    "## Set và Frozenset"
   ]
  },
  {
   "cell_type": "code",
   "execution_count": 66,
   "id": "6cddd178-0dfd-4f3b-8c74-1c2d9b87ac93",
   "metadata": {},
   "outputs": [
    {
     "name": "stdout",
     "output_type": "stream",
     "text": [
      "{'pear', 'apple', 'orange'}\n"
     ]
    }
   ],
   "source": [
    "basket = {'apple','orange','apple','pear'}\n",
    "print(basket)\n",
    "#{'orange','pear','apple'} : xóa trùng nhau"
   ]
  },
  {
   "cell_type": "code",
   "execution_count": 67,
   "id": "4f955917-2a73-441f-a6de-a8a6447133cc",
   "metadata": {},
   "outputs": [
    {
     "name": "stdout",
     "output_type": "stream",
     "text": [
      "a= {1, 2, 3, 4, 5}\n"
     ]
    }
   ],
   "source": [
    "a = {5,2,3,1,4}\n",
    "print(\"a=\", a) #a = {1, 2, 3, 4, 5}"
   ]
  },
  {
   "cell_type": "code",
   "execution_count": 71,
   "id": "4751a595-da07-4c18-b725-80d7bb431714",
   "metadata": {},
   "outputs": [
    {
     "name": "stdout",
     "output_type": "stream",
     "text": [
      "{1, 2, 3, 4}\n",
      "{1}\n",
      "{2, 3, 4}\n",
      "{1, 2, 3, 4, 5, 6, 7, 8, 9, 10, 11, 12, 13, 14, 15, 16, 17, 18, 19, 20, 21, 22, 23, 24, 25, 26, 27, 28, 29, 30, 31, 32, 33, 34, 35, 36, 37, 38, 39, 40, 41, 42, 43, 44, 45, 46, 47, 48, 49, 50, 51, 52, 53, 54, 55, 56, 57, 58, 59, 60, 61, 62, 63, 64, 65, 66, 67, 68, 69, 70, 71, 72, 73, 74, 75, 76, 77, 78, 79, 80, 81, 82, 83, 84, 85, 86, 87, 88, 89, 90, 91, 92, 93, 94, 95, 96, 97, 98, 99}\n"
     ]
    }
   ],
   "source": [
    "s1 = set([1, 2, 3, 4]) # {1, 2, 3, 4}\n",
    "s2 = set((1, 1, 1)) # {1}\n",
    "s3 = s1-s2 # {2, 3, 4}\n",
    "s4 = set(range(1,100)) # {1, 2, 3,..., 98, 99}\n",
    "print(s1)\n",
    "print(s2)\n",
    "print(s3)\n",
    "print(s4)"
   ]
  },
  {
   "cell_type": "code",
   "execution_count": 73,
   "id": "cb6cda5d-98eb-462b-a6c4-f0c0971d3ad5",
   "metadata": {},
   "outputs": [
    {
     "data": {
      "text/plain": [
       "{'d', 'r'}"
      ]
     },
     "execution_count": 73,
     "metadata": {},
     "output_type": "execute_result"
    }
   ],
   "source": [
    "# a = {'r', 'd'}\n",
    "a = {x for x in 'abracadabra' if x not in 'abc'}\n",
    "a"
   ]
  },
  {
   "cell_type": "code",
   "execution_count": 75,
   "id": "8fc8c3dd-4ba7-48a0-85c0-cb49c7b06894",
   "metadata": {},
   "outputs": [
    {
     "data": {
      "text/plain": [
       "{(1, 2), (2, 3), 'abc'}"
      ]
     },
     "execution_count": 75,
     "metadata": {},
     "output_type": "execute_result"
    }
   ],
   "source": [
    "a = set(((1,2),(2,3))) # {(1, 2), (2, 3)}\n",
    "a.add(\"abc\") # {(1, 2), \"abc\", (2, 3)}\n",
    "a"
   ]
  },
  {
   "cell_type": "code",
   "execution_count": 79,
   "id": "bec2888a-4b94-4159-a1e9-bc5f133634ca",
   "metadata": {},
   "outputs": [
    {
     "name": "stdout",
     "output_type": "stream",
     "text": [
      "ketqua_Set= {8.0, 'Sinh viên', (1, 2, 3)}\n"
     ]
    }
   ],
   "source": [
    "my_set = {8.0, \"Sinh viên\", (1, 2, 3)}\n",
    "print(\"ketqua_Set=\",my_set)"
   ]
  },
  {
   "cell_type": "code",
   "execution_count": 80,
   "id": "e4950419-474c-48bd-91d1-8cbb61a799e3",
   "metadata": {},
   "outputs": [
    {
     "name": "stdout",
     "output_type": "stream",
     "text": [
      "{1, 2, 3, 4, 5, 6, 8}\n"
     ]
    }
   ],
   "source": [
    "# Khởi tạo my_set\n",
    "my_set = {1,3}\n",
    "my_set.add(2) #thêm\n",
    "my_set.update([2,3,4]) # Cập nhật\n",
    "my_set.update([4,5], {1,6,8}) # Cập nhật set\n",
    "print(my_set)"
   ]
  },
  {
   "cell_type": "code",
   "execution_count": 82,
   "id": "b21e50ba-1a59-4a2c-8ec8-d65d239e2b7f",
   "metadata": {},
   "outputs": [
    {
     "name": "stdout",
     "output_type": "stream",
     "text": [
      "{'d', 'b', 'r'}\n",
      "{'z', 'm', 'b', 'd', 'l', 'a', 'r', 'c'}\n",
      "{'a', 'c'}\n",
      "{'z', 'd', 'm', 'l', 'b', 'r'}\n"
     ]
    }
   ],
   "source": [
    "a = set('abracadabra') # {'d', 'r', 'c', 'b', 'a'}\n",
    "b = set('alacazam') # {'z', 'c', 'm', 'l', 'a'}\n",
    "# Phép Hiệu: thuộc a nhưng không thuộc b\n",
    "\n",
    "print(a - b) # {'r', 'd', 'b'}\n",
    "\n",
    "# Phép Hợp: thuộc a hoặc b\n",
    "# {'a', 'c', 'r', 'd', 'b', 'm', 'z', 'l'}\n",
    "\n",
    "print(a | b)\n",
    "\n",
    "# Phép Giao: thuộc cả a và b\n",
    "\n",
    "print(a & b) # {'a', 'c'}\n",
    "\n",
    "# Phép Xor: thuộc hoặc a, hoặc b nhưng không phải cả 2\n",
    "# {'r', 'd', 'b', 'm', 'z', 'l'}\n",
    "print(a ^ b)"
   ]
  },
  {
   "cell_type": "code",
   "execution_count": 83,
   "id": "06fdfb0a-b680-4c73-b6ca-fcfd8a798e43",
   "metadata": {},
   "outputs": [
    {
     "name": "stdout",
     "output_type": "stream",
     "text": [
      "Số lớn nhất là : 33\n"
     ]
    }
   ],
   "source": [
    "num = {1,3,5,6,8,20,7,8,29,33}\n",
    "print(\"Số lớn nhất là :\", max(num))"
   ]
  },
  {
   "cell_type": "code",
   "execution_count": 86,
   "id": "9f407605-219d-4287-b046-402ed7538b32",
   "metadata": {},
   "outputs": [
    {
     "name": "stdout",
     "output_type": "stream",
     "text": [
      "pear\n",
      "apple\n",
      "lemon\n",
      "orange\n"
     ]
    }
   ],
   "source": [
    "setFruits = {'lemon','orange','apple','pear'}\n",
    "for x in setFruits:\n",
    "\n",
    "    print(x)"
   ]
  },
  {
   "cell_type": "code",
   "execution_count": 88,
   "id": "53215a63-8657-44f8-83bd-feb7d61bab5f",
   "metadata": {},
   "outputs": [
    {
     "name": "stdout",
     "output_type": "stream",
     "text": [
      "h\n",
      "v\n",
      "u\n",
      "o\n",
      "i\n",
      "g\n",
      "n\n",
      "c\n"
     ]
    }
   ],
   "source": [
    "for letter in set('chivuong'):\n",
    "\n",
    "    print(letter)"
   ]
  },
  {
   "cell_type": "markdown",
   "id": "187ed0a1-6300-4b79-acb8-b34c4eb527cc",
   "metadata": {},
   "source": [
    "## Dictionary"
   ]
  },
  {
   "cell_type": "code",
   "execution_count": 89,
   "id": "47b9264f-8040-43f1-87e1-7811226d2b22",
   "metadata": {},
   "outputs": [
    {
     "name": "stdout",
     "output_type": "stream",
     "text": [
      "one\n",
      "{1: 'one', 2: 'two', 3: 'three', 4: 'four'}\n"
     ]
    }
   ],
   "source": [
    "dict = {1:'one',2:'two',3:'three'}\n",
    "print(dict[1]) #'one'\n",
    "dict[4]='four'\n",
    "print(dict)"
   ]
  },
  {
   "cell_type": "code",
   "execution_count": 91,
   "id": "6f8b104e-5026-4c08-95c7-bc2d7de5d152",
   "metadata": {},
   "outputs": [
    {
     "name": "stdout",
     "output_type": "stream",
     "text": [
      "{(1, 2, 3): 'abc', 3.1415: 'abc'}\n"
     ]
    }
   ],
   "source": [
    "dict = {(1,2,3):\"abc\", 3.1415:\"abc\"}\n",
    "print(dict)"
   ]
  },
  {
   "cell_type": "code",
   "execution_count": 93,
   "id": "6dd2aa38-fa7a-4610-84c7-19980925aa73",
   "metadata": {},
   "outputs": [
    {
     "name": "stdout",
     "output_type": "stream",
     "text": [
      "('a', 1)\n",
      "('b', 2)\n",
      "('c', 3)\n"
     ]
    },
    {
     "data": {
      "text/plain": [
       "('c', 3)"
      ]
     },
     "execution_count": 93,
     "metadata": {},
     "output_type": "execute_result"
    }
   ],
   "source": [
    "l1 = [\"a\",\"b\",\"c\"]\n",
    "l2 = [1,2,3]\n",
    "c = zip(l1, l2)\n",
    "for i in c:\n",
    "    print(i)\n",
    "\n",
    "('a', 1)\n",
    "('b', 2)\n",
    "('c', 3)"
   ]
  },
  {
   "cell_type": "code",
   "execution_count": 95,
   "id": "c090f2e1-c37a-4077-afb2-3230b5778418",
   "metadata": {},
   "outputs": [
    {
     "name": "stdout",
     "output_type": "stream",
     "text": [
      "{1: 'Nguyen', 2: 'Van', 3: 'An'}\n"
     ]
    }
   ],
   "source": [
    "# tạo một dict với key là các số nguyên\n",
    "Dict = {1: 'Nguyen', 2: 'Van', 3: 'An'}\n",
    "print(Dict)"
   ]
  },
  {
   "cell_type": "code",
   "execution_count": 96,
   "id": "de6a2853-aac6-4742-9f59-8e6d5af5e88c",
   "metadata": {},
   "outputs": [
    {
     "name": "stdout",
     "output_type": "stream",
     "text": [
      "{'Name': 'dict', 1: [1, 2, 3, 4]}\n"
     ]
    }
   ],
   "source": [
    "# tạo một dict với key hỗn hợp\n",
    "Dict = {'Name': 'dict', 1: [1, 2, 3, 4]}\n",
    "print(Dict)"
   ]
  },
  {
   "cell_type": "code",
   "execution_count": 98,
   "id": "620b6646-42cf-4fce-a742-c2d7b7f6d5cd",
   "metadata": {},
   "outputs": [
    {
     "name": "stdout",
     "output_type": "stream",
     "text": [
      "{0: 'Xin chao', 1: 'lop hoc Khoa học du lieu'}\n"
     ]
    }
   ],
   "source": [
    "# tạo một từ điển\n",
    "Dict = {}\n",
    "# thêm các giá trị\n",
    "Dict[0] = 'Xin chao'\n",
    "Dict[1] = 'lop hoc Khoa học du lieu'\n",
    "print(Dict)"
   ]
  },
  {
   "cell_type": "code",
   "execution_count": 101,
   "id": "7a79ee21-a8c2-433e-ac6e-f013a075f1aa",
   "metadata": {},
   "outputs": [
    {
     "name": "stdout",
     "output_type": "stream",
     "text": [
      "Lớp\n",
      "Dữ liệu\n"
     ]
    }
   ],
   "source": [
    "# tạo một dict mới\n",
    "Dict = {1: 'Lớp', 2: 'Khoa học', 3: 'Dữ liệu'}\n",
    "\n",
    "# truy cập theo cách thông thường\n",
    "print(Dict[1])\n",
    "# Lớp\n",
    "\n",
    "# truy cập bằng phương thức get()\n",
    "print(Dict.get(3))\n",
    "# Dữ liệu"
   ]
  },
  {
   "cell_type": "code",
   "execution_count": 106,
   "id": "9b896905-0ef3-40f6-b022-f5c4234472cd",
   "metadata": {},
   "outputs": [
    {
     "name": "stdout",
     "output_type": "stream",
     "text": [
      "Chuỗi tương đương là : {'Ten': 'An', 'Tuoi': 20}\n"
     ]
    }
   ],
   "source": [
    "Dict = {'Ten':'An','Tuoi':20};\n",
    "print(\"Chuỗi tương đương là : %s\" % str(Dict))  "
   ]
  },
  {
   "cell_type": "code",
   "execution_count": 108,
   "id": "f066446b-2dfd-4ffe-904a-91f903cc5648",
   "metadata": {},
   "outputs": [
    {
     "name": "stdout",
     "output_type": "stream",
     "text": [
      "{'Cúc': 18, 'Lan': 21, 'Hồng': 20, 'Mai': 27, 'Đào': 25}\n"
     ]
    }
   ],
   "source": [
    "Dict = {'Cúc':18, 'Lan':19, 'Hồng':20, 'Mai':27}\n",
    "Dict.update({'Lan':21}) #cập nhật tuổi cho Lan\n",
    "Dict.update({'Đào':25}) #thêm một phần tử mới là Đào\n",
    "print(Dict)"
   ]
  },
  {
   "cell_type": "markdown",
   "id": "45030e62-f787-41e8-bb02-651218f5abe0",
   "metadata": {},
   "source": [
    "## Module và Package"
   ]
  },
  {
   "cell_type": "code",
   "execution_count": 110,
   "id": "f40b08dc-a2fa-4502-8dfe-2612609bdd4a",
   "metadata": {},
   "outputs": [
    {
     "data": {
      "text/plain": [
       "array([1, 2, 3])"
      ]
     },
     "execution_count": 110,
     "metadata": {},
     "output_type": "execute_result"
    }
   ],
   "source": [
    "import numpy\n",
    "A = numpy.array([1, 2, 3])\n",
    "A"
   ]
  },
  {
   "cell_type": "code",
   "execution_count": 112,
   "id": "ac5914c4-5d8a-4940-a421-e083dddb175c",
   "metadata": {},
   "outputs": [
    {
     "data": {
      "text/plain": [
       "array([1, 2, 3])"
      ]
     },
     "execution_count": 112,
     "metadata": {},
     "output_type": "execute_result"
    }
   ],
   "source": [
    "import numpy as np\n",
    "B = np.array([1, 2, 3])\n",
    "B"
   ]
  },
  {
   "cell_type": "code",
   "execution_count": 114,
   "id": "90eb235e-af74-43fd-b4b1-34d57a98f0e8",
   "metadata": {},
   "outputs": [
    {
     "data": {
      "text/plain": [
       "array([1, 2, 3])"
      ]
     },
     "execution_count": 114,
     "metadata": {},
     "output_type": "execute_result"
    }
   ],
   "source": [
    "from numpy import array\n",
    "C = array([1, 2, 3])\n",
    "C"
   ]
  },
  {
   "cell_type": "markdown",
   "id": "8a34d8f3-b463-4c80-bfbe-4a2523176e05",
   "metadata": {},
   "source": [
    "## Thư viện Numpy"
   ]
  },
  {
   "cell_type": "markdown",
   "id": "ad7c10e8-f3c6-4c6f-8f7e-bdd03940b8c5",
   "metadata": {},
   "source": [
    "### Khởi tạo mảng và chỉ số"
   ]
  },
  {
   "cell_type": "code",
   "execution_count": 116,
   "id": "3b6af442-0fde-4cb9-87a6-7e943c5cc7b4",
   "metadata": {},
   "outputs": [
    {
     "name": "stdout",
     "output_type": "stream",
     "text": [
      "<class 'numpy.ndarray'>\n",
      "(3,)\n",
      "1 2 3\n",
      "[5 2 3]\n",
      "(2, 3)\n",
      "1 2 4\n",
      "[[1 0 0]\n",
      " [0 3 0]\n",
      " [0 0 4]]\n"
     ]
    }
   ],
   "source": [
    "import numpy as np\n",
    "\n",
    "a = np.array([1, 2, 3]) # tạo mảng 1 chiều\n",
    "print(type(a)) # in \"<class 'numpy.ndarray'>\"\n",
    "print(a.shape) # in \"(3,)\"\n",
    "print(a[0], a[1], a[2]) # in \"1 2 3\"\n",
    "a[0] = 5\n",
    "print(a) # in \"[5, 2, 3]\"\n",
    "b = np.array([[1, 2, 3],[4, 5, 6]]) # tạo mảng 2 chiều\n",
    "print(b.shape) # in \"(2, 3)\"\n",
    "print(b[0, 0], b[0, 1], b[1, 0]) # in \"1 2 4\"\n",
    "print(np.diag([1, 3, 4])) # in ra cái gì?"
   ]
  },
  {
   "cell_type": "code",
   "execution_count": 119,
   "id": "bc506701-93a6-4851-bf1d-6abeedc35e0b",
   "metadata": {},
   "outputs": [
    {
     "name": "stdout",
     "output_type": "stream",
     "text": [
      "2 6\n",
      "(2, 3)\n",
      "int32\n"
     ]
    }
   ],
   "source": [
    "x = np.arange(3.0)  # mảng [0. 1. 2.]"
   ]
  },
  {
   "cell_type": "code",
   "execution_count": 120,
   "id": "66704475-e52b-402b-910c-7bc1ce3c48ac",
   "metadata": {},
   "outputs": [
    {
     "data": {
      "text/plain": [
       "array([[0., 0.],\n",
       "       [0., 0.]])"
      ]
     },
     "execution_count": 120,
     "metadata": {},
     "output_type": "execute_result"
    }
   ],
   "source": [
    "a = np.zeros((2, 2))  # mảng 2x2 toàn số 0\n",
    "a"
   ]
  },
  {
   "cell_type": "code",
   "execution_count": 121,
   "id": "963aeb18-0f6e-4311-a0f1-d759bcc79df8",
   "metadata": {},
   "outputs": [
    {
     "data": {
      "text/plain": [
       "array([[1., 1.]])"
      ]
     },
     "execution_count": 121,
     "metadata": {},
     "output_type": "execute_result"
    }
   ],
   "source": [
    "b = np.ones((1, 2))  # mảng 1x2 toàn số 1\n",
    "b"
   ]
  },
  {
   "cell_type": "code",
   "execution_count": 123,
   "id": "c42f8ede-47a9-46ab-a131-99af64eab93c",
   "metadata": {},
   "outputs": [
    {
     "data": {
      "text/plain": [
       "array([[[9, 9],\n",
       "        [9, 9]],\n",
       "\n",
       "       [[9, 9],\n",
       "        [9, 9]],\n",
       "\n",
       "       [[9, 9],\n",
       "        [9, 9]]])"
      ]
     },
     "execution_count": 123,
     "metadata": {},
     "output_type": "execute_result"
    }
   ],
   "source": [
    "c = np.full((3, 2, 2), 9)  # mảng 3x2x2 toàn số 9\n",
    "c"
   ]
  },
  {
   "cell_type": "code",
   "execution_count": 124,
   "id": "cfedaec7-3123-4975-983c-605b4fd62615",
   "metadata": {},
   "outputs": [
    {
     "data": {
      "text/plain": [
       "array([[1., 0.],\n",
       "       [0., 1.]])"
      ]
     },
     "execution_count": 124,
     "metadata": {},
     "output_type": "execute_result"
    }
   ],
   "source": [
    "d = np.eye(2)  # ma trận đơn vị 2x2\n",
    "d"
   ]
  },
  {
   "cell_type": "code",
   "execution_count": 125,
   "id": "f07ccfcb-35a8-4a8a-b4b1-4a5f2ec78751",
   "metadata": {},
   "outputs": [
    {
     "data": {
      "text/plain": [
       "array([[0.928049  , 0.93146437],\n",
       "       [0.7509991 , 0.96990081],\n",
       "       [0.13751981, 0.04632483]])"
      ]
     },
     "execution_count": 125,
     "metadata": {},
     "output_type": "execute_result"
    }
   ],
   "source": [
    "e = np.random.random((3, 2))  # mảng 3x2 ngẫu nhiên [0,1)\n",
    "e"
   ]
  },
  {
   "cell_type": "code",
   "execution_count": 126,
   "id": "8515f90b-9f28-4491-bd86-5c218871dce0",
   "metadata": {},
   "outputs": [
    {
     "name": "stdout",
     "output_type": "stream",
     "text": [
      "2 6\n",
      "(2, 3)\n",
      "int32\n"
     ]
    }
   ],
   "source": [
    "# mảng 2x3 điền các số từ 1 đến 6, kiểu số nguyên 32 bit\n",
    "x = np.array([[1, 2, 3], [4, 5, 6]], np.int32)\n",
    "\n",
    "print(x.ndim, x.size)  # 2 6 (2 chiều, 6 phần tử)\n",
    "print(x.shape)  # in \"(2, 3)\"\n",
    "print(x.dtype)  # in \"dtype('int32')\""
   ]
  },
  {
   "cell_type": "code",
   "execution_count": 127,
   "id": "1d3ab4cf-aab2-43de-ae2d-87eb73f05c09",
   "metadata": {},
   "outputs": [
    {
     "name": "stdout",
     "output_type": "stream",
     "text": [
      "2\n",
      "77\n"
     ]
    }
   ],
   "source": [
    "# mảng 3x4\n",
    "a = np.array([[1, 2, 3, 4], [5, 6, 7, 8], [9, 10, 11, 12]])\n",
    "# mảng 2x2 trích xuất từ a, dòng 0+1, cột 1+2\n",
    "b = a[:2, 1:3]\n",
    "# chú ý: mảng của numpy tham chiếu chứ không copy dữ liệu\n",
    "print(a[0, 1]) # in \"2\"\n",
    "b[0, 0] = 77 # b[0, 0] cũng là a[0, 1]\n",
    "print(a[0, 1]) # in \"77\""
   ]
  },
  {
   "cell_type": "code",
   "execution_count": 128,
   "id": "4180bb23-01f4-41c3-92d6-7ab63067015f",
   "metadata": {},
   "outputs": [
    {
     "name": "stdout",
     "output_type": "stream",
     "text": [
      "[5 6 7 8] (4,)\n",
      "[[5 6 7 8]] (1, 4)\n",
      "[77  6 10] (3,)\n",
      "[[77]\n",
      " [ 6]\n",
      " [10]] (3, 1)\n"
     ]
    }
   ],
   "source": [
    "row_r1 = a[1, :] # mảng 1 chiều độ dài 4\n",
    "row_r2 = a[1:2, :] # mảng 2 chiều 1x4\n",
    "print(row_r1, row_r1.shape) # in ra \"[5 6 7 8] (4,)\"\n",
    "print(row_r2, row_r2.shape) # in ra \"[[5 6 7 8]] (1, 4)\"\n",
    "col_r1 = a[:, 1] # mảng 1 chiều độ dài 3\n",
    "col_r2 = a[:, 1:2] # mảng 2 chiều 3x1\n",
    "print(col_r1, col_r1.shape) # in ra \"[ 2 6 10] (3,)\"\n",
    "print(col_r2, col_r2.shape) # in ra \"[[ 2]\n",
    "\n",
    "# [ 6]\n",
    "# [10]] (3, 1)\""
   ]
  },
  {
   "cell_type": "markdown",
   "id": "de07fcb8-20b9-43d0-935d-f1ad8f4779f0",
   "metadata": {},
   "source": [
    "### Các phép toán trên mảng"
   ]
  },
  {
   "cell_type": "code",
   "execution_count": 129,
   "id": "fa83b9a7-7cb7-4155-8a11-49635175e332",
   "metadata": {},
   "outputs": [
    {
     "name": "stdout",
     "output_type": "stream",
     "text": [
      "[[ 6.  8.]\n",
      " [10. 12.]]\n",
      "[[-4. -4.]\n",
      " [-4. -4.]]\n",
      "[[ 5. 12.]\n",
      " [21. 32.]]\n",
      "[[0.2        0.33333333]\n",
      " [0.42857143 0.5       ]]\n",
      "[[1.         1.41421356]\n",
      " [1.73205081 2.        ]]\n",
      "[[ 2.  4.]\n",
      " [ 8. 16.]]\n"
     ]
    }
   ],
   "source": [
    "x = np.array([[1, 2], [3, 4]], dtype=np.float64)\n",
    "y = np.array([[5, 6], [7, 8]], dtype=np.float64)\n",
    "print(x + y) # print(np.add(x, y)), xử lý khác list\n",
    "print(x - y) # print(np.subtract(x, y))\n",
    "print(x * y) # print(np.multiply(x, y))\n",
    "print(x / y) # print(np.divide(x, y))\n",
    "print(np.sqrt(x)) # khai căn tất cả các phần tử\n",
    "print(2**x) # tính 2 mũ các phần tử trong x\n",
    "# chú ý: phép nhân/chia thực hiện theo cặp phần tử của x và y"
   ]
  },
  {
   "cell_type": "code",
   "execution_count": 130,
   "id": "edd62c8e-e970-4e90-b2e0-a5748187d6ab",
   "metadata": {},
   "outputs": [
    {
     "name": "stdout",
     "output_type": "stream",
     "text": [
      "219\n",
      "[29 67]\n",
      "[[19 22]\n",
      " [43 50]]\n",
      "[[-2.   1. ]\n",
      " [ 1.5 -0.5]]\n"
     ]
    }
   ],
   "source": [
    "x = np.array([[1, 2],[3, 4]])\n",
    "y = np.array([[5, 6],[7, 8]])\n",
    "v = np.array([9, 10])\n",
    "w = np.array([11, 12])\n",
    "print(v.dot(w)) # tương tự print(np.dot(v, w))\n",
    "print(x.dot(v)) # tương tự print(np.dot(x, v))\n",
    "print(x.dot(y)) # tương tự print(np.dot(x, y))\n",
    "print(np.linalg.inv(x)) # tính và in nghịch đảo của x"
   ]
  },
  {
   "cell_type": "code",
   "execution_count": 131,
   "id": "fbfee385-fed9-47cd-97c2-ba77a4e78928",
   "metadata": {},
   "outputs": [
    {
     "name": "stdout",
     "output_type": "stream",
     "text": [
      "[[1 2]\n",
      " [3 4]]\n",
      "[[1 3]\n",
      " [2 4]]\n",
      "[1 2 3]\n",
      "[1 2 3]\n",
      "[[1]\n",
      " [2]\n",
      " [3]]\n"
     ]
    }
   ],
   "source": [
    "x = np.array([[1, 2], [3, 4]])\n",
    "print(x) # in ra \"[[1 2]\n",
    "# [3 4]]\"\n",
    "print(x.T) # in ra \"[[1 3]\n",
    "# [2 4]]\"\n",
    "# chú ý: mảng 1 chiều không có chuyển vị\n",
    "y = np.array([1, 2, 3])\n",
    "print(y) # in ra \"[1 2 3]\"\n",
    "print(y.T) # in ra \"[1 2 3]\"\n",
    "z = np.array([[1, 2, 3]])\n",
    "print(z.T) # đoán xem in ra cái gì?"
   ]
  },
  {
   "cell_type": "markdown",
   "id": "7a66a34d-8abb-40cf-885b-6bcef278c7dc",
   "metadata": {},
   "source": [
    "### Một số thao tác thông dụng"
   ]
  },
  {
   "cell_type": "code",
   "execution_count": 133,
   "id": "525e97cd-c1bf-45d3-a568-3b48d5003594",
   "metadata": {},
   "outputs": [
    {
     "name": "stdout",
     "output_type": "stream",
     "text": [
      "[(b'M', 21, 72.) (b'F', 35, 58.)]\n"
     ]
    }
   ],
   "source": [
    "# đọc dữ liệu từ file\n",
    "from io import StringIO\n",
    "import numpy as np\n",
    "\n",
    "c = StringIO(\"0 1\\n2 3\")\n",
    "x = np.loadtxt(c)  # array([[0., 1.], [2., 3.]])\n",
    "\n",
    "d = StringIO(\"M 21 72\\nF 35 58\")\n",
    "\n",
    "y = np.loadtxt(d, dtype={'names': ('gender', 'age', 'weight'),\n",
    "                         'formats': ('S1', 'i4', 'f4')})\n",
    "print(y)  # [('M', 21, 72.0), ('F', 35, 58.0)]"
   ]
  },
  {
   "cell_type": "code",
   "execution_count": 134,
   "id": "531a8a91-d323-4240-bcae-6ecc76ac5c67",
   "metadata": {},
   "outputs": [
    {
     "name": "stdout",
     "output_type": "stream",
     "text": [
      "[[ 2  2  4]\n",
      " [ 5  5  7]\n",
      " [ 8  8 10]\n",
      " [11 11 13]]\n"
     ]
    }
   ],
   "source": [
    "# cơ chế broadcasting\n",
    "x = np.array([[1, 2, 3], [4, 5, 6], [7, 8, 9], [10, 11,\n",
    "12]])\n",
    "v = np.array([1, 0, 1])\n",
    "y = x + v\n",
    "print(y)"
   ]
  },
  {
   "cell_type": "code",
   "execution_count": 135,
   "id": "7ce706d2-2391-4ed8-b4e5-0640c7c1e823",
   "metadata": {},
   "outputs": [
    {
     "name": "stdout",
     "output_type": "stream",
     "text": [
      "10\n",
      "[4 6]\n",
      "[3 7]\n"
     ]
    }
   ],
   "source": [
    "# tính tổng theo các trục\n",
    "x = np.array([[1, 2], [3, 4]])\n",
    "\n",
    "print(np.sum(x)) # tính tổng toàn bộ x, in \"10“\n",
    "print(np.sum(x, axis=0)) # tính tổng mỗi cột, in \"[4 6]“\n",
    "print(np.sum(x, axis=1)) # tính tổng mỗi hàng, in \"[3 7]\""
   ]
  },
  {
   "cell_type": "code",
   "execution_count": 136,
   "id": "f8cee2f8-4f0b-49ba-b633-73317a22bc84",
   "metadata": {},
   "outputs": [
    {
     "name": "stdout",
     "output_type": "stream",
     "text": [
      "[1 4 5]\n",
      "[1 4 5]\n",
      "[2 2]\n",
      "[2 2]\n"
     ]
    }
   ],
   "source": [
    "# trích xuất dữ liệu theo dãy\n",
    "a = np.array([[1,2], [3, 4], [5, 6]])\n",
    "# Prints \"[1 4 5]\"\n",
    "print(a[[0, 1, 2], [0, 1, 0]])\n",
    "# Prints \"[1 4 5]\"\n",
    "print(np.array([a[0, 0], a[1, 1], a[2, 0]]))\n",
    "# Prints \"[2 2]\"\n",
    "print(a[[0, 0], [1, 1]])\n",
    "# Prints \"[2 2]\"\n",
    "print(np.array([a[0, 1], a[0, 1]]))"
   ]
  },
  {
   "cell_type": "code",
   "execution_count": 137,
   "id": "59b61fa2-95f3-4626-bc9d-e9f57e2be6fc",
   "metadata": {},
   "outputs": [
    {
     "name": "stdout",
     "output_type": "stream",
     "text": [
      "[ 1  6  7 11]\n",
      "[[11  2  3]\n",
      " [ 4  5 16]\n",
      " [17  8  9]\n",
      " [10 21 12]]\n"
     ]
    }
   ],
   "source": [
    "# lọc phần tử theo chỉ số\n",
    "a = np.array([[1, 2, 3], [4, 5, 6], [7, 8, 9], [10, 11, 12]])\n",
    "b = np.array([0, 2, 0, 1]) # b là mảng các chỉ số\n",
    "print(a[np.arange(4), b]) # in ra \"[1 6 7 11]\"\n",
    "# cộng tất cả các phần tử được lọc thêm 10\n",
    "a[np.arange(4), b] += 10\n",
    "print(a)"
   ]
  },
  {
   "cell_type": "code",
   "execution_count": 139,
   "id": "7bf58eb9-3c2a-48b2-9941-aabff79c5555",
   "metadata": {},
   "outputs": [
    {
     "name": "stdout",
     "output_type": "stream",
     "text": [
      "[[False False]\n",
      " [ True  True]\n",
      " [ True  True]]\n",
      "[3 4 5 6]\n",
      "[3 4 5 6]\n"
     ]
    }
   ],
   "source": [
    "# lọc dữ liệu theo điều kiện\n",
    "a = np.array([[1, 2], [3, 4], [5, 6]])\n",
    "bool_idx = (a > 2)\n",
    "print(bool_idx) # in ra \"[[False False]\n",
    "# [ True True]\n",
    "# [ True True]]\"\n",
    "# lọc dữ liệu trong a, trả về một dãy\n",
    "print(a[bool_idx]) # Prints \"[3 4 5 6]\"\n",
    "# có thể viết trực tiếp điều kiện (ngắn gọn hơn)\n",
    "print(a[a > 2])"
   ]
  },
  {
   "cell_type": "code",
   "execution_count": 142,
   "id": "04a1660c-bd5a-41c2-bae3-c5b894483508",
   "metadata": {},
   "outputs": [
    {
     "data": {
      "text/plain": [
       "(3, 2)"
      ]
     },
     "execution_count": 142,
     "metadata": {},
     "output_type": "execute_result"
    }
   ],
   "source": [
    "# điều chỉnh cỡ ma trận\n",
    "x = np.array([[1, 3], [4, 4], [4, 2]])\n",
    "x.shape"
   ]
  },
  {
   "cell_type": "code",
   "execution_count": 143,
   "id": "15c2e45e-ccdf-4515-84ee-0dea8915ffb1",
   "metadata": {},
   "outputs": [
    {
     "data": {
      "text/plain": [
       "array([[1, 3, 4],\n",
       "       [4, 4, 2]])"
      ]
     },
     "execution_count": 143,
     "metadata": {},
     "output_type": "execute_result"
    }
   ],
   "source": [
    "x = np.array([[1, 3], [4, 4], [4, 2]])\n",
    "x = x.reshape(2, 3)\n",
    "x"
   ]
  },
  {
   "cell_type": "code",
   "execution_count": 144,
   "id": "702d84b7-91cc-4167-8c86-aba271c5a7b3",
   "metadata": {},
   "outputs": [
    {
     "data": {
      "text/plain": [
       "array([[1, 3, 4],\n",
       "       [4, 4, 2]])"
      ]
     },
     "execution_count": 144,
     "metadata": {},
     "output_type": "execute_result"
    }
   ],
   "source": [
    "array([[1, 3, 4], [4, 4, 2]])\n",
    "x = np.array([[1, 3], [4, 4], [4, 2]])\n",
    "x = x.reshape(2, -1) #tự tính chiều còn lại\n",
    "x"
   ]
  },
  {
   "cell_type": "code",
   "execution_count": 145,
   "id": "19e7f35f-8099-4b84-aa37-49e403adb87f",
   "metadata": {},
   "outputs": [
    {
     "data": {
      "text/plain": [
       "array([0.        , 0.69314718, 1.09861229])"
      ]
     },
     "execution_count": 145,
     "metadata": {},
     "output_type": "execute_result"
    }
   ],
   "source": [
    "# elementwise operation\n",
    "x = np.array([1, 2, 3]) #// lấy log cơ số e từng phần tử\n",
    "np.log(x)"
   ]
  },
  {
   "cell_type": "code",
   "execution_count": 146,
   "id": "e395cdb3-fccb-4d09-b082-d0d883f4165f",
   "metadata": {},
   "outputs": [
    {
     "data": {
      "text/plain": [
       "array([1, 2, 3])"
      ]
     },
     "execution_count": 146,
     "metadata": {},
     "output_type": "execute_result"
    }
   ],
   "source": [
    "array([ 0, 0.69314718, 1.09861229]) #// lấy trị tuyệt đối từng phần tử\n",
    "np.abs(x)"
   ]
  },
  {
   "cell_type": "code",
   "execution_count": 147,
   "id": "81ac1316-a664-4d68-b52a-3fdbbcb87dc8",
   "metadata": {},
   "outputs": [
    {
     "data": {
      "text/plain": [
       "array([2, 2, 3])"
      ]
     },
     "execution_count": 147,
     "metadata": {},
     "output_type": "execute_result"
    }
   ],
   "source": [
    "array([1, 2, 3])\n",
    "np.maximum(x,2) #so sánh từng phần tử với 2 và lấy max"
   ]
  },
  {
   "cell_type": "code",
   "execution_count": 148,
   "id": "a8afc48c-13be-485b-b89c-a4aa9887e7ee",
   "metadata": {},
   "outputs": [
    {
     "data": {
      "text/plain": [
       "array([1, 2, 2])"
      ]
     },
     "execution_count": 148,
     "metadata": {},
     "output_type": "execute_result"
    }
   ],
   "source": [
    "array([2, 2, 3])\n",
    "np.minimum(x,2) ##so sánh từng phần tử với 2 và lấy min"
   ]
  },
  {
   "cell_type": "code",
   "execution_count": 149,
   "id": "6a523a53-b0ce-4dfc-962a-4e857cf9b01e",
   "metadata": {},
   "outputs": [
    {
     "data": {
      "text/plain": [
       "array([1, 4, 9])"
      ]
     },
     "execution_count": 149,
     "metadata": {},
     "output_type": "execute_result"
    }
   ],
   "source": [
    "array([1, 2, 2])\n",
    "x**2 #// lũy thừa 2 từng phần tử"
   ]
  },
  {
   "cell_type": "code",
   "execution_count": 158,
   "id": "da155ca9-d4fd-4043-bec9-c876ab79de66",
   "metadata": {},
   "outputs": [
    {
     "data": {
      "text/plain": [
       "array([[0, 3],\n",
       "       [4, 3],\n",
       "       [6, 8]])"
      ]
     },
     "execution_count": 158,
     "metadata": {},
     "output_type": "execute_result"
    }
   ],
   "source": [
    "# tính norm cấp 2 của vector\n",
    "# Norm cấp 2 của vector = độ dài vector = sqrt(x1² + x2² + ... + xn²)\n",
    "# |x|₂ = √(x₁² + x₂² + ... + xₙ²)\n",
    "x = np.array([[0, 3], [4, 3], [6, 8]])\n",
    "x"
   ]
  },
  {
   "cell_type": "code",
   "execution_count": 154,
   "id": "421b8556-a570-4dd2-947c-5a91a128884a",
   "metadata": {},
   "outputs": [
    {
     "data": {
      "text/plain": [
       "array([[0, 6],\n",
       "       [4, 0],\n",
       "       [3, 8]])"
      ]
     },
     "execution_count": 154,
     "metadata": {},
     "output_type": "execute_result"
    }
   ],
   "source": [
    "# tính norm mỗi dòng, kết quả: array([[3], [5], [10]])\n",
    "np.linalg.norm(x, axis = 1, keepdims = True)\n",
    "x = np.array([[0, 6], [4, 0], [3, 8]])\n",
    "x"
   ]
  },
  {
   "cell_type": "code",
   "execution_count": 155,
   "id": "2e5314cc-9118-4889-b946-6bbe90b604a1",
   "metadata": {},
   "outputs": [
    {
     "data": {
      "text/plain": [
       "array([[ 5., 10.]])"
      ]
     },
     "execution_count": 155,
     "metadata": {},
     "output_type": "execute_result"
    }
   ],
   "source": [
    "# tính norm mỗi cột, kết quả: array([[5, 10]])\n",
    "np.linalg.norm(x, axis = 0, keepdims = True)"
   ]
  },
  {
   "cell_type": "code",
   "execution_count": 161,
   "id": "21fc128a-f772-473b-8290-d341514d331c",
   "metadata": {},
   "outputs": [
    {
     "data": {
      "text/plain": [
       "array([[0.72959557, 0.50062369],\n",
       "       [0.41389914, 0.6312637 ],\n",
       "       [0.70414508, 0.38807633]])"
      ]
     },
     "execution_count": 161,
     "metadata": {},
     "output_type": "execute_result"
    }
   ],
   "source": [
    "# sinh mảng ngẫu nhiên\n",
    "np.random.random((3, 2)) # mảng 3x2 ngẫu nhiên trong [0,1)"
   ]
  },
  {
   "cell_type": "code",
   "execution_count": 162,
   "id": "eae58937-bce9-4991-b7c3-a71d3ad2b5cf",
   "metadata": {},
   "outputs": [
    {
     "data": {
      "text/plain": [
       "1.0037656393212528"
      ]
     },
     "execution_count": 162,
     "metadata": {},
     "output_type": "execute_result"
    }
   ],
   "source": [
    "np.random.randn() # một số sinh theo phân phối chuẩn"
   ]
  },
  {
   "cell_type": "code",
   "execution_count": 163,
   "id": "66035e85-f75c-488e-a2d6-3e3c634c9be0",
   "metadata": {},
   "outputs": [
    {
     "data": {
      "text/plain": [
       "array([-1.31539516,  0.14465754,  0.39841312])"
      ]
     },
     "execution_count": 163,
     "metadata": {},
     "output_type": "execute_result"
    }
   ],
   "source": [
    "np.random.randn(3) # mảng 3 số theo phân phối chuẩn"
   ]
  },
  {
   "cell_type": "code",
   "execution_count": 164,
   "id": "15652a87-fc31-4b9d-9f72-9ea8937c6306",
   "metadata": {},
   "outputs": [
    {
     "data": {
      "text/plain": [
       "array([[ 0.77860075,  1.36205669,  1.51466625,  0.66307925],\n",
       "       [ 0.7442788 ,  0.21781399,  0.01016413, -0.85133145],\n",
       "       [ 0.29752967,  0.64552424,  0.35299409, -0.44971245]])"
      ]
     },
     "execution_count": 164,
     "metadata": {},
     "output_type": "execute_result"
    }
   ],
   "source": [
    "np.random.randn(3, 4) # mảng 3x4 theo phân phối chuẩn"
   ]
  },
  {
   "cell_type": "code",
   "execution_count": 165,
   "id": "4449ea0c-1437-4322-b7ef-30c717a21aac",
   "metadata": {},
   "outputs": [
    {
     "data": {
      "text/plain": [
       "array([[ 8,  4,  9, 13],\n",
       "       [ 3, 11,  9, 11]], dtype=int32)"
      ]
     },
     "execution_count": 165,
     "metadata": {},
     "output_type": "execute_result"
    }
   ],
   "source": [
    "# mảng 2x4 gồm các số nguyên trong [3,15)\n",
    "np.random.randint(3, 15, (2, 4))"
   ]
  },
  {
   "cell_type": "code",
   "execution_count": 167,
   "id": "e9c08951-972d-45c4-a206-b9a194c5fbfd",
   "metadata": {},
   "outputs": [
    {
     "data": {
      "text/plain": [
       "array([ 4, 12, 14, 13,  1,  2, 19,  7,  5, 10, 18,  3, 11,  9, 15, 17, 16,\n",
       "        8,  6,  0], dtype=int32)"
      ]
     },
     "execution_count": 167,
     "metadata": {},
     "output_type": "execute_result"
    }
   ],
   "source": [
    "# sinh một dãy là hoán vị ngẫu nhiên của dãy (0, 1, 2,..., 19)\n",
    "np.random.permutation(20)"
   ]
  },
  {
   "cell_type": "code",
   "execution_count": 169,
   "id": "a1bcf5b0-4b5c-4a24-b3e3-31636effc21c",
   "metadata": {},
   "outputs": [
    {
     "name": "stdout",
     "output_type": "stream",
     "text": [
      "0.12920973872319438\n",
      "-0.17739333435811264\n",
      "[0.95833765 1.16435264 0.49697028 1.013022  ]\n",
      "[1.2926529  1.62203292 0.43582168]\n"
     ]
    }
   ],
   "source": [
    "# các hàm thống kê\n",
    "a = np.random.randn(3, 4)\n",
    "# tính trung bình của cả ma trận a\n",
    "print(np.mean(a))\n",
    "# tính trung vị của cột đầu tiên\n",
    "print(np.median(a[:,0]))\n",
    "# tính độ lệch chuẩn của từng dòng\n",
    "print(a.std(axis=0))\n",
    "# tính phương sai của từng cột\n",
    "print(a.var(axis=1))"
   ]
  },
  {
   "cell_type": "markdown",
   "id": "54877834-de17-4c2d-a8bc-93dac6aadf75",
   "metadata": {},
   "source": [
    "## Thư viện matplotlib"
   ]
  },
  {
   "cell_type": "markdown",
   "id": "ad24081b-ae2e-43cc-b0f3-80fdb41be852",
   "metadata": {},
   "source": [
    "### Vẽ biểu đồ đơn giản"
   ]
  },
  {
   "cell_type": "code",
   "execution_count": 170,
   "id": "f578c0c3-e490-4883-a503-056051b16406",
   "metadata": {},
   "outputs": [
    {
     "data": {
      "image/png": "[encoded data removed]",
      "text/plain": [
       "<Figure size 640x480 with 1 Axes>"
      ]
     },
     "metadata": {},
     "output_type": "display_data"
    }
   ],
   "source": [
    "import numpy as np # thư viện numpy\n",
    "import matplotlib.pyplot as plt # thư viện pyplot\n",
    "\n",
    "# chia đoạn từ -20 đến 20 thành 1000 đoạn\n",
    "x = np.linspace(-20, 20, 1000)\n",
    "# tính y\n",
    "y = x * x\n",
    "# vẽ biểu đồ tương quan giữa x và y\n",
    "plt.plot(x, y)\n",
    "# hiển thị biểu đồ\n",
    "plt.show()"
   ]
  },
  {
   "cell_type": "code",
   "execution_count": 172,
   "id": "f7e79d1c-b508-474b-bf77-6ef069433bf7",
   "metadata": {},
   "outputs": [
    {
     "data": {
      "image/png": "[encoded data removed]",
      "text/plain": [
       "<Figure size 640x480 with 1 Axes>"
      ]
     },
     "metadata": {},
     "output_type": "display_data"
    }
   ],
   "source": [
    "import numpy as np # thư viện numpy\n",
    "import matplotlib.pyplot as plt # thư viện pyplot\n",
    "\n",
    "# chia đoạn từ 0 đến 3π thành các đoạn con 0.1\n",
    "x = np.arange(0, 3 * np.pi, 0.1)\n",
    "# tính sin tương ứng với từng phần tử của x\n",
    "y = np.sin(x)\n",
    "# vẽ biểu đồ tương quan giữa x và y\n",
    "plt.plot(x, y)\n",
    "# hiển thị biểu đồ\n",
    "plt.show()"
   ]
  },
  {
   "cell_type": "code",
   "execution_count": 174,
   "id": "ca130693-ee2a-4661-8b13-15475d5d0dae",
   "metadata": {},
   "outputs": [
    {
     "data": {
      "image/png": "[encoded data removed]",
      "text/plain": [
       "<Figure size 640x480 with 1 Axes>"
      ]
     },
     "metadata": {},
     "output_type": "display_data"
    }
   ],
   "source": [
    "x = np.arange(0, 3 * np.pi, 0.1)\n",
    "y_sin = np.sin(x)\n",
    "y_cos = np.cos(x)\n",
    "plt.plot(x, y_sin)\n",
    "plt.plot(x, y_cos)\n",
    "plt.xlabel('Trục X')\n",
    "plt.ylabel('Trục Y')\n",
    "plt.title('Hàm SIN và COS trong khoảng 0 đến 3pi')\n",
    "plt.legend(['SIN(x)', 'COS(x)'])\n",
    "plt.show()"
   ]
  },
  {
   "cell_type": "markdown",
   "id": "22b13999-729d-4e20-9422-42bc038f7a22",
   "metadata": {},
   "source": [
    "### Một số loại biểu đồ thông dụng trong matplotlib"
   ]
  },
  {
   "cell_type": "code",
   "execution_count": 175,
   "id": "e2eac281-8afe-44fb-a759-d13f668c1ddb",
   "metadata": {},
   "outputs": [
    {
     "data": {
      "image/png": "[encoded data removed]",
      "text/plain": [
       "<Figure size 640x480 with 1 Axes>"
      ]
     },
     "metadata": {},
     "output_type": "display_data"
    }
   ],
   "source": [
    "# biểu đồ dạng đường\n",
    "# chia đoạn 0-5 thành các bước 0.2\n",
    "\n",
    "t = np.arange(0., 5., 0.2)\n",
    "# Vẽ 3 đường: \n",
    "#- màu đỏ nét đứt: y = x\n",
    "#- màu xanh dương, đánh dấu ô vuông: y = x^2 \n",
    "#- màu xanh lá, đánh dấu tam giác: y = x^3\n",
    "plt.plot(t, t, 'r--', t, t**2, 'bs',\n",
    "t, t**3, 'g^')\n",
    "plt.show()"
   ]
  },
  {
   "cell_type": "code",
   "execution_count": 177,
   "id": "4f439dd0-2343-4ffd-aefc-a9fd0d37f44a",
   "metadata": {},
   "outputs": [
    {
     "data": {
      "image/png": "[encoded data removed]",
      "text/plain": [
       "<Figure size 640x480 with 1 Axes>"
      ]
     },
     "metadata": {},
     "output_type": "display_data"
    }
   ],
   "source": [
    "# biểu đồ dạng cột\n",
    "D = { 'Dược học': 3000,\n",
    "'KT-NH': 900,\n",
    "'QTKD': 2000,\n",
    "'CNTT': 1200,\n",
    "'CK-Oto': 1500,\n",
    "'NN': 500 }\n",
    "plt.bar(range(len(D)), D.values(),\n",
    "align='center')\n",
    "plt.xticks(range(len(D)),\n",
    "D.keys())\n",
    "plt.title('Các ngành tuyển sinh của Đại học Nguyễn Tất Thành')\n",
    "plt.show()"
   ]
  },
  {
   "cell_type": "code",
   "execution_count": 181,
   "id": "44e3a47a-f4ec-48d9-bab3-436d4349cf38",
   "metadata": {},
   "outputs": [
    {
     "data": {
      "image/png": "[encoded data removed]",
      "text/plain": [
       "<Figure size 640x480 with 1 Axes>"
      ]
     },
     "metadata": {},
     "output_type": "display_data"
    }
   ],
   "source": [
    "D = { 'Dược học': 3000,\n",
    "'KT-NH': 900,\n",
    "'QTKD': 2000,\n",
    "'CNTT': 1200,\n",
    "'CK-Oto': 1500,\n",
    "'NN': 500 }\n",
    "plt.barh(range(len(D)),\n",
    "D.values(), align='center')\n",
    "plt.yticks(range(len(D)),\n",
    "D.keys())\n",
    "plt.title('Các ngành tuyển sinh của Đại học Nguyễn Tất Thành')\n",
    "plt.show()"
   ]
  },
  {
   "cell_type": "code",
   "execution_count": 182,
   "id": "f92a8b9e-61b9-4d1f-89f1-6d2a73401696",
   "metadata": {},
   "outputs": [
    {
     "data": {
      "image/png": "[encoded data removed]",
      "text/plain": [
       "<Figure size 640x480 with 1 Axes>"
      ]
     },
     "metadata": {},
     "output_type": "display_data"
    }
   ],
   "source": [
    "plt.bar([1,3,5,7,9],[5,2,7,8,2],\n",
    "label=\"One\")\n",
    "plt.bar([2,4,6,8,10],[8,6,2,5,6]\n",
    "\n",
    ", label=\"Two\", color='g')\n",
    "plt.legend()\n",
    "plt.xlabel('bar number')\n",
    "plt.ylabel('bar height')\n",
    "plt.title('Ghép 2 biểu đồ')\n",
    "plt.show()"
   ]
  },
  {
   "cell_type": "code",
   "execution_count": 184,
   "id": "af4ea8f9-9c10-4d12-8cba-b5a3b98f3d47",
   "metadata": {},
   "outputs": [
    {
     "data": {
      "image/png": "[encoded data removed]",
      "text/plain": [
       "<Figure size 640x480 with 1 Axes>"
      ]
     },
     "metadata": {},
     "output_type": "display_data"
    }
   ],
   "source": [
    "# biểu đồ bánh\n",
    "D = { 'Dược học': 3000,\n",
    "'KT-NH': 900,\n",
    "'QTKD': 2000,\n",
    "'CNTT': 1200,\n",
    "'CK-Oto': 1500,\n",
    "'NN': 500 }\n",
    "plt.pie(D.values(),\n",
    "labels=D.keys(), autopct='%1.1f%%')\n",
    "plt.axis('equal') # trục x = trục y\n",
    "plt.show()"
   ]
  },
  {
   "cell_type": "markdown",
   "id": "73ae8b4d-fe09-4a65-af6f-daa7d4735a92",
   "metadata": {},
   "source": [
    "### Một số chức năng hữu ích"
   ]
  },
  {
   "cell_type": "code",
   "execution_count": 185,
   "id": "35996704-6630-4cfc-9764-44cc7b146d08",
   "metadata": {},
   "outputs": [
    {
     "data": {
      "image/png": "[encoded data removed]",
      "text/plain": [
       "<Figure size 640x480 with 2 Axes>"
      ]
     },
     "metadata": {},
     "output_type": "display_data"
    }
   ],
   "source": [
    "# chia thành các biểu đồ con\n",
    "x = np.arange(0, 3 * np.pi, 0.1)\n",
    "y_sin = np.sin(x)\n",
    "y_cos = np.cos(x)\n",
    "plt.subplot(2, 1, 1) # biểu đồ 1\n",
    "plt.plot(x, y_sin)\n",
    "plt.title('SIN(x)')\n",
    "plt.subplot(2, 1, 2) # biểu đồ 2\n",
    "plt.plot(x, y_cos)\n",
    "plt.title('COS(x)')\n",
    "plt.show()"
   ]
  },
  {
   "cell_type": "code",
   "execution_count": 187,
   "id": "bb73c094-2e7c-4ad2-b490-5002c5211176",
   "metadata": {},
   "outputs": [
    {
     "data": {
      "image/png": "[encoded data removed]",
      "text/plain": [
       "<Figure size 640x480 with 2 Axes>"
      ]
     },
     "metadata": {},
     "output_type": "display_data"
    }
   ],
   "source": [
    "x1 = np.linspace(0.0, 5.0)\n",
    "x2 = np.linspace(0.0, 2.0)\n",
    "y1 = np.cos(2 * np.pi * x1) *np.exp(-x1)\n",
    "y2 = np.cos(2 * np.pi * x2)\n",
    "plt.subplot(2, 1, 1)\n",
    "plt.plot(x1, y1, 'o-')\n",
    "plt.subplot(2, 1, 2)\n",
    "plt.plot(x2, y2, '.-')\n",
    "plt.show()"
   ]
  },
  {
   "cell_type": "code",
   "execution_count": 189,
   "id": "d8a09314-2197-47b8-933b-3212c7602bc4",
   "metadata": {},
   "outputs": [
    {
     "data": {
      "image/png": "[encoded data removed]",
      "text/plain": [
       "<Figure size 500x500 with 4 Axes>"
      ]
     },
     "metadata": {},
     "output_type": "display_data"
    }
   ],
   "source": [
    "import matplotlib.pyplot as plt\n",
    "import matplotlib.image as mpimg\n",
    "\n",
    "#image = mpimg.imread(\"hoahong.jpg\")  \n",
    "# Tạo ảnh mẫu màu đỏ (hoa hồng đỏ)\n",
    "image = np.zeros((100, 100, 3))\n",
    "image[:, :, 0] = 1.0  # Kênh Red = 100%\n",
    "fig, axs = plt.subplots(2, 2, figsize=(5, 5))\n",
    "\n",
    "axs[0, 0].imshow(image)  # Hiển thị ảnh ở ô [0,0]\n",
    "axs[1, 0].imshow(image)  # Hiển thị ảnh ở ô [1,0]\n",
    "axs[0, 1].imshow(image)  # Hiển thị ảnh ở ô [0,1]\n",
    "axs[1, 1].imshow(image)  # Hiển thị ảnh ở ô [1,1]\n",
    "\n",
    "plt.show()"
   ]
  },
  {
   "cell_type": "code",
   "execution_count": 190,
   "id": "0e6e444c-8555-4dec-b17e-da80c3d81e1a",
   "metadata": {},
   "outputs": [
    {
     "data": {
      "text/plain": [
       "<Figure size 640x480 with 0 Axes>"
      ]
     },
     "metadata": {},
     "output_type": "display_data"
    }
   ],
   "source": [
    "# lưu biểu đồ ra file\n",
    "plt.savefig('1.jpg')\n",
    "plt.savefig('1.pdf')"
   ]
  },
  {
   "cell_type": "markdown",
   "id": "686597b3-c990-4ef8-801b-702fd0a17211",
   "metadata": {},
   "source": [
    "## Thư viện Pandas"
   ]
  },
  {
   "cell_type": "markdown",
   "id": "716cbc2e-c98e-45b9-8446-1e0d55ebfd46",
   "metadata": {},
   "source": [
    "### Làm việc với series"
   ]
  },
  {
   "cell_type": "code",
   "execution_count": 191,
   "id": "b555f718-5b1f-472f-9366-7c708d748d9d",
   "metadata": {},
   "outputs": [
    {
     "name": "stdout",
     "output_type": "stream",
     "text": [
      "0    54\n",
      "1    76\n",
      "2    50\n",
      "3    21\n",
      "dtype: int32\n",
      "RangeIndex(start=0, stop=4, step=1)\n",
      "[54 76 50 21]\n"
     ]
    }
   ],
   "source": [
    "import pandas as pd\n",
    "import numpy as np\n",
    "\n",
    "S = pd.Series(np.random.randint(100, size = 4))\n",
    "print(S)\n",
    "print(S.index)\n",
    "print(S.values)"
   ]
  },
  {
   "cell_type": "code",
   "execution_count": 192,
   "id": "c11035d2-2088-4bc2-b6b9-8ee093e5404a",
   "metadata": {},
   "outputs": [
    {
     "name": "stdout",
     "output_type": "stream",
     "text": [
      "Ke toan    310\n",
      "KT         360\n",
      "CNTT       580\n",
      "Co khi     340\n",
      "dtype: int64\n",
      "Index(['Ke toan', 'KT', 'CNTT', 'Co khi'], dtype='object')\n",
      "[310 360 580 340]\n"
     ]
    }
   ],
   "source": [
    "chi_so = [\"Ke toan\", \"KT\", \"CNTT\", \"Co khi\"]\n",
    "gia_tri = [310, 360, 580, 340]\n",
    "S = pd.Series(gia_tri, index=chi_so)\n",
    "print(S)\n",
    "print(S.index)\n",
    "print(S.values)"
   ]
  },
  {
   "cell_type": "code",
   "execution_count": 194,
   "id": "0b09cd48-80de-4cf2-ac52-934e809647cd",
   "metadata": {},
   "outputs": [
    {
     "name": "stdout",
     "output_type": "stream",
     "text": [
      "KT        310\n",
      "KT        360\n",
      "CNTT      580\n",
      "Co khi    340\n",
      "dtype: int64\n",
      "Index(['KT', 'KT', 'CNTT', 'Co khi'], dtype='object')\n",
      "[310 360 580 340]\n"
     ]
    }
   ],
   "source": [
    "chi_so = [\"KT\", \"KT\", \"CNTT\", \"Co khi\"] # trùng nhau\n",
    "gia_tri = [310, 360, 580, 340]\n",
    "S = pd.Series(gia_tri, index=chi_so)\n",
    "print(S)\n",
    "print(S.index)\n",
    "print(S.values)"
   ]
  },
  {
   "cell_type": "code",
   "execution_count": 195,
   "id": "be73f9db-ad22-46ad-8fd0-eb96ac1493e3",
   "metadata": {},
   "outputs": [
    {
     "name": "stdout",
     "output_type": "stream",
     "text": [
      "340\n",
      "KT    310\n",
      "KT    360\n",
      "dtype: int64\n",
      "580\n"
     ]
    }
   ],
   "source": [
    "chi_so = [\"KT\", \"KT\", \"CNTT\", \"Co khi\"] # trùng nhau\n",
    "gia_tri = [310, 360, 580, 340]\n",
    "S = pd.Series(gia_tri, index=chi_so)\n",
    "print(S['Co khi'])\n",
    "print(S['KT'])\n",
    "print(S.CNTT)"
   ]
  },
  {
   "cell_type": "code",
   "execution_count": 197,
   "id": "e689553a-5c80-4fc4-bd70-cda5865279bf",
   "metadata": {},
   "outputs": [
    {
     "name": "stdout",
     "output_type": "stream",
     "text": [
      "CNTT       680.0\n",
      "Co khi       NaN\n",
      "KT           NaN\n",
      "Ke toan      NaN\n",
      "PM           NaN\n",
      "dtype: float64\n"
     ]
    }
   ],
   "source": [
    "chi_so = [\"Ke toan\", \"KT\", \"CNTT\", \"Co khi\"]\n",
    "gia_tri = [310, 360, 580, 340]\n",
    "# chỉ số giống nhau thì tính gộp, nếu không thì NaN\n",
    "S = pd.Series(gia_tri, index=chi_so)\n",
    "P = pd.Series([100, 100], ['CNTT',\n",
    "'PM'])\n",
    "Y = S + P\n",
    "print(Y)"
   ]
  },
  {
   "cell_type": "code",
   "execution_count": 200,
   "id": "9a997f9c-6adf-4646-883b-eb4e353ad39c",
   "metadata": {},
   "outputs": [
    {
     "name": "stdout",
     "output_type": "stream",
     "text": [
      "Ke toan    1310\n",
      "KT         1360\n",
      "CNTT        580\n",
      "Co khi     1340\n",
      "dtype: int64\n"
     ]
    }
   ],
   "source": [
    "# apply() một hàm khác trên series\n",
    "def Tang(x):\n",
    "    return x if x > 500 else x + 1000\n",
    "\n",
    "chi_so = [\"Ke toan\", \"KT\", \"CNTT\", \"Co khi\"]\n",
    "gia_tri = [310, 360, 580, 340]\n",
    "S = pd.Series(gia_tri, chi_so)\n",
    "# áp dụng Tang trên S (không thay đổi S)\n",
    "print(S.apply(Tang))"
   ]
  },
  {
   "cell_type": "markdown",
   "id": "5247771a-8e5e-454c-ae81-1205e6d7bb38",
   "metadata": {},
   "source": [
    "### Làm việc với dataframe"
   ]
  },
  {
   "cell_type": "code",
   "execution_count": 201,
   "id": "4ea59512-b252-4556-807c-40153021d3a4",
   "metadata": {},
   "outputs": [
    {
     "name": "stdout",
     "output_type": "stream",
     "text": [
      "   Year  Population    Total  Violent\n",
      "0  1960   179323175  3384200   288460\n",
      "1  1961   182992000  3488000   289390\n",
      "2  1962   185771000  3752200   301510\n",
      "3  1963   188483000  4109500   316970\n",
      "4  1964   191141000  4564600   364220\n"
     ]
    }
   ],
   "source": [
    "# Tạo dataframe từ list\n",
    "crimes_rates = {\n",
    "\"Year\":[1960,1961,1962,1963,1964],\n",
    "\"Population\":[179323175,182992000,185771000,188483000,\n",
    "191141000],\n",
    "\"Total\":[3384200,3488000,3752200,4109500,4564600],\n",
    "\"Violent\":[288460,289390,301510,316970,364220]\n",
    "}\n",
    "crimes_dataframe = pd.DataFrame(crimes_rates)\n",
    "print(crimes_dataframe)"
   ]
  },
  {
   "cell_type": "code",
   "execution_count": 202,
   "id": "02d2e997-1d31-41a5-95df-88ce5e9071a7",
   "metadata": {},
   "outputs": [
    {
     "name": "stdout",
     "output_type": "stream",
     "text": [
      "   Year  Population    Total  Violent\n",
      "0  1960   179323175  3384200   288460\n",
      "1  1961   182992000  3488000   289390\n",
      "2  1962   185771000  3752200   301510\n",
      "3  1963   188483000  4109500   316970\n",
      "4  1964   191141000  4564600   364220\n"
     ]
    }
   ],
   "source": [
    "# Tạo dataframe từ list các dictionary\n",
    "crimes_rates = {\n",
    "\"Year\":[1960,1961,1962,1963,1964],\n",
    "\"Population\":[179323175,182992000,185771000,188483000,\n",
    "191141000],\n",
    "\"Total\":[3384200,3488000,3752200,4109500,4564600],\n",
    "\"Violent\":[288460,289390,301510,316970,364220]\n",
    "}\n",
    "crimes_dataframe = pd.DataFrame(crimes_rates)\n",
    "print(crimes_dataframe)"
   ]
  },
  {
   "cell_type": "code",
   "execution_count": 203,
   "id": "f9961bf9-5332-440c-975f-98935a8bcf63",
   "metadata": {},
   "outputs": [
    {
     "name": "stdout",
     "output_type": "stream",
     "text": [
      "    one   two\n",
      "1   1.0  1000\n",
      "2  23.0  2400\n",
      "3  45.0  1132\n",
      "4   NaN  3434\n"
     ]
    }
   ],
   "source": [
    "# Tạo dataframe từ list các dictionary\n",
    "data = {\n",
    "\"one\": pd.Series([1,23,45], index = [1,2,3]),\n",
    "\"two\": pd.Series([1000,2400,1132,3434], index =\n",
    "[1,2,3,4])\n",
    "}\n",
    "df = pd.DataFrame(data)\n",
    "print(df)"
   ]
  },
  {
   "cell_type": "markdown",
   "id": "0bac165e-5159-4a4b-bb11-6bf81ef8ef71",
   "metadata": {},
   "source": [
    "### Chọn và nhóm phần tử"
   ]
  },
  {
   "cell_type": "code",
   "execution_count": 206,
   "id": "2037afca-07a3-4bad-931c-2b5658363fb8",
   "metadata": {},
   "outputs": [
    {
     "data": {
      "text/html": [
       "<div>\n",
       "<style scoped>\n",
       "    .dataframe tbody tr th:only-of-type {\n",
       "        vertical-align: middle;\n",
       "    }\n",
       "\n",
       "    .dataframe tbody tr th {\n",
       "        vertical-align: top;\n",
       "    }\n",
       "\n",
       "    .dataframe thead th {\n",
       "        text-align: right;\n",
       "    }\n",
       "</style>\n",
       "<table border=\"1\" class=\"dataframe\">\n",
       "  <thead>\n",
       "    <tr style=\"text-align: right;\">\n",
       "      <th></th>\n",
       "      <th>Y</th>\n",
       "    </tr>\n",
       "    <tr>\n",
       "      <th>X</th>\n",
       "      <th></th>\n",
       "    </tr>\n",
       "  </thead>\n",
       "  <tbody>\n",
       "    <tr>\n",
       "      <th>A</th>\n",
       "      <td>7</td>\n",
       "    </tr>\n",
       "    <tr>\n",
       "      <th>B</th>\n",
       "      <td>3</td>\n",
       "    </tr>\n",
       "  </tbody>\n",
       "</table>\n",
       "</div>"
      ],
      "text/plain": [
       "   Y\n",
       "X   \n",
       "A  7\n",
       "B  3"
      ]
     },
     "execution_count": 206,
     "metadata": {},
     "output_type": "execute_result"
    }
   ],
   "source": [
    "df2 = pd.DataFrame({'X' : ['B', 'B', 'A', 'A'], 'Y' : [1, 2, 3, 4]})\n",
    "df2.groupby(['X']).sum()"
   ]
  },
  {
   "cell_type": "code",
   "execution_count": 207,
   "id": "bb923645-30a2-4a1b-9a31-9ad30cc7c0cd",
   "metadata": {},
   "outputs": [
    {
     "data": {
      "text/html": [
       "<div>\n",
       "<style scoped>\n",
       "    .dataframe tbody tr th:only-of-type {\n",
       "        vertical-align: middle;\n",
       "    }\n",
       "\n",
       "    .dataframe tbody tr th {\n",
       "        vertical-align: top;\n",
       "    }\n",
       "\n",
       "    .dataframe thead th {\n",
       "        text-align: right;\n",
       "    }\n",
       "</style>\n",
       "<table border=\"1\" class=\"dataframe\">\n",
       "  <thead>\n",
       "    <tr style=\"text-align: right;\">\n",
       "      <th></th>\n",
       "      <th>Y</th>\n",
       "    </tr>\n",
       "    <tr>\n",
       "      <th>X</th>\n",
       "      <th></th>\n",
       "    </tr>\n",
       "  </thead>\n",
       "  <tbody>\n",
       "    <tr>\n",
       "      <th>B</th>\n",
       "      <td>3</td>\n",
       "    </tr>\n",
       "    <tr>\n",
       "      <th>A</th>\n",
       "      <td>7</td>\n",
       "    </tr>\n",
       "  </tbody>\n",
       "</table>\n",
       "</div>"
      ],
      "text/plain": [
       "   Y\n",
       "X   \n",
       "B  3\n",
       "A  7"
      ]
     },
     "execution_count": 207,
     "metadata": {},
     "output_type": "execute_result"
    }
   ],
   "source": [
    "df2.groupby(['X'], sort=False).sum()"
   ]
  },
  {
   "cell_type": "code",
   "execution_count": 213,
   "id": "277a016a-4f64-4bdb-bc31-287275b8c0c1",
   "metadata": {},
   "outputs": [
    {
     "name": "stdout",
     "output_type": "stream",
     "text": [
      "   X  Y\n",
      "0  A  1\n",
      "2  A  3\n"
     ]
    }
   ],
   "source": [
    "df3 = pd.DataFrame({'X' : ['A', 'B', 'A', 'B'], 'Y' :\n",
    "[1, 4, 3, 2]})\n",
    "result = df3.groupby(['X']).get_group(('A',))\n",
    "print(result)"
   ]
  },
  {
   "cell_type": "code",
   "execution_count": 214,
   "id": "3c6ceb6a-ccd9-4d74-980c-1382e9f58a61",
   "metadata": {},
   "outputs": [
    {
     "name": "stdout",
     "output_type": "stream",
     "text": [
      "   X  Y\n",
      "1  B  4\n",
      "3  B  2\n"
     ]
    }
   ],
   "source": [
    "result = df3.groupby(['X']).get_group(('B',))\n",
    "print(result)"
   ]
  },
  {
   "cell_type": "markdown",
   "id": "451a730c-dfc6-44d0-af9c-79309989ca25",
   "metadata": {},
   "source": [
    "# Kết thúc"
   ]
  },
  {
   "cell_type": "code",
   "execution_count": null,
   "id": "07598992-c23e-4c42-b7e6-b2b13a6f12e6",
   "metadata": {},
   "outputs": [],
   "source": []
  }
 ],
 "metadata": {
  "kernelspec": {
   "display_name": "Python 3 (ipykernel)",
   "language": "python",
   "name": "python3"
  },
  "language_info": {
   "codemirror_mode": {
    "name": "ipython",
    "version": 3
   },
   "file_extension": ".py",
   "mimetype": "text/x-python",
   "name": "python",
   "nbconvert_exporter": "python",
   "pygments_lexer": "ipython3",
   "version": "3.13.5"
  }
 },
 "nbformat": 4,
 "nbformat_minor": 5
}
