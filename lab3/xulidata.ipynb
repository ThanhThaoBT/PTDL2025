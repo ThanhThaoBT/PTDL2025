{
 "cells": [
  {
   "cell_type": "code",
   "execution_count": 2,
   "id": "ea8071d3-face-4e25-b730-e92d318bf2a6",
   "metadata": {},
   "outputs": [],
   "source": [
    "import pandas as pd\n",
    "import matplotlib.pyplot as plt\n",
    "import seaborn as sns"
   ]
  },
  {
   "cell_type": "code",
   "execution_count": 16,
   "id": "38fb6a0a-8980-4ec5-b96e-63de5356c225",
   "metadata": {},
   "outputs": [],
   "source": [
    "# Định nghĩa tên các cột theo tài liệu UCI\n",
    "columns = [\n",
    "    \"Pregnancies\",            # Số lần mang thai\n",
    "    \"Glucose\",                # Nồng độ glucose huyết tương\n",
    "    \"BloodPressure\",          # Huyết áp tâm trương\n",
    "    \"SkinThickness\",          # Độ dày nếp gấp da (mm)\n",
    "    \"Insulin\",                # Insulin huyết thanh (mu U/ml)\n",
    "    \"BMI\",                    # Chỉ số khối cơ thể\n",
    "    \"DiabetesPedigreeFunction\", # Hàm phả hệ tiểu đường (yếu tố di truyền)\n",
    "    \"Age\",                    # Tuổi\n",
    "    \"Outcome\"                 # Kết quả (0: Không mắc, 1: Mắc tiểu đường)\n",
    "]\n",
    "# Đọc dataset Pima Indians Diabetes\n",
    "df = pd.read_csv(\"pima-indians-diabetes.csv\", header=None, names=columns)"
   ]
  },
  {
   "cell_type": "markdown",
   "id": "28b346a6-5601-42c9-8880-8eb9f7977343",
   "metadata": {},
   "source": [
    "## Xử lý dữ liệu"
   ]
  },
  {
   "cell_type": "markdown",
   "id": "7884461d-557e-4818-93ad-e1977ff21478",
   "metadata": {},
   "source": [
    "### Xử lý dữ liệu trùng lặp"
   ]
  },
  {
   "cell_type": "code",
   "execution_count": 17,
   "id": "f69850e8-d977-427f-a2ea-b091deb9e5b8",
   "metadata": {},
   "outputs": [
    {
     "name": "stdout",
     "output_type": "stream",
     "text": [
      "Số dòng trùng lặp: 0\n",
      "Kích thước sau khi xóa trùng lặp: (768, 9)\n"
     ]
    }
   ],
   "source": [
    "# Kiểm tra dòng trùng lặp\n",
    "duplicates = df.duplicated()\n",
    "print(\"Số dòng trùng lặp:\", duplicates.sum())\n",
    "\n",
    "# Xóa dòng trùng lặp\n",
    "df_cleaned = df.drop_duplicates()\n",
    "print(\"Kích thước sau khi xóa trùng lặp:\", df_cleaned.shape)"
   ]
  },
  {
   "cell_type": "markdown",
   "id": "48000149-ef8d-42a3-b1d0-7631ff9dce7b",
   "metadata": {},
   "source": [
    "### Xác định ngưỡng sinh lý "
   ]
  },
  {
   "cell_type": "code",
   "execution_count": 9,
   "id": "da6eb8b7-d474-434e-850a-6a462164aab8",
   "metadata": {},
   "outputs": [],
   "source": [
    "# NGƯỠNG RỘNG ĐỂ BẢO TOÀN DỮ LIỆU - CHỈ LỌC GIÁ TRỊ VÔ LÝ THỰC SỰ\n",
    "physiological_ranges = {\n",
    "    'Pregnancies': (0, 20),           # Số lần mang thai hợp lý\n",
    "    'Glucose': (20, 300),             # Cho phép cả giá trị bệnh lý cao\n",
    "    'BloodPressure': (40, 200),       # Bao gồm cả tăng huyết áp nặng\n",
    "    'BMI': (10, 80),                  # Bao gồm cả béo phì bệnh lý\n",
    "    'Age': (21, 100)                  # Tuổi hợp lý cho nghiên cứu\n",
    "     # Với các chỉ số khác, có thể chỉ xử lý giá trị 0\n",
    "}"
   ]
  },
  {
   "cell_type": "markdown",
   "id": "ea4176c4-4e43-44b4-8d33-408413b4149c",
   "metadata": {},
   "source": [
    "### Phát hiện dữ liệu lỗi"
   ]
  },
  {
   "cell_type": "code",
   "execution_count": 10,
   "id": "044e0dca-a09c-4708-9e3c-50add4389162",
   "metadata": {},
   "outputs": [
    {
     "name": "stdout",
     "output_type": "stream",
     "text": [
      "=== DỮ LIỆU LỖI PHÁT HIỆN ===\n",
      "Glucose: 5 giá trị lỗi\n",
      "  - Range thực tế: 0 - 199\n",
      "  - Giá trị có vấn đề: [0]\n",
      "BloodPressure: 39 giá trị lỗi\n",
      "  - Range thực tế: 0 - 122\n",
      "  - Giá trị có vấn đề: [ 0 30 24 38]\n",
      "BMI: 11 giá trị lỗi\n",
      "  - Range thực tế: 0.0 - 59.4\n",
      "  - Giá trị có vấn đề: [0.]\n"
     ]
    }
   ],
   "source": [
    "def detect_physiological_errors(df, ranges):\n",
    "    \"\"\"Phát hiện dữ liệu ngoài ngưỡng sinh lý\"\"\"\n",
    "    errors = {}\n",
    "    \n",
    "    for column, (min_val, max_val) in ranges.items():\n",
    "        # Tìm các giá trị ngoài ngưỡng\n",
    "        out_of_range = (df[column] < min_val) | (df[column] > max_val)\n",
    "        error_count = out_of_range.sum()\n",
    "        \n",
    "        if error_count > 0:\n",
    "            errors[column] = {\n",
    "                'count': error_count,\n",
    "                'min_actual': df[column].min(),\n",
    "                'max_actual': df[column].max(),\n",
    "                'problem_values': df[column][out_of_range].unique()\n",
    "            }\n",
    "    \n",
    "    return errors\n",
    "\n",
    "# Phát hiện lỗi\n",
    "errors = detect_physiological_errors(df, physiological_ranges)\n",
    "print(\"=== DỮ LIỆU LỖI PHÁT HIỆN ===\")\n",
    "for col, info in errors.items():\n",
    "    print(f\"{col}: {info['count']} giá trị lỗi\")\n",
    "    print(f\"  - Range thực tế: {info['min_actual']} - {info['max_actual']}\")\n",
    "    print(f\"  - Giá trị có vấn đề: {info['problem_values']}\")"
   ]
  },
  {
   "cell_type": "markdown",
   "id": "07123c8d-fd21-477b-930b-9e0856859cef",
   "metadata": {},
   "source": [
    "### Xử lý dữ liệu lỗi"
   ]
  },
  {
   "cell_type": "code",
   "execution_count": 11,
   "id": "5367236e-245b-4b99-8343-435dba62f94e",
   "metadata": {},
   "outputs": [
    {
     "name": "stdout",
     "output_type": "stream",
     "text": [
      "Số dòng có dữ liệu lỗi nghiêm trọng: 48\n"
     ]
    }
   ],
   "source": [
    "# Chiến lược: XÓA các dòng có dữ liệu lỗi nghiêm trọng\n",
    "def clean_physiological_errors(df, ranges):\n",
    "    \"\"\"Xóa dòng có dữ liệu ngoài ngưỡng sinh lý\"\"\"\n",
    "    \n",
    "    # Tạo mask để đánh dấu dòng lỗi\n",
    "    error_mask = pd.Series(False, index=df.index)\n",
    "    \n",
    "    # Các chỉ số QUAN TRỌNG cần xử lý nghiêm ngặt\n",
    "    critical_columns = ['Glucose', 'BloodPressure', 'BMI', 'Age']\n",
    "    \n",
    "    for column in critical_columns:\n",
    "        min_val, max_val = ranges[column]\n",
    "        # Đánh dấu dòng có giá trị ngoài ngưỡng\n",
    "        error_mask |= (df[column] < min_val) | (df[column] > max_val)\n",
    "    \n",
    "    print(f\"Số dòng có dữ liệu lỗi nghiêm trọng: {error_mask.sum()}\")\n",
    "    \n",
    "    # Giữ lại các dòng KHÔNG có lỗi\n",
    "    df_clean = df[~error_mask].copy()\n",
    "    \n",
    "    return df_clean\n",
    "\n",
    "# Xử lý dữ liệu lỗi\n",
    "df_clean = clean_physiological_errors(df, physiological_ranges)"
   ]
  },
  {
   "cell_type": "markdown",
   "id": "4b0a9b22-3de7-451a-b3fc-23205ee56702",
   "metadata": {},
   "source": [
    "### Xử lý giá trị 0 bất thường"
   ]
  },
  {
   "cell_type": "code",
   "execution_count": 12,
   "id": "da22af28-1b74-438d-9867-57762c3fec70",
   "metadata": {},
   "outputs": [
    {
     "name": "stdout",
     "output_type": "stream",
     "text": [
      "Phát hiện 192 giá trị 0 trong SkinThickness\n",
      "  → Đã thay thế bằng median: 29.00\n"
     ]
    }
   ],
   "source": [
    "# Sau khi xử lý lỗi nghiêm trọng, xử lý giá trị 0\n",
    "def handle_zero_values(df):\n",
    "    \"\"\"Xử lý giá trị 0 bất thường trong các chỉ số sinh học\"\"\"\n",
    "    \n",
    "    # Các cột không được phép có giá trị 0\n",
    "    zero_sensitive_columns = ['Glucose', 'BloodPressure', 'BMI', 'SkinThickness']\n",
    "    \n",
    "    for col in zero_sensitive_columns:\n",
    "        zero_mask = df[col] == 0\n",
    "        if zero_mask.any():\n",
    "            print(f\"Phát hiện {zero_mask.sum()} giá trị 0 trong {col}\")\n",
    "            \n",
    "            # Thay thế bằng median của cột (không bao gồm giá trị 0)\n",
    "            median_val = df[col][df[col] > 0].median()\n",
    "            df.loc[zero_mask, col] = median_val\n",
    "            print(f\"  → Đã thay thế bằng median: {median_val:.2f}\")\n",
    "    \n",
    "    return df\n",
    "\n",
    "# Xử lý giá trị 0\n",
    "df_final = handle_zero_values(df_clean)"
   ]
  },
  {
   "cell_type": "markdown",
   "id": "efcc6e2c-5466-43d6-92a6-7cf5b600f46b",
   "metadata": {},
   "source": [
    "### Kiểm tra kết quả"
   ]
  },
  {
   "cell_type": "code",
   "execution_count": 13,
   "id": "51818281-91e2-421e-be26-084ee044650e",
   "metadata": {},
   "outputs": [
    {
     "name": "stdout",
     "output_type": "stream",
     "text": [
      "=== KẾT QUẢ SAU XỬ LÝ ===\n",
      "Dữ liệu gốc: 767 dòng\n",
      "Sau xử lý: 719 dòng\n",
      "Tỷ lệ giữ lại: 93.7%\n",
      "✅ Tất cả dữ liệu đều trong ngưỡng sinh lý hợp lý\n"
     ]
    }
   ],
   "source": [
    "print(\"=== KẾT QUẢ SAU XỬ LÝ ===\")\n",
    "print(f\"Dữ liệu gốc: {len(df)} dòng\")\n",
    "print(f\"Sau xử lý: {len(df_final)} dòng\")\n",
    "print(f\"Tỷ lệ giữ lại: {len(df_final)/len(df)*100:.1f}%\")\n",
    "\n",
    "# Kiểm tra lại ngưỡng sinh lý\n",
    "final_errors = detect_physiological_errors(df_final, physiological_ranges)\n",
    "if not final_errors:\n",
    "    print(\"✅ Tất cả dữ liệu đều trong ngưỡng sinh lý hợp lý\")\n",
    "else:\n",
    "    print(\"❌ Vẫn còn dữ liệu lỗi:\")\n",
    "    for col, info in final_errors.items():\n",
    "        print(f\"  - {col}: {info['count']} lỗi\")"
   ]
  },
  {
   "cell_type": "code",
   "execution_count": null,
   "id": "ccf5477c-328e-45cb-98c1-c9c0a15f8b09",
   "metadata": {},
   "outputs": [],
   "source": []
  }
 ],
 "metadata": {
  "kernelspec": {
   "display_name": "Python 3 (ipykernel)",
   "language": "python",
   "name": "python3"
  },
  "language_info": {
   "codemirror_mode": {
    "name": "ipython",
    "version": 3
   },
   "file_extension": ".py",
   "mimetype": "text/x-python",
   "name": "python",
   "nbconvert_exporter": "python",
   "pygments_lexer": "ipython3",
   "version": "3.13.5"
  }
 },
 "nbformat": 4,
 "nbformat_minor": 5
}
