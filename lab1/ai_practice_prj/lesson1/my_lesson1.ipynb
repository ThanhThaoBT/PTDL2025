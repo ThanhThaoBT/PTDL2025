{
 "cells": [
  {
   "cell_type": "markdown",
   "id": "038ff3e2-8c6f-4a54-9b53-dcc72ae79ecf",
   "metadata": {},
   "source": [
    "# Thuc hanh Tri tue nhan tao Buoi 1\n",
    "## Noi dung thuc hanh"
   ]
  },
  {
   "cell_type": "markdown",
   "id": "f00a9dce-cbbb-4f48-97d5-f459bfeb1599",
   "metadata": {},
   "source": [
    "### In chu ra man hinh"
   ]
  },
  {
   "cell_type": "code",
   "execution_count": 2,
   "id": "0d12d62a-0c54-4410-aed4-318d479a6bc8",
   "metadata": {},
   "outputs": [
    {
     "name": "stdout",
     "output_type": "stream",
     "text": [
      "Hello, Python World!\n"
     ]
    }
   ],
   "source": [
    "# lenh 1 - xuat chu\n",
    "print(\"Hello, Python World!\")"
   ]
  },
  {
   "cell_type": "markdown",
   "id": "e74a772c-2d87-4974-963b-9c3f888e736b",
   "metadata": {},
   "source": [
    "### Chay tap tin Python"
   ]
  },
  {
   "cell_type": "code",
   "execution_count": 5,
   "id": "7d98f3c7-8b79-48ba-8de5-787a5462fd52",
   "metadata": {},
   "outputs": [
    {
     "name": "stdout",
     "output_type": "stream",
     "text": [
      "Hello, Python World!\n"
     ]
    }
   ],
   "source": [
    "!python ex0_hello_world.py"
   ]
  },
  {
   "cell_type": "code",
   "execution_count": 6,
   "id": "3ec6b194-4f9b-4bd4-9af6-60b664fb00b9",
   "metadata": {},
   "outputs": [
    {
     "name": "stdout",
     "output_type": "stream",
     "text": [
      "Hello, Python World!\n"
     ]
    }
   ],
   "source": [
    "%run ex0_hello_world.py"
   ]
  },
  {
   "cell_type": "markdown",
   "id": "52af64ca-94a1-417b-9d4f-2fbc90fd8199",
   "metadata": {},
   "source": [
    "### Tính toán đơn giản"
   ]
  },
  {
   "cell_type": "code",
   "execution_count": 2,
   "id": "48980937-c3d1-428a-bcac-81b10fa8bac7",
   "metadata": {},
   "outputs": [
    {
     "name": "stdout",
     "output_type": "stream",
     "text": [
      "Calculator Basic\n"
     ]
    },
    {
     "name": "stdin",
     "output_type": "stream",
     "text": [
      "Moi ban nhap so a:  1\n",
      "Moi ban nhap so b:  2\n"
     ]
    },
    {
     "name": "stdout",
     "output_type": "stream",
     "text": [
      "c = 1 + 2 = 3\n"
     ]
    }
   ],
   "source": [
    "%run ex1_calc.py"
   ]
  },
  {
   "cell_type": "code",
   "execution_count": 3,
   "id": "225b1fbc-8d3b-49d5-9f6f-957e1b1f8fca",
   "metadata": {},
   "outputs": [
    {
     "name": "stdout",
     "output_type": "stream",
     "text": [
      "Tinh chu vi va dien tich hinh tron\n"
     ]
    },
    {
     "name": "stdin",
     "output_type": "stream",
     "text": [
      "Nhap ban kinh:  1\n"
     ]
    },
    {
     "name": "stdout",
     "output_type": "stream",
     "text": [
      "Chu vi hinh tron la: 6.283185307179586\n",
      "Dien tich hinh tron la: 3.141592653589793\n"
     ]
    }
   ],
   "source": [
    "%run ex3_circle.py"
   ]
  },
  {
   "cell_type": "markdown",
   "id": "9092d6fe-83bd-4e3a-852d-ea797aa91633",
   "metadata": {},
   "source": [
    "# Ket Thuc"
   ]
  }
 ],
 "metadata": {
  "kernelspec": {
   "display_name": "Python 3 (ipykernel)",
   "language": "python",
   "name": "python3"
  },
  "language_info": {
   "codemirror_mode": {
    "name": "ipython",
    "version": 3
   },
   "file_extension": ".py",
   "mimetype": "text/x-python",
   "name": "python",
   "nbconvert_exporter": "python",
   "pygments_lexer": "ipython3",
   "version": "3.13.5"
  }
 },
 "nbformat": 4,
 "nbformat_minor": 5
}
