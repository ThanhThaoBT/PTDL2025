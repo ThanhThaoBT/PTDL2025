{
 "cells": [
  {
   "cell_type": "markdown",
   "id": "819c661c",
   "metadata": {},
   "source": [
    "# THỰC HÀNH: CÁC GIẢI THUẬT PHÂN LOẠI CƠ BẢN"
   ]
  },
  {
   "cell_type": "markdown",
   "id": "ffcd183f",
   "metadata": {},
   "source": [
    "## A. MỤC TIÊU CHƯƠNG"
   ]
  },
  {
   "cell_type": "markdown",
   "id": "4f70d431",
   "metadata": {},
   "source": [
    "Mục tiêu của phần thực hành các giải thuật phân loại dữ liệu (Data Classification Algorithms)\n",
    "được thiết kế để giúp sinh viên phát triển kỹ năng áp dụng các giải thuật phân loại vào việc\n",
    "giải quyết các bài toán thực tế trong khoa học dữ liệu. Cụ thể, phần thực hành nhằm đạt được\n",
    "các mục tiêu sau: Hiểu và triển khai các thuật toán phân loại: Cây quyết định và rừng cây\n",
    "(Decision Tree & Random Forest), Support Vector Machine (SVM) và Bayes ngây thơ (Naive\n",
    "Bayes) thông qua ngôn ngữ lập trình như Python và sử dụng các thư viện Scikit-learn, SciPy,...\n",
    "\n",
    "Hướng dẫn thực hiện việc triển khai xây dựng một mô hình học máy cổ điển với các bước:\n",
    "- Tiền xử lý dữ liệu: Hướng dẫn cách chuẩn bị dữ liệu, bao gồm xử lý giá trị thiếu, chuẩn hóa\n",
    "dữ liệu, và mã hóa các biến phân loại để phù hợp với yêu cầu của các thuật toán phân loại.\n",
    "- Đánh giá và tối ưu hóa mô hình: sinh viên sẽ thực hành đánh giá hiệu suất mô hình thông qua các chỉ số như accuracy, precision, recall, F1-score và sử dụng các kỹ thuật như cross-\n",
    "validation, grid search để tối ưu hóa tham số.\n",
    "\n",
    "- Phân tích và diễn giải kết quả: Phát triển khả năng diễn giải kết quả phân loại, nhận diện các\n",
    "vấn đề như quá khớp (overfitting) và đề xuất cải tiến."
   ]
  },
  {
   "cell_type": "markdown",
   "id": "6ae83109",
   "metadata": {},
   "source": [
    "## B. KẾT CẤU THỰC HÀNH"
   ]
  },
  {
   "cell_type": "markdown",
   "id": "d7cd34e3",
   "metadata": {},
   "source": [
    "Thực hành bao gồm 3 phần là\n",
    "- Giải thuật cây quyết định và rừng cây\n",
    "- Giải thuật Support Vector Machine (SVM)\n",
    "- Giải thuật Bayes ngây thơ"
   ]
  },
  {
   "cell_type": "markdown",
   "id": "543d613e",
   "metadata": {},
   "source": [
    "## C. NỘI DUNG THỰC HÀNH"
   ]
  },
  {
   "cell_type": "markdown",
   "id": "db0e5de6",
   "metadata": {},
   "source": [
    "### 2.1. GIẢI THUẬT 1: CÂY QUYẾT ĐỊNH VÀ RỪNG CÂY"
   ]
  },
  {
   "cell_type": "markdown",
   "id": "396e7073",
   "metadata": {},
   "source": []
  }
 ],
 "metadata": {
  "kernelspec": {
   "display_name": "base",
   "language": "python",
   "name": "python3"
  },
  "language_info": {
   "codemirror_mode": {
    "name": "ipython",
    "version": 3
   },
   "file_extension": ".py",
   "mimetype": "text/x-python",
   "name": "python",
   "nbconvert_exporter": "python",
   "pygments_lexer": "ipython3",
   "version": "3.13.5"
  }
 },
 "nbformat": 4,
 "nbformat_minor": 5
}
